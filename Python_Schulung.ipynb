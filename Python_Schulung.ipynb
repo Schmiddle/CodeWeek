{
  "nbformat": 4,
  "nbformat_minor": 0,
  "metadata": {
    "colab": {
      "name": "Python_Schulung.ipynb",
      "provenance": [],
      "collapsed_sections": [],
      "authorship_tag": "ABX9TyPkg9JIYNnSlbjSlfWNbcKP",
      "include_colab_link": true
    },
    "kernelspec": {
      "name": "python3",
      "display_name": "Python 3"
    }
  },
  "cells": [
    {
      "cell_type": "markdown",
      "metadata": {
        "id": "view-in-github",
        "colab_type": "text"
      },
      "source": [
        "<a href=\"https://colab.research.google.com/github/Schmiddle/CodeWeek/blob/main/Python_Schulung.ipynb\" target=\"_parent\"><img src=\"https://colab.research.google.com/assets/colab-badge.svg\" alt=\"Open In Colab\"/></a>"
      ]
    },
    {
      "cell_type": "markdown",
      "metadata": {
        "id": "si3-Z2U80k0y"
      },
      "source": [
        "Ihr befindet Euch in einer Python IDE. Eine IDE ist nichts anderes als ein \"grafisches\" Interface für Python. Es beitet Euch zahlreiche hilfreiche Funktionalitäten. Es gibt diverse IDE: Wir nutzen in diesem Fall Notebooks, da sie leicht zu teilen sind und für den Gebrauch aus dem Browser heraus gemacht wurden.\n",
        "\n",
        "> Eingerückter Textblock\n",
        "\n",
        "\n",
        "\n",
        "Wir wollen Euch Python näher bringen. \n",
        "\n",
        "Als erstes nutzen wie Python wie einen Taschenrechner und führen einige leichte Rechenoperationen aus.\n",
        "\n",
        "1) wir addieren 5 zu 5\n",
        "2) wir multiplizieren 5 mal 5\n",
        "3) wir teilen 625 durch 5\n"
      ]
    },
    {
      "cell_type": "code",
      "metadata": {
        "id": "iyR2luBg1uHz",
        "outputId": "1dcc0bc7-3bd9-4345-bb37-2979bf555ea8",
        "colab": {
          "base_uri": "https://localhost:8080/",
          "height": 34
        }
      },
      "source": [
        "#Ein Beispiel \n",
        "print(5 * 5)"
      ],
      "execution_count": null,
      "outputs": [
        {
          "output_type": "stream",
          "text": [
            "25\n"
          ],
          "name": "stdout"
        }
      ]
    },
    {
      "cell_type": "code",
      "metadata": {
        "id": "YChhubbl1_oi"
      },
      "source": [
        "# jetzt Ihr: fangt mit 1 an"
      ],
      "execution_count": null,
      "outputs": []
    },
    {
      "cell_type": "code",
      "metadata": {
        "id": "FI0lacjm2D2g"
      },
      "source": [
        "# Wir machen mit 2 weiter"
      ],
      "execution_count": null,
      "outputs": []
    },
    {
      "cell_type": "code",
      "metadata": {
        "id": "60SkqLsi2FnY"
      },
      "source": [
        "# Und jetzt 3"
      ],
      "execution_count": null,
      "outputs": []
    },
    {
      "cell_type": "markdown",
      "metadata": {
        "id": "YD38qde55RnZ"
      },
      "source": [
        "Ihr könnt in Python Variable vergeben und diese immer wieder verwenden oder verändern. Probiert es doch mal aus. "
      ]
    },
    {
      "cell_type": "code",
      "metadata": {
        "id": "HkZPKue75fMn"
      },
      "source": [
        "result = 5 + 5"
      ],
      "execution_count": null,
      "outputs": []
    },
    {
      "cell_type": "code",
      "metadata": {
        "id": "RroxC-ar5lsZ"
      },
      "source": [
        "result = result + 5"
      ],
      "execution_count": null,
      "outputs": []
    },
    {
      "cell_type": "code",
      "metadata": {
        "id": "QWjYxbXD5tZJ",
        "outputId": "26061cee-0d6f-4597-82ca-76dbe8538065",
        "colab": {
          "base_uri": "https://localhost:8080/",
          "height": 34
        }
      },
      "source": [
        "print(result)"
      ],
      "execution_count": null,
      "outputs": [
        {
          "output_type": "stream",
          "text": [
            "15\n"
          ],
          "name": "stdout"
        }
      ]
    },
    {
      "cell_type": "markdown",
      "metadata": {
        "id": "7WscsyDH2xrC"
      },
      "source": [
        "Sagen wir ihr überlegt Geburtstag zu feiern. Eine Party zu organisieren kostet Zeit und Nerven aber ihr erwartet Geschenke in Form von Geld. Solltet ihr feiern? Lohnt sich das für Euch? Finden wirs raus.\n",
        "\n",
        "Die Party zu organisieren kostet Euch 15 Stunden arbeitszeit. Da ihr noch keinen Vollzeitjob habt, sondern nur Zeitungen austragt, kostet eine Stunde von euch 7 Euro. Natürlich möchten Leute noch essen und trinken, auch ein Dj darf nicht fehlen. Der DJ nimmt für den Abend 100 Euro. Pro Person kostet Euch das Essen und Trinken 12 Euro. Ihr wollt erstmal nur eure wichtigsten Freunde einladen, daher rechnet ihr mit 10 Personen."
      ]
    },
    {
      "cell_type": "code",
      "metadata": {
        "id": "uQhXj1q22HoP"
      },
      "source": [
        "## Berechnet doch mal wie teuer die Party wird und speichert es in eine Variable\n"
      ],
      "execution_count": null,
      "outputs": []
    },
    {
      "cell_type": "code",
      "metadata": {
        "id": "FGa5ndpt2-_z"
      },
      "source": [
        ""
      ],
      "execution_count": null,
      "outputs": []
    },
    {
      "cell_type": "code",
      "metadata": {
        "id": "BGSjq2oa2_Jz"
      },
      "source": [
        ""
      ],
      "execution_count": null,
      "outputs": []
    },
    {
      "cell_type": "code",
      "metadata": {
        "id": "KYRylh-92_P_"
      },
      "source": [
        ""
      ],
      "execution_count": null,
      "outputs": []
    },
    {
      "cell_type": "code",
      "metadata": {
        "id": "vb3LEkut2_Sn"
      },
      "source": [
        ""
      ],
      "execution_count": null,
      "outputs": []
    },
    {
      "cell_type": "code",
      "metadata": {
        "id": "QTeChnH92_VU"
      },
      "source": [
        ""
      ],
      "execution_count": null,
      "outputs": []
    },
    {
      "cell_type": "code",
      "metadata": {
        "id": "89PxGZKa2_Xt"
      },
      "source": [
        ""
      ],
      "execution_count": null,
      "outputs": []
    },
    {
      "cell_type": "code",
      "metadata": {
        "id": "kh6n1sAk2_bO"
      },
      "source": [
        "# Lösung\n",
        "kosten = (15 * 7) + 100 + (10 * 12)"
      ],
      "execution_count": null,
      "outputs": []
    },
    {
      "cell_type": "markdown",
      "metadata": {
        "id": "0bOnlhlH4r7H"
      },
      "source": [
        "Ihr geht davon aus, dass eine Person die auf eure Party kommt euch 20 Euro schenkt. Lohnt sich die party also?\n"
      ]
    },
    {
      "cell_type": "code",
      "metadata": {
        "id": "PZ1OXcSV3wyZ"
      },
      "source": [
        "## Was werdet ihr einnehmen? auch hier speichert das Ergebnis in einer Variable ab\n"
      ],
      "execution_count": null,
      "outputs": []
    },
    {
      "cell_type": "code",
      "metadata": {
        "id": "iz6IM10K3Ki2"
      },
      "source": [
        ""
      ],
      "execution_count": null,
      "outputs": []
    },
    {
      "cell_type": "code",
      "metadata": {
        "id": "09cVWFgg3Kqr"
      },
      "source": [
        ""
      ],
      "execution_count": null,
      "outputs": []
    },
    {
      "cell_type": "code",
      "metadata": {
        "id": "ZgStFXbX3KtY"
      },
      "source": [
        ""
      ],
      "execution_count": null,
      "outputs": []
    },
    {
      "cell_type": "code",
      "metadata": {
        "id": "1bagOe4a3K1M"
      },
      "source": [
        ""
      ],
      "execution_count": null,
      "outputs": []
    },
    {
      "cell_type": "code",
      "metadata": {
        "id": "EpTf3Owj3K4G"
      },
      "source": [
        ""
      ],
      "execution_count": null,
      "outputs": []
    },
    {
      "cell_type": "code",
      "metadata": {
        "id": "Vy1Rj1TI3K_C"
      },
      "source": [
        "# Lösung\n",
        "einnahmen = 20 * 10"
      ],
      "execution_count": null,
      "outputs": []
    },
    {
      "cell_type": "code",
      "metadata": {
        "id": "QNpOG7VV5Jb8"
      },
      "source": [
        "## Lohnt sich die Party\n"
      ],
      "execution_count": null,
      "outputs": []
    },
    {
      "cell_type": "code",
      "metadata": {
        "id": "3kJdGUW13SL-"
      },
      "source": [
        ""
      ],
      "execution_count": null,
      "outputs": []
    },
    {
      "cell_type": "code",
      "metadata": {
        "id": "tETxYwJh3SOm"
      },
      "source": [
        ""
      ],
      "execution_count": null,
      "outputs": []
    },
    {
      "cell_type": "code",
      "metadata": {
        "id": "XT7n-EkK3SSK"
      },
      "source": [
        ""
      ],
      "execution_count": null,
      "outputs": []
    },
    {
      "cell_type": "code",
      "metadata": {
        "id": "OtKznEUv3SUo"
      },
      "source": [
        ""
      ],
      "execution_count": null,
      "outputs": []
    },
    {
      "cell_type": "code",
      "metadata": {
        "id": "muaqKfYl3SW8"
      },
      "source": [
        ""
      ],
      "execution_count": null,
      "outputs": []
    },
    {
      "cell_type": "code",
      "metadata": {
        "id": "1oVhlDL83SZi"
      },
      "source": [
        ""
      ],
      "execution_count": null,
      "outputs": []
    },
    {
      "cell_type": "code",
      "metadata": {
        "id": "qS7ihl7b3Scf"
      },
      "source": [
        ""
      ],
      "execution_count": null,
      "outputs": []
    },
    {
      "cell_type": "code",
      "metadata": {
        "id": "n9woyPhN3Sfc"
      },
      "source": [
        "# Lösung\n",
        "print('Einnahmen sind größer als Kosten:', einnahmen > kosten)"
      ],
      "execution_count": null,
      "outputs": []
    },
    {
      "cell_type": "markdown",
      "metadata": {
        "id": "lv1IUAcU8EDz"
      },
      "source": [
        "Variable haben bestimmte Typen: Texte werden in Form von strings gespeichert.\n",
        "Zahlen in Form von Ints oder floats, je nach dem, ob sie nachkommastellen besitzen oder nicht. Es gibt auch Boolensche Ausdrücke. Schauen wir uns doch mal die Typen unserer Variablen an"
      ]
    },
    {
      "cell_type": "code",
      "metadata": {
        "id": "9nzkDzWi8DI9",
        "outputId": "dbe096fd-453b-436d-c7af-97ad80655dc9",
        "colab": {
          "base_uri": "https://localhost:8080/",
          "height": 34
        }
      },
      "source": [
        "type(kosten), type(einnahmen), type(einnahmen > kosten)"
      ],
      "execution_count": null,
      "outputs": [
        {
          "output_type": "execute_result",
          "data": {
            "text/plain": [
              "(int, int, bool)"
            ]
          },
          "metadata": {
            "tags": []
          },
          "execution_count": 4
        }
      ]
    },
    {
      "cell_type": "markdown",
      "metadata": {
        "id": "kJ8o0_CJ9KId"
      },
      "source": [
        "Die Party lohnt sich wohl so nicht. Was können wir machen? Wir haben recht viele Fixkosten für die Orga und den DJ. Die Kosten pro Person jedoch sind kleiner als die möglichen Einnahmen pro Person. Wir könnten also mehr Leute einladen, um unsere Einnahmen zu erhöhen. Aber wieviele müssen wir einladen?"
      ]
    },
    {
      "cell_type": "markdown",
      "metadata": {
        "id": "uyzFUQaR9XLz"
      },
      "source": [
        "Um das zu beantworten brauchen wir eine for loop. "
      ]
    },
    {
      "cell_type": "code",
      "metadata": {
        "id": "sN_OZOGG-dYR",
        "outputId": "8546672b-b74a-404d-b127-6dfc03dff622",
        "colab": {
          "base_uri": "https://localhost:8080/",
          "height": 185
        }
      },
      "source": [
        "for a in range(0,10):\n",
        "  print(a)"
      ],
      "execution_count": null,
      "outputs": [
        {
          "output_type": "stream",
          "text": [
            "0\n",
            "1\n",
            "2\n",
            "3\n",
            "4\n",
            "5\n",
            "6\n",
            "7\n",
            "8\n",
            "9\n"
          ],
          "name": "stdout"
        }
      ]
    },
    {
      "cell_type": "code",
      "metadata": {
        "id": "aQBy6_os_oit",
        "outputId": "22e7cf59-2536-4c02-9bdd-f971723ba417",
        "colab": {
          "base_uri": "https://localhost:8080/",
          "height": 34
        }
      },
      "source": [
        "i"
      ],
      "execution_count": null,
      "outputs": [
        {
          "output_type": "execute_result",
          "data": {
            "text/plain": [
              "9"
            ]
          },
          "metadata": {
            "tags": []
          },
          "execution_count": 29
        }
      ]
    },
    {
      "cell_type": "code",
      "metadata": {
        "id": "WBSGpm8u-9n1",
        "outputId": "35c8ed09-37a4-42a2-8016-75877a8b8dcb",
        "colab": {
          "base_uri": "https://localhost:8080/",
          "height": 185
        }
      },
      "source": [
        "i = 0\n",
        "for i in range(0, 10):\n",
        "  i += 1\n",
        "  print(i)\n"
      ],
      "execution_count": null,
      "outputs": [
        {
          "output_type": "stream",
          "text": [
            "1\n",
            "2\n",
            "3\n",
            "4\n",
            "5\n",
            "6\n",
            "7\n",
            "8\n",
            "9\n",
            "10\n"
          ],
          "name": "stdout"
        }
      ]
    },
    {
      "cell_type": "code",
      "metadata": {
        "id": "sZrmEiJL_2HS",
        "outputId": "9f27ed77-c1e5-42db-9cfa-5be69d8b1bdf",
        "colab": {
          "base_uri": "https://localhost:8080/",
          "height": 34
        }
      },
      "source": [
        "i"
      ],
      "execution_count": null,
      "outputs": [
        {
          "output_type": "execute_result",
          "data": {
            "text/plain": [
              "10"
            ]
          },
          "metadata": {
            "tags": []
          },
          "execution_count": 31
        }
      ]
    },
    {
      "cell_type": "markdown",
      "metadata": {
        "id": "UdZ3HO1U-e_1"
      },
      "source": [
        "Und jetzt Ihr: Wir möchten solange die Anzahl der Gäste erhöhen bis die Einnahmen die Kosten übersteigen. Schreibt eine for loop die jede Anzahl von 1 bis 100 ausprobiert. Ab wievielen Gästen lohnt sich die Party das erste mal?"
      ]
    },
    {
      "cell_type": "code",
      "metadata": {
        "id": "eid7VCKH3ncI"
      },
      "source": [
        "for anz_gäste in range(1,100):\n",
        "  kosten = (15 * 7) + 100 + (anz_gäste * 12)"
      ],
      "execution_count": null,
      "outputs": []
    },
    {
      "cell_type": "code",
      "metadata": {
        "id": "FbtuRxbW5Jhs"
      },
      "source": [
        "# Lets go\n",
        "\n"
      ],
      "execution_count": null,
      "outputs": []
    },
    {
      "cell_type": "code",
      "metadata": {
        "id": "M6y9N2jy3cBg"
      },
      "source": [
        ""
      ],
      "execution_count": null,
      "outputs": []
    },
    {
      "cell_type": "code",
      "metadata": {
        "id": "Z-K2pJz43cD4"
      },
      "source": [
        ""
      ],
      "execution_count": null,
      "outputs": []
    },
    {
      "cell_type": "code",
      "metadata": {
        "id": "11oqni4m3cGJ"
      },
      "source": [
        ""
      ],
      "execution_count": null,
      "outputs": []
    },
    {
      "cell_type": "code",
      "metadata": {
        "id": "c5Bq6tmq3cId"
      },
      "source": [
        ""
      ],
      "execution_count": null,
      "outputs": []
    },
    {
      "cell_type": "code",
      "metadata": {
        "id": "2ra9Ttcg3cMk"
      },
      "source": [
        ""
      ],
      "execution_count": null,
      "outputs": []
    },
    {
      "cell_type": "code",
      "metadata": {
        "id": "XnM90l6L3cRS"
      },
      "source": [
        ""
      ],
      "execution_count": null,
      "outputs": []
    },
    {
      "cell_type": "code",
      "metadata": {
        "id": "vwvobjsC3cUD"
      },
      "source": [
        ""
      ],
      "execution_count": null,
      "outputs": []
    },
    {
      "cell_type": "code",
      "metadata": {
        "id": "qUaA7vrG3cyX"
      },
      "source": [
        ""
      ],
      "execution_count": null,
      "outputs": []
    },
    {
      "cell_type": "code",
      "metadata": {
        "id": "GBv_zbKP3c0z"
      },
      "source": [
        ""
      ],
      "execution_count": null,
      "outputs": []
    },
    {
      "cell_type": "code",
      "metadata": {
        "id": "uF4gDW0r3cQF"
      },
      "source": [
        ""
      ],
      "execution_count": null,
      "outputs": []
    },
    {
      "cell_type": "code",
      "metadata": {
        "id": "ti7L0leq3cLF"
      },
      "source": [
        "# Lösung:\n",
        "for anz_gäste in range(1,100):\n",
        "  kosten = (15 * 7) + 100 + (anz_gäste * 12)\n",
        "  einnahmen = 20 * anz_gäste\n",
        "  print('Anzahl der Gäste:', anz_gäste), print('Lohnt es sich:', einnahmen > kosten)"
      ],
      "execution_count": null,
      "outputs": []
    },
    {
      "cell_type": "markdown",
      "metadata": {
        "id": "D78L_jco_-6b"
      },
      "source": [
        "Das geht jedoch schöner. Funktionen sind essenziel fürs Programmieren. Sie erlauben es uns, Code so zu schreiben, dass er wiederverwendbar ist."
      ]
    },
    {
      "cell_type": "code",
      "metadata": {
        "id": "qSf6ulHa_-MK"
      },
      "source": [
        "def simple_print(what_to_print):\n",
        "  print(what_to_print)"
      ],
      "execution_count": null,
      "outputs": []
    },
    {
      "cell_type": "code",
      "metadata": {
        "id": "jyXnFN895JjQ",
        "outputId": "0e48cb75-cb42-4d87-c6f2-a2495d541e19",
        "colab": {
          "base_uri": "https://localhost:8080/",
          "height": 34
        }
      },
      "source": [
        "simple_print('lala')\n"
      ],
      "execution_count": null,
      "outputs": [
        {
          "output_type": "stream",
          "text": [
            "lala\n"
          ],
          "name": "stdout"
        }
      ]
    },
    {
      "cell_type": "code",
      "metadata": {
        "id": "nXQzJr9X5JmU"
      },
      "source": [
        "## Baut eine Funktion die zwei Zahlen addiert\n"
      ],
      "execution_count": null,
      "outputs": []
    },
    {
      "cell_type": "code",
      "metadata": {
        "id": "lgYiX5lF3tO9"
      },
      "source": [
        ""
      ],
      "execution_count": null,
      "outputs": []
    },
    {
      "cell_type": "code",
      "metadata": {
        "id": "W_Ezkpaf3tRY"
      },
      "source": [
        ""
      ],
      "execution_count": null,
      "outputs": []
    },
    {
      "cell_type": "code",
      "metadata": {
        "id": "4_ZYQAlX3tV3"
      },
      "source": [
        ""
      ],
      "execution_count": null,
      "outputs": []
    },
    {
      "cell_type": "code",
      "metadata": {
        "id": "aj_mONVw3tYs"
      },
      "source": [
        ""
      ],
      "execution_count": null,
      "outputs": []
    },
    {
      "cell_type": "code",
      "metadata": {
        "id": "EG29D1bs3tcZ"
      },
      "source": [
        ""
      ],
      "execution_count": null,
      "outputs": []
    },
    {
      "cell_type": "code",
      "metadata": {
        "id": "M4iR5i0b3tg1"
      },
      "source": [
        ""
      ],
      "execution_count": null,
      "outputs": []
    },
    {
      "cell_type": "code",
      "metadata": {
        "id": "nxOimFP_3tlH"
      },
      "source": [
        "# Lösung\n",
        "def addition_zwei_zahlen(zahl1, zahl2):\n",
        "  ergebnis = zahl1 + zahl2\n",
        "  return ergebnis"
      ],
      "execution_count": null,
      "outputs": []
    },
    {
      "cell_type": "code",
      "metadata": {
        "id": "F777QM-rCV80",
        "outputId": "83718c78-a0d2-4705-ce46-98614e2972fe",
        "colab": {
          "base_uri": "https://localhost:8080/",
          "height": 34
        }
      },
      "source": [
        "additions_ergebnis = addition_zwei_zahlen(5, 5)\n",
        "print(additions_ergebnis)"
      ],
      "execution_count": null,
      "outputs": [
        {
          "output_type": "stream",
          "text": [
            "10\n"
          ],
          "name": "stdout"
        }
      ]
    },
    {
      "cell_type": "code",
      "metadata": {
        "id": "MpiBTzxwCeYl"
      },
      "source": [
        "## Verpackt unsere Kosten vs. Einnahmen Rechnung in eine Funktion \n",
        "## schreibt diese jedoch in eine gewinnfunktion um\n",
        "## Hint: gewinn = Einnahmen - Kosten\n"
      ],
      "execution_count": null,
      "outputs": []
    },
    {
      "cell_type": "code",
      "metadata": {
        "id": "k2QboM4D324w"
      },
      "source": [
        ""
      ],
      "execution_count": null,
      "outputs": []
    },
    {
      "cell_type": "code",
      "metadata": {
        "id": "MZvXVn4C3293"
      },
      "source": [
        ""
      ],
      "execution_count": null,
      "outputs": []
    },
    {
      "cell_type": "code",
      "metadata": {
        "id": "7ZB_Ew0n33DL"
      },
      "source": [
        ""
      ],
      "execution_count": null,
      "outputs": []
    },
    {
      "cell_type": "code",
      "metadata": {
        "id": "M0tzURir33HT"
      },
      "source": [
        ""
      ],
      "execution_count": null,
      "outputs": []
    },
    {
      "cell_type": "code",
      "metadata": {
        "id": "uzwyZ-D933Kz"
      },
      "source": [
        ""
      ],
      "execution_count": null,
      "outputs": []
    },
    {
      "cell_type": "code",
      "metadata": {
        "id": "YxruiBLe33F5"
      },
      "source": [
        ""
      ],
      "execution_count": null,
      "outputs": []
    },
    {
      "cell_type": "code",
      "metadata": {
        "id": "isnfVoBd33A-"
      },
      "source": [
        ""
      ],
      "execution_count": null,
      "outputs": []
    },
    {
      "cell_type": "code",
      "metadata": {
        "id": "Wust23jK328D"
      },
      "source": [
        ""
      ],
      "execution_count": null,
      "outputs": []
    },
    {
      "cell_type": "code",
      "metadata": {
        "id": "jW4eYvrx322l"
      },
      "source": [
        "# Lösung\n",
        "def einnahmen_vs_kosten_party(anz_gäste):\n",
        "  kosten = (15 * 7) + 100 + (anz_gäste * 12)\n",
        "  einnahmen = 20 * anz_gäste\n",
        "  gewinn = einnahmen - kosten\n",
        "  return gewinn"
      ],
      "execution_count": null,
      "outputs": []
    },
    {
      "cell_type": "code",
      "metadata": {
        "id": "pHYYl1W6DXMM",
        "outputId": "8df6c236-8e1d-4367-b9a0-6c983167f6e4",
        "colab": {
          "base_uri": "https://localhost:8080/",
          "height": 34
        }
      },
      "source": [
        "einnahmen_vs_kosten_party(1)"
      ],
      "execution_count": null,
      "outputs": [
        {
          "output_type": "execute_result",
          "data": {
            "text/plain": [
              "-197"
            ]
          },
          "metadata": {
            "tags": []
          },
          "execution_count": 44
        }
      ]
    },
    {
      "cell_type": "code",
      "metadata": {
        "id": "mBv2H-QaDaNA",
        "outputId": "c9c04adc-fb47-4337-92bc-6f120e5f6582",
        "colab": {
          "base_uri": "https://localhost:8080/",
          "height": 34
        }
      },
      "source": [
        "einnahmen_vs_kosten_party(26)"
      ],
      "execution_count": null,
      "outputs": [
        {
          "output_type": "execute_result",
          "data": {
            "text/plain": [
              "3"
            ]
          },
          "metadata": {
            "tags": []
          },
          "execution_count": 46
        }
      ]
    },
    {
      "cell_type": "markdown",
      "metadata": {
        "id": "qV2IsGQpDwrF"
      },
      "source": [
        "Sehr ihr: Wir sparren uns die ständige Wiederholung im Code und müssen nur einmal diese Funktion benutzen. \n",
        "Ein weiteres wichtiges Konzept sind If else Bedingungen."
      ]
    },
    {
      "cell_type": "code",
      "metadata": {
        "id": "2JwREEeUEwEe",
        "outputId": "a1303d80-0320-41a1-b375-8793470df14c",
        "colab": {
          "base_uri": "https://localhost:8080/",
          "height": 34
        }
      },
      "source": [
        "for i in range(1, 10):\n",
        "  if i == 5:\n",
        "    print(i)\n",
        "  else:\n",
        "    pass"
      ],
      "execution_count": null,
      "outputs": [
        {
          "output_type": "stream",
          "text": [
            "5\n"
          ],
          "name": "stdout"
        }
      ]
    },
    {
      "cell_type": "code",
      "metadata": {
        "id": "5d8qSgm4F7Tv",
        "outputId": "81059198-829a-4dfb-88a6-64bc9df2ca5b",
        "colab": {
          "base_uri": "https://localhost:8080/",
          "height": 84
        }
      },
      "source": [
        "for i in range(1, 10):\n",
        "  if i == 5:\n",
        "    break \n",
        "  else:\n",
        "    print(i)"
      ],
      "execution_count": null,
      "outputs": [
        {
          "output_type": "stream",
          "text": [
            "1\n",
            "2\n",
            "3\n",
            "4\n"
          ],
          "name": "stdout"
        }
      ]
    },
    {
      "cell_type": "markdown",
      "metadata": {
        "id": "Y8swZhRFEyNq"
      },
      "source": [
        "Jetzt können wir noch den letzten Schritt in eine Funktion stecken. Baut eine Funktion, die uns die Mindestanzahl an Leuten generiert, ab wann sich eine Party lohnt. "
      ]
    },
    {
      "cell_type": "code",
      "metadata": {
        "id": "uZbJJSdhDrzE"
      },
      "source": [
        "def ab_wann_lohnt_sich_die_party():\n",
        "  for anz_gäste in range(1, 100):\n",
        "    gewinn = einnahmen_vs_kosten_party(anz_gäste)\n",
        "    if gewinn > 0:\n",
        "      min_anz_gäste = anz_gäste\n",
        "      break\n",
        "    else:\n",
        "      pass\n",
        "  return min_anz_gäste"
      ],
      "execution_count": null,
      "outputs": []
    },
    {
      "cell_type": "code",
      "metadata": {
        "id": "OnNYV2vwFDF1"
      },
      "source": [
        "min_anz_gäste = ab_wann_lohnt_sich_die_party()"
      ],
      "execution_count": null,
      "outputs": []
    },
    {
      "cell_type": "code",
      "metadata": {
        "id": "9aYYpwRWFHk3",
        "outputId": "ac7c408f-3096-4c6d-c263-5e1705b45407",
        "colab": {
          "base_uri": "https://localhost:8080/",
          "height": 34
        }
      },
      "source": [
        "min_anz_gäste"
      ],
      "execution_count": null,
      "outputs": [
        {
          "output_type": "execute_result",
          "data": {
            "text/plain": [
              "26"
            ]
          },
          "metadata": {
            "tags": []
          },
          "execution_count": 55
        }
      ]
    },
    {
      "cell_type": "markdown",
      "metadata": {
        "id": "J1rwZXvDGJ_e"
      },
      "source": [
        "Programmieren lebt von der Gemeinschaft. Vom offenen Umgang mit Ideen und Code und dem Teilen. Viele andere Menschen stecken ihre Zeit und Hingabe (oft ohne einen Euro dafür zu bekommen) in die Entwicklung von Tools, die anderen das Leben erleichtern. In Python sind das Packages, die uns zur Nutzung bereitstehen. Erinnert ihr euch an unsere Additionsfunktion? Nun, die hätten wir nicht schreiben müssen.\n",
        "\n"
      ]
    },
    {
      "cell_type": "code",
      "metadata": {
        "id": "2dskPS-4HDQn"
      },
      "source": [
        "additions_ergebnis = addition_zwei_zahlen(5, 5)"
      ],
      "execution_count": null,
      "outputs": []
    },
    {
      "cell_type": "code",
      "metadata": {
        "id": "vkTb9PuEHFD5",
        "outputId": "a6cbac11-a22f-47e4-f2f8-c146232615af",
        "colab": {
          "base_uri": "https://localhost:8080/",
          "height": 34
        }
      },
      "source": [
        "import numpy as np\n",
        "np.sum([5 ,5])"
      ],
      "execution_count": null,
      "outputs": [
        {
          "output_type": "execute_result",
          "data": {
            "text/plain": [
              "10"
            ]
          },
          "metadata": {
            "tags": []
          },
          "execution_count": 61
        }
      ]
    },
    {
      "cell_type": "markdown",
      "metadata": {
        "id": "BKVtJLoiHZHp"
      },
      "source": [
        "Folgende Aufgabe: Schreibt mir eine funktion, die zufällige Integers in einem von mir einstellbaren Bereich generiert. Auch die Anzahl der zufällig gezogenen Zahlen soll von mir einstellbar sein.\n",
        "\n"
      ]
    },
    {
      "cell_type": "code",
      "metadata": {
        "id": "CDEvqFdnHYEw"
      },
      "source": [
        "def draw_random_int():\n",
        "  return"
      ],
      "execution_count": null,
      "outputs": []
    },
    {
      "cell_type": "markdown",
      "metadata": {
        "id": "NtHXU9h4IE9w"
      },
      "source": [
        "Na, etwas drauf rumgedacht? ist nicht so einfach oder? Nun, wie gesagt, dank der arbeit von anderen ist das absolut kein Problem"
      ]
    },
    {
      "cell_type": "code",
      "metadata": {
        "id": "NCodLekpIPLX",
        "outputId": "3e8cdc4d-b248-4503-8b32-e34360d9515d",
        "colab": {
          "base_uri": "https://localhost:8080/",
          "height": 34
        }
      },
      "source": [
        "np.random.randint(1, 100, size = 5)"
      ],
      "execution_count": null,
      "outputs": [
        {
          "output_type": "execute_result",
          "data": {
            "text/plain": [
              "array([50, 38, 46, 45, 31])"
            ]
          },
          "metadata": {
            "tags": []
          },
          "execution_count": 70
        }
      ]
    }
  ]
}