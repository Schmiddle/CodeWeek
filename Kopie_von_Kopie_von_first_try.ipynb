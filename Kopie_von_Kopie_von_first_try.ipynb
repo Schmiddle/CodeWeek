{
  "nbformat": 4,
  "nbformat_minor": 0,
  "metadata": {
    "colab": {
      "name": "Kopie von Kopie von first_try.ipynb",
      "provenance": [],
      "collapsed_sections": [],
      "include_colab_link": true
    },
    "kernelspec": {
      "name": "python3",
      "display_name": "Python 3"
    }
  },
  "cells": [
    {
      "cell_type": "markdown",
      "metadata": {
        "id": "view-in-github",
        "colab_type": "text"
      },
      "source": [
        "<a href=\"https://colab.research.google.com/github/Schmiddle/CodeWeek/blob/main/Kopie_von_Kopie_von_first_try.ipynb\" target=\"_parent\"><img src=\"https://colab.research.google.com/assets/colab-badge.svg\" alt=\"Open In Colab\"/></a>"
      ]
    },
    {
      "cell_type": "code",
      "metadata": {
        "id": "we_knS61ssnW"
      },
      "source": [
        "import pandas as pd\n",
        "import numpy as np\n",
        "from sklearn.model_selection import train_test_split,KFold\n",
        "from sklearn.metrics import confusion_matrix,roc_auc_score,log_loss\n",
        "from sklearn.feature_extraction.text import CountVectorizer, TfidfVectorizer\n",
        "import xgboost as xgb \n",
        "from sklearn.model_selection import train_test_split"
      ],
      "execution_count": null,
      "outputs": []
    },
    {
      "cell_type": "code",
      "metadata": {
        "id": "G92XF8PPfqV4",
        "outputId": "b3eaa034-ef88-4894-e213-527deadb43d4",
        "colab": {
          "base_uri": "https://localhost:8080/",
          "height": 33
        }
      },
      "source": [
        "from google.colab import drive\n",
        "drive.mount('/content/drive')"
      ],
      "execution_count": null,
      "outputs": [
        {
          "output_type": "stream",
          "text": [
            "Mounted at /content/drive\n"
          ],
          "name": "stdout"
        }
      ]
    },
    {
      "cell_type": "code",
      "metadata": {
        "id": "ic0KqQF2hF78",
        "outputId": "6cf24757-7285-4d2a-a8c8-913afa0f6fed",
        "colab": {
          "base_uri": "https://localhost:8080/",
          "height": 1000
        }
      },
      "source": [
        "!python -m nltk.downloader all\n"
      ],
      "execution_count": null,
      "outputs": [
        {
          "output_type": "stream",
          "text": [
            "/usr/lib/python3.6/runpy.py:125: RuntimeWarning: 'nltk.downloader' found in sys.modules after import of package 'nltk', but prior to execution of 'nltk.downloader'; this may result in unpredictable behaviour\n",
            "  warn(RuntimeWarning(msg))\n",
            "[nltk_data] Downloading collection 'all'\n",
            "[nltk_data]    | \n",
            "[nltk_data]    | Downloading package abc to /root/nltk_data...\n",
            "[nltk_data]    |   Unzipping corpora/abc.zip.\n",
            "[nltk_data]    | Downloading package alpino to /root/nltk_data...\n",
            "[nltk_data]    |   Unzipping corpora/alpino.zip.\n",
            "[nltk_data]    | Downloading package biocreative_ppi to\n",
            "[nltk_data]    |     /root/nltk_data...\n",
            "[nltk_data]    |   Unzipping corpora/biocreative_ppi.zip.\n",
            "[nltk_data]    | Downloading package brown to /root/nltk_data...\n",
            "[nltk_data]    |   Unzipping corpora/brown.zip.\n",
            "[nltk_data]    | Downloading package brown_tei to /root/nltk_data...\n",
            "[nltk_data]    |   Unzipping corpora/brown_tei.zip.\n",
            "[nltk_data]    | Downloading package cess_cat to /root/nltk_data...\n",
            "[nltk_data]    |   Unzipping corpora/cess_cat.zip.\n",
            "[nltk_data]    | Downloading package cess_esp to /root/nltk_data...\n",
            "[nltk_data]    |   Unzipping corpora/cess_esp.zip.\n",
            "[nltk_data]    | Downloading package chat80 to /root/nltk_data...\n",
            "[nltk_data]    |   Unzipping corpora/chat80.zip.\n",
            "[nltk_data]    | Downloading package city_database to\n",
            "[nltk_data]    |     /root/nltk_data...\n",
            "[nltk_data]    |   Unzipping corpora/city_database.zip.\n",
            "[nltk_data]    | Downloading package cmudict to /root/nltk_data...\n",
            "[nltk_data]    |   Unzipping corpora/cmudict.zip.\n",
            "[nltk_data]    | Downloading package comparative_sentences to\n",
            "[nltk_data]    |     /root/nltk_data...\n",
            "[nltk_data]    |   Unzipping corpora/comparative_sentences.zip.\n",
            "[nltk_data]    | Downloading package comtrans to /root/nltk_data...\n",
            "[nltk_data]    | Downloading package conll2000 to /root/nltk_data...\n",
            "[nltk_data]    |   Unzipping corpora/conll2000.zip.\n",
            "[nltk_data]    | Downloading package conll2002 to /root/nltk_data...\n",
            "[nltk_data]    |   Unzipping corpora/conll2002.zip.\n",
            "[nltk_data]    | Downloading package conll2007 to /root/nltk_data...\n",
            "[nltk_data]    | Downloading package crubadan to /root/nltk_data...\n",
            "[nltk_data]    |   Unzipping corpora/crubadan.zip.\n",
            "[nltk_data]    | Downloading package dependency_treebank to\n",
            "[nltk_data]    |     /root/nltk_data...\n",
            "[nltk_data]    |   Unzipping corpora/dependency_treebank.zip.\n",
            "[nltk_data]    | Downloading package dolch to /root/nltk_data...\n",
            "[nltk_data]    |   Unzipping corpora/dolch.zip.\n",
            "[nltk_data]    | Downloading package europarl_raw to\n",
            "[nltk_data]    |     /root/nltk_data...\n",
            "[nltk_data]    |   Unzipping corpora/europarl_raw.zip.\n",
            "[nltk_data]    | Downloading package floresta to /root/nltk_data...\n",
            "[nltk_data]    |   Unzipping corpora/floresta.zip.\n",
            "[nltk_data]    | Downloading package framenet_v15 to\n",
            "[nltk_data]    |     /root/nltk_data...\n",
            "[nltk_data]    |   Unzipping corpora/framenet_v15.zip.\n",
            "[nltk_data]    | Downloading package framenet_v17 to\n",
            "[nltk_data]    |     /root/nltk_data...\n",
            "[nltk_data]    |   Unzipping corpora/framenet_v17.zip.\n",
            "[nltk_data]    | Downloading package gazetteers to /root/nltk_data...\n",
            "[nltk_data]    |   Unzipping corpora/gazetteers.zip.\n",
            "[nltk_data]    | Downloading package genesis to /root/nltk_data...\n",
            "[nltk_data]    |   Unzipping corpora/genesis.zip.\n",
            "[nltk_data]    | Downloading package gutenberg to /root/nltk_data...\n",
            "[nltk_data]    |   Unzipping corpora/gutenberg.zip.\n",
            "[nltk_data]    | Downloading package ieer to /root/nltk_data...\n",
            "[nltk_data]    |   Unzipping corpora/ieer.zip.\n",
            "[nltk_data]    | Downloading package inaugural to /root/nltk_data...\n",
            "[nltk_data]    |   Unzipping corpora/inaugural.zip.\n",
            "[nltk_data]    | Downloading package indian to /root/nltk_data...\n",
            "[nltk_data]    |   Unzipping corpora/indian.zip.\n",
            "[nltk_data]    | Downloading package jeita to /root/nltk_data...\n",
            "[nltk_data]    | Downloading package kimmo to /root/nltk_data...\n",
            "[nltk_data]    |   Unzipping corpora/kimmo.zip.\n",
            "[nltk_data]    | Downloading package knbc to /root/nltk_data...\n",
            "[nltk_data]    | Downloading package lin_thesaurus to\n",
            "[nltk_data]    |     /root/nltk_data...\n",
            "[nltk_data]    |   Unzipping corpora/lin_thesaurus.zip.\n",
            "[nltk_data]    | Downloading package mac_morpho to /root/nltk_data...\n",
            "[nltk_data]    |   Unzipping corpora/mac_morpho.zip.\n",
            "[nltk_data]    | Downloading package machado to /root/nltk_data...\n",
            "[nltk_data]    | Downloading package masc_tagged to /root/nltk_data...\n",
            "[nltk_data]    | Downloading package moses_sample to\n",
            "[nltk_data]    |     /root/nltk_data...\n",
            "[nltk_data]    |   Unzipping models/moses_sample.zip.\n",
            "[nltk_data]    | Downloading package movie_reviews to\n",
            "[nltk_data]    |     /root/nltk_data...\n",
            "[nltk_data]    |   Unzipping corpora/movie_reviews.zip.\n",
            "[nltk_data]    | Downloading package names to /root/nltk_data...\n",
            "[nltk_data]    |   Unzipping corpora/names.zip.\n",
            "[nltk_data]    | Downloading package nombank.1.0 to /root/nltk_data...\n",
            "[nltk_data]    | Downloading package nps_chat to /root/nltk_data...\n",
            "[nltk_data]    |   Unzipping corpora/nps_chat.zip.\n",
            "[nltk_data]    | Downloading package omw to /root/nltk_data...\n",
            "[nltk_data]    |   Unzipping corpora/omw.zip.\n",
            "[nltk_data]    | Downloading package opinion_lexicon to\n",
            "[nltk_data]    |     /root/nltk_data...\n",
            "[nltk_data]    |   Unzipping corpora/opinion_lexicon.zip.\n",
            "[nltk_data]    | Downloading package paradigms to /root/nltk_data...\n",
            "[nltk_data]    |   Unzipping corpora/paradigms.zip.\n",
            "[nltk_data]    | Downloading package pil to /root/nltk_data...\n",
            "[nltk_data]    |   Unzipping corpora/pil.zip.\n",
            "[nltk_data]    | Downloading package pl196x to /root/nltk_data...\n",
            "[nltk_data]    |   Unzipping corpora/pl196x.zip.\n",
            "[nltk_data]    | Downloading package ppattach to /root/nltk_data...\n",
            "[nltk_data]    |   Unzipping corpora/ppattach.zip.\n",
            "[nltk_data]    | Downloading package problem_reports to\n",
            "[nltk_data]    |     /root/nltk_data...\n",
            "[nltk_data]    |   Unzipping corpora/problem_reports.zip.\n",
            "[nltk_data]    | Downloading package propbank to /root/nltk_data...\n",
            "[nltk_data]    | Downloading package ptb to /root/nltk_data...\n",
            "[nltk_data]    |   Unzipping corpora/ptb.zip.\n",
            "[nltk_data]    | Downloading package product_reviews_1 to\n",
            "[nltk_data]    |     /root/nltk_data...\n",
            "[nltk_data]    |   Unzipping corpora/product_reviews_1.zip.\n",
            "[nltk_data]    | Downloading package product_reviews_2 to\n",
            "[nltk_data]    |     /root/nltk_data...\n",
            "[nltk_data]    |   Unzipping corpora/product_reviews_2.zip.\n",
            "[nltk_data]    | Downloading package pros_cons to /root/nltk_data...\n",
            "[nltk_data]    |   Unzipping corpora/pros_cons.zip.\n",
            "[nltk_data]    | Downloading package qc to /root/nltk_data...\n",
            "[nltk_data]    |   Unzipping corpora/qc.zip.\n",
            "[nltk_data]    | Downloading package reuters to /root/nltk_data...\n",
            "[nltk_data]    | Downloading package rte to /root/nltk_data...\n",
            "[nltk_data]    |   Unzipping corpora/rte.zip.\n",
            "[nltk_data]    | Downloading package semcor to /root/nltk_data...\n",
            "[nltk_data]    | Downloading package senseval to /root/nltk_data...\n",
            "[nltk_data]    |   Unzipping corpora/senseval.zip.\n",
            "[nltk_data]    | Downloading package sentiwordnet to\n",
            "[nltk_data]    |     /root/nltk_data...\n",
            "[nltk_data]    |   Unzipping corpora/sentiwordnet.zip.\n",
            "[nltk_data]    | Downloading package sentence_polarity to\n",
            "[nltk_data]    |     /root/nltk_data...\n",
            "[nltk_data]    |   Unzipping corpora/sentence_polarity.zip.\n",
            "[nltk_data]    | Downloading package shakespeare to /root/nltk_data...\n",
            "[nltk_data]    |   Unzipping corpora/shakespeare.zip.\n",
            "[nltk_data]    | Downloading package sinica_treebank to\n",
            "[nltk_data]    |     /root/nltk_data...\n",
            "[nltk_data]    |   Unzipping corpora/sinica_treebank.zip.\n",
            "[nltk_data]    | Downloading package smultron to /root/nltk_data...\n",
            "[nltk_data]    |   Unzipping corpora/smultron.zip.\n",
            "[nltk_data]    | Downloading package state_union to /root/nltk_data...\n",
            "[nltk_data]    |   Unzipping corpora/state_union.zip.\n",
            "[nltk_data]    | Downloading package stopwords to /root/nltk_data...\n",
            "[nltk_data]    |   Unzipping corpora/stopwords.zip.\n",
            "[nltk_data]    | Downloading package subjectivity to\n",
            "[nltk_data]    |     /root/nltk_data...\n",
            "[nltk_data]    |   Unzipping corpora/subjectivity.zip.\n",
            "[nltk_data]    | Downloading package swadesh to /root/nltk_data...\n",
            "[nltk_data]    |   Unzipping corpora/swadesh.zip.\n",
            "[nltk_data]    | Downloading package switchboard to /root/nltk_data...\n",
            "[nltk_data]    |   Unzipping corpora/switchboard.zip.\n",
            "[nltk_data]    | Downloading package timit to /root/nltk_data...\n",
            "[nltk_data]    |   Unzipping corpora/timit.zip.\n",
            "[nltk_data]    | Downloading package toolbox to /root/nltk_data...\n",
            "[nltk_data]    |   Unzipping corpora/toolbox.zip.\n",
            "[nltk_data]    | Downloading package treebank to /root/nltk_data...\n",
            "[nltk_data]    |   Unzipping corpora/treebank.zip.\n",
            "[nltk_data]    | Downloading package twitter_samples to\n",
            "[nltk_data]    |     /root/nltk_data...\n",
            "[nltk_data]    |   Unzipping corpora/twitter_samples.zip.\n",
            "[nltk_data]    | Downloading package udhr to /root/nltk_data...\n",
            "[nltk_data]    |   Unzipping corpora/udhr.zip.\n",
            "[nltk_data]    | Downloading package udhr2 to /root/nltk_data...\n",
            "[nltk_data]    |   Unzipping corpora/udhr2.zip.\n",
            "[nltk_data]    | Downloading package unicode_samples to\n",
            "[nltk_data]    |     /root/nltk_data...\n",
            "[nltk_data]    |   Unzipping corpora/unicode_samples.zip.\n",
            "[nltk_data]    | Downloading package universal_treebanks_v20 to\n",
            "[nltk_data]    |     /root/nltk_data...\n",
            "[nltk_data]    | Downloading package verbnet to /root/nltk_data...\n",
            "[nltk_data]    |   Unzipping corpora/verbnet.zip.\n",
            "[nltk_data]    | Downloading package verbnet3 to /root/nltk_data...\n",
            "[nltk_data]    |   Unzipping corpora/verbnet3.zip.\n",
            "[nltk_data]    | Downloading package webtext to /root/nltk_data...\n",
            "[nltk_data]    |   Unzipping corpora/webtext.zip.\n",
            "[nltk_data]    | Downloading package wordnet to /root/nltk_data...\n",
            "[nltk_data]    |   Unzipping corpora/wordnet.zip.\n",
            "[nltk_data]    | Downloading package wordnet_ic to /root/nltk_data...\n",
            "[nltk_data]    |   Unzipping corpora/wordnet_ic.zip.\n",
            "[nltk_data]    | Downloading package words to /root/nltk_data...\n",
            "[nltk_data]    |   Unzipping corpora/words.zip.\n",
            "[nltk_data]    | Downloading package ycoe to /root/nltk_data...\n",
            "[nltk_data]    |   Unzipping corpora/ycoe.zip.\n",
            "[nltk_data]    | Downloading package rslp to /root/nltk_data...\n",
            "[nltk_data]    |   Unzipping stemmers/rslp.zip.\n",
            "[nltk_data]    | Downloading package maxent_treebank_pos_tagger to\n",
            "[nltk_data]    |     /root/nltk_data...\n",
            "[nltk_data]    |   Unzipping taggers/maxent_treebank_pos_tagger.zip.\n",
            "[nltk_data]    | Downloading package universal_tagset to\n",
            "[nltk_data]    |     /root/nltk_data...\n",
            "[nltk_data]    |   Unzipping taggers/universal_tagset.zip.\n",
            "[nltk_data]    | Downloading package maxent_ne_chunker to\n",
            "[nltk_data]    |     /root/nltk_data...\n",
            "[nltk_data]    |   Unzipping chunkers/maxent_ne_chunker.zip.\n",
            "[nltk_data]    | Downloading package punkt to /root/nltk_data...\n",
            "[nltk_data]    |   Unzipping tokenizers/punkt.zip.\n",
            "[nltk_data]    | Downloading package book_grammars to\n",
            "[nltk_data]    |     /root/nltk_data...\n",
            "[nltk_data]    |   Unzipping grammars/book_grammars.zip.\n",
            "[nltk_data]    | Downloading package sample_grammars to\n",
            "[nltk_data]    |     /root/nltk_data...\n",
            "[nltk_data]    |   Unzipping grammars/sample_grammars.zip.\n",
            "[nltk_data]    | Downloading package spanish_grammars to\n",
            "[nltk_data]    |     /root/nltk_data...\n",
            "[nltk_data]    |   Unzipping grammars/spanish_grammars.zip.\n",
            "[nltk_data]    | Downloading package basque_grammars to\n",
            "[nltk_data]    |     /root/nltk_data...\n",
            "[nltk_data]    |   Unzipping grammars/basque_grammars.zip.\n",
            "[nltk_data]    | Downloading package large_grammars to\n",
            "[nltk_data]    |     /root/nltk_data...\n",
            "[nltk_data]    |   Unzipping grammars/large_grammars.zip.\n",
            "[nltk_data]    | Downloading package tagsets to /root/nltk_data...\n",
            "[nltk_data]    |   Unzipping help/tagsets.zip.\n",
            "[nltk_data]    | Downloading package snowball_data to\n",
            "[nltk_data]    |     /root/nltk_data...\n",
            "[nltk_data]    | Downloading package bllip_wsj_no_aux to\n",
            "[nltk_data]    |     /root/nltk_data...\n",
            "[nltk_data]    |   Unzipping models/bllip_wsj_no_aux.zip.\n",
            "[nltk_data]    | Downloading package word2vec_sample to\n",
            "[nltk_data]    |     /root/nltk_data...\n",
            "[nltk_data]    |   Unzipping models/word2vec_sample.zip.\n",
            "[nltk_data]    | Downloading package panlex_swadesh to\n",
            "[nltk_data]    |     /root/nltk_data...\n",
            "[nltk_data]    | Downloading package mte_teip5 to /root/nltk_data...\n",
            "[nltk_data]    |   Unzipping corpora/mte_teip5.zip.\n",
            "[nltk_data]    | Downloading package averaged_perceptron_tagger to\n",
            "[nltk_data]    |     /root/nltk_data...\n",
            "[nltk_data]    |   Unzipping taggers/averaged_perceptron_tagger.zip.\n",
            "[nltk_data]    | Downloading package averaged_perceptron_tagger_ru to\n",
            "[nltk_data]    |     /root/nltk_data...\n",
            "[nltk_data]    |   Unzipping\n",
            "[nltk_data]    |       taggers/averaged_perceptron_tagger_ru.zip.\n",
            "[nltk_data]    | Downloading package perluniprops to\n",
            "[nltk_data]    |     /root/nltk_data...\n",
            "[nltk_data]    |   Unzipping misc/perluniprops.zip.\n",
            "[nltk_data]    | Downloading package nonbreaking_prefixes to\n",
            "[nltk_data]    |     /root/nltk_data...\n",
            "[nltk_data]    |   Unzipping corpora/nonbreaking_prefixes.zip.\n",
            "[nltk_data]    | Downloading package vader_lexicon to\n",
            "[nltk_data]    |     /root/nltk_data...\n",
            "[nltk_data]    | Downloading package porter_test to /root/nltk_data...\n",
            "[nltk_data]    |   Unzipping stemmers/porter_test.zip.\n",
            "[nltk_data]    | Downloading package wmt15_eval to /root/nltk_data...\n",
            "[nltk_data]    |   Unzipping models/wmt15_eval.zip.\n",
            "[nltk_data]    | Downloading package mwa_ppdb to /root/nltk_data...\n",
            "[nltk_data]    |   Unzipping misc/mwa_ppdb.zip.\n",
            "[nltk_data]    | \n",
            "[nltk_data]  Done downloading collection all\n"
          ],
          "name": "stdout"
        }
      ]
    },
    {
      "cell_type": "code",
      "metadata": {
        "id": "s9SaHvGKhLfr"
      },
      "source": [
        "import nltk\n",
        "from nltk.corpus import movie_reviews\n",
        "import random\n",
        "\n",
        "documents = [(list(movie_reviews.words(fileid)), category)\n",
        "              for category in movie_reviews.categories()\n",
        "              for fileid in movie_reviews.fileids(category)]\n",
        "\n",
        "random.shuffle(documents)"
      ],
      "execution_count": null,
      "outputs": []
    },
    {
      "cell_type": "code",
      "metadata": {
        "id": "BbbLzhE_hLnq"
      },
      "source": [
        "all_words = nltk.FreqDist(w.lower() for w in movie_reviews.words())\n",
        "word_features = list(all_words)[:2000]\n",
        "\n",
        "def document_features(document):\n",
        "    document_words = set(document)\n",
        "    features = {}\n",
        "    for word in word_features:\n",
        "        features['contains({})'.format(word)] = (word in document_words)\n",
        "    return features"
      ],
      "execution_count": null,
      "outputs": []
    },
    {
      "cell_type": "code",
      "metadata": {
        "id": "ebdCEZiXhLp0"
      },
      "source": [
        "featuresets = [(document_features(d), c) for (d,c) in documents]\n",
        "train_set, test_set = featuresets[100:], featuresets[:100]\n",
        "classifier = nltk.NaiveBayesClassifier.train(train_set)"
      ],
      "execution_count": null,
      "outputs": []
    },
    {
      "cell_type": "code",
      "metadata": {
        "id": "aBGhgow4hLsh",
        "outputId": "5322832e-5a05-48a7-a588-9f3f78b0e1dd",
        "colab": {
          "base_uri": "https://localhost:8080/",
          "height": 34
        }
      },
      "source": [
        "print(nltk.classify.accuracy(classifier, test_set))\n"
      ],
      "execution_count": null,
      "outputs": [
        {
          "output_type": "stream",
          "text": [
            "0.76\n"
          ],
          "name": "stdout"
        }
      ]
    },
    {
      "cell_type": "code",
      "metadata": {
        "id": "NC_FvidGhLv2",
        "outputId": "f252a8b2-1254-4588-d33c-5651f3788799",
        "colab": {
          "base_uri": "https://localhost:8080/",
          "height": 118
        }
      },
      "source": [
        "classifier.show_most_informative_features(5)\n"
      ],
      "execution_count": null,
      "outputs": [
        {
          "output_type": "stream",
          "text": [
            "Most Informative Features\n",
            "        contains(welles) = True              neg : pos    =      7.7 : 1.0\n",
            " contains(unimaginative) = True              neg : pos    =      7.7 : 1.0\n",
            "     contains(atrocious) = True              neg : pos    =      7.1 : 1.0\n",
            "          contains(mena) = True              neg : pos    =      7.1 : 1.0\n",
            "        contains(suvari) = True              neg : pos    =      7.1 : 1.0\n"
          ],
          "name": "stdout"
        }
      ]
    },
    {
      "cell_type": "code",
      "metadata": {
        "id": "ZTO32zKgh5NY"
      },
      "source": [
        "#######"
      ],
      "execution_count": null,
      "outputs": []
    },
    {
      "cell_type": "code",
      "metadata": {
        "id": "E17_vLkKnGLz"
      },
      "source": [
        "import pandas as pd"
      ],
      "execution_count": null,
      "outputs": []
    },
    {
      "cell_type": "code",
      "metadata": {
        "id": "CBBGF9Rnh5PQ"
      },
      "source": [
        "df = pd.read_csv('/content/drive/My Drive/kaffee_reviews.csv', delimiter=',')"
      ],
      "execution_count": null,
      "outputs": []
    },
    {
      "cell_type": "code",
      "metadata": {
        "id": "AwA_QE5rh5RX",
        "outputId": "7ff31dbd-c990-4511-c36a-07be00df4911",
        "colab": {
          "base_uri": "https://localhost:8080/",
          "height": 199
        }
      },
      "source": [
        "df.head()"
      ],
      "execution_count": null,
      "outputs": [
        {
          "output_type": "execute_result",
          "data": {
            "text/html": [
              "<div>\n",
              "<style scoped>\n",
              "    .dataframe tbody tr th:only-of-type {\n",
              "        vertical-align: middle;\n",
              "    }\n",
              "\n",
              "    .dataframe tbody tr th {\n",
              "        vertical-align: top;\n",
              "    }\n",
              "\n",
              "    .dataframe thead th {\n",
              "        text-align: right;\n",
              "    }\n",
              "</style>\n",
              "<table border=\"1\" class=\"dataframe\">\n",
              "  <thead>\n",
              "    <tr style=\"text-align: right;\">\n",
              "      <th></th>\n",
              "      <th>Unnamed: 0</th>\n",
              "      <th>brand</th>\n",
              "      <th>rating</th>\n",
              "      <th>review</th>\n",
              "    </tr>\n",
              "  </thead>\n",
              "  <tbody>\n",
              "    <tr>\n",
              "      <th>0</th>\n",
              "      <td>0</td>\n",
              "      <td>GEPA Kaffee</td>\n",
              "      <td>5</td>\n",
              "      <td>Wenn ich Bohnenkaffee trinke (auf Arbeit trink...</td>\n",
              "    </tr>\n",
              "    <tr>\n",
              "      <th>1</th>\n",
              "      <td>1</td>\n",
              "      <td>GEPA Kaffee</td>\n",
              "      <td>5</td>\n",
              "      <td>Für mich ist dieser Kaffee ideal. Die Grundvor...</td>\n",
              "    </tr>\n",
              "    <tr>\n",
              "      <th>2</th>\n",
              "      <td>2</td>\n",
              "      <td>GEPA Kaffee</td>\n",
              "      <td>5</td>\n",
              "      <td>Ich persönlich bin insbesondere von dem Geschm...</td>\n",
              "    </tr>\n",
              "    <tr>\n",
              "      <th>3</th>\n",
              "      <td>3</td>\n",
              "      <td>GEPA Kaffee</td>\n",
              "      <td>5</td>\n",
              "      <td>ganz abgesehen vom geschmack legt gepa inzwisc...</td>\n",
              "    </tr>\n",
              "    <tr>\n",
              "      <th>4</th>\n",
              "      <td>4</td>\n",
              "      <td>GEPA Kaffee</td>\n",
              "      <td>5</td>\n",
              "      <td>Seit Jahren kaufe ich am liebsten den Kaffee u...</td>\n",
              "    </tr>\n",
              "  </tbody>\n",
              "</table>\n",
              "</div>"
            ],
            "text/plain": [
              "   Unnamed: 0  ...                                             review\n",
              "0           0  ...  Wenn ich Bohnenkaffee trinke (auf Arbeit trink...\n",
              "1           1  ...  Für mich ist dieser Kaffee ideal. Die Grundvor...\n",
              "2           2  ...  Ich persönlich bin insbesondere von dem Geschm...\n",
              "3           3  ...  ganz abgesehen vom geschmack legt gepa inzwisc...\n",
              "4           4  ...  Seit Jahren kaufe ich am liebsten den Kaffee u...\n",
              "\n",
              "[5 rows x 4 columns]"
            ]
          },
          "metadata": {
            "tags": []
          },
          "execution_count": 8
        }
      ]
    },
    {
      "cell_type": "code",
      "metadata": {
        "id": "ptMPSq5Ih5Tl",
        "outputId": "4cfa0178-06c8-475e-ba03-fdbfed1587b9",
        "colab": {
          "base_uri": "https://localhost:8080/",
          "height": 282
        }
      },
      "source": [
        "df[\"rating\"].plot.hist()"
      ],
      "execution_count": null,
      "outputs": [
        {
          "output_type": "execute_result",
          "data": {
            "text/plain": [
              "<matplotlib.axes._subplots.AxesSubplot at 0x7ff6231054a8>"
            ]
          },
          "metadata": {
            "tags": []
          },
          "execution_count": 12
        },
        {
          "output_type": "display_data",
          "data": {
            "image/png": "[encoded data removed]",
            "text/plain": [
              "<Figure size 432x288 with 1 Axes>"
            ]
          },
          "metadata": {
            "tags": [],
            "needs_background": "light"
          }
        }
      ]
    },
    {
      "cell_type": "code",
      "metadata": {
        "id": "cJu0UIVFh5Wd"
      },
      "source": [
        "df['sentiment'] = np.where(df['rating']>=4, 1, 0)"
      ],
      "execution_count": null,
      "outputs": []
    },
    {
      "cell_type": "code",
      "metadata": {
        "id": "-8PnYCOrh5ZR"
      },
      "source": [
        "train, test, y_train , y_test = train_test_split(df[['review']], df[['sentiment']], test_size = 0.3)"
      ],
      "execution_count": null,
      "outputs": []
    },
    {
      "cell_type": "code",
      "metadata": {
        "id": "TneMLErQ5592"
      },
      "source": [
        "from nltk import sent_tokenize, word_tokenize"
      ],
      "execution_count": null,
      "outputs": []
    },
    {
      "cell_type": "code",
      "metadata": {
        "id": "I1geDF8dwf0y",
        "outputId": "c40bc765-31e1-4903-8e49-3d4b1a583981",
        "colab": {
          "base_uri": "https://localhost:8080/",
          "height": 965
        }
      },
      "source": [
        "from nltk.corpus import stopwords\n",
        "german_stop_words = stopwords.words('german')\n"
      ],
      "execution_count": null,
      "outputs": [
        {
          "output_type": "error",
          "ename": "LookupError",
          "evalue": "ignored",
          "traceback": [
            "\u001b[0;31m---------------------------------------------------------------------------\u001b[0m",
            "\u001b[0;31mLookupError\u001b[0m                               Traceback (most recent call last)",
            "\u001b[0;32m/usr/local/lib/python3.6/dist-packages/nltk/corpus/util.py\u001b[0m in \u001b[0;36m__load\u001b[0;34m(self)\u001b[0m\n\u001b[1;32m     79\u001b[0m             \u001b[0;32mexcept\u001b[0m \u001b[0mLookupError\u001b[0m \u001b[0;32mas\u001b[0m \u001b[0me\u001b[0m\u001b[0;34m:\u001b[0m\u001b[0;34m\u001b[0m\u001b[0;34m\u001b[0m\u001b[0m\n\u001b[0;32m---> 80\u001b[0;31m                 \u001b[0;32mtry\u001b[0m\u001b[0;34m:\u001b[0m \u001b[0mroot\u001b[0m \u001b[0;34m=\u001b[0m \u001b[0mnltk\u001b[0m\u001b[0;34m.\u001b[0m\u001b[0mdata\u001b[0m\u001b[0;34m.\u001b[0m\u001b[0mfind\u001b[0m\u001b[0;34m(\u001b[0m\u001b[0;34m'{}/{}'\u001b[0m\u001b[0;34m.\u001b[0m\u001b[0mformat\u001b[0m\u001b[0;34m(\u001b[0m\u001b[0mself\u001b[0m\u001b[0;34m.\u001b[0m\u001b[0msubdir\u001b[0m\u001b[0;34m,\u001b[0m \u001b[0mzip_name\u001b[0m\u001b[0;34m)\u001b[0m\u001b[0;34m)\u001b[0m\u001b[0;34m\u001b[0m\u001b[0;34m\u001b[0m\u001b[0m\n\u001b[0m\u001b[1;32m     81\u001b[0m                 \u001b[0;32mexcept\u001b[0m \u001b[0mLookupError\u001b[0m\u001b[0;34m:\u001b[0m \u001b[0;32mraise\u001b[0m \u001b[0me\u001b[0m\u001b[0;34m\u001b[0m\u001b[0;34m\u001b[0m\u001b[0m\n",
            "\u001b[0;32m/usr/local/lib/python3.6/dist-packages/nltk/data.py\u001b[0m in \u001b[0;36mfind\u001b[0;34m(resource_name, paths)\u001b[0m\n\u001b[1;32m    672\u001b[0m     \u001b[0mresource_not_found\u001b[0m \u001b[0;34m=\u001b[0m \u001b[0;34m'\\n%s\\n%s\\n%s\\n'\u001b[0m \u001b[0;34m%\u001b[0m \u001b[0;34m(\u001b[0m\u001b[0msep\u001b[0m\u001b[0;34m,\u001b[0m \u001b[0mmsg\u001b[0m\u001b[0;34m,\u001b[0m \u001b[0msep\u001b[0m\u001b[0;34m)\u001b[0m\u001b[0;34m\u001b[0m\u001b[0;34m\u001b[0m\u001b[0m\n\u001b[0;32m--> 673\u001b[0;31m     \u001b[0;32mraise\u001b[0m \u001b[0mLookupError\u001b[0m\u001b[0;34m(\u001b[0m\u001b[0mresource_not_found\u001b[0m\u001b[0;34m)\u001b[0m\u001b[0;34m\u001b[0m\u001b[0;34m\u001b[0m\u001b[0m\n\u001b[0m\u001b[1;32m    674\u001b[0m \u001b[0;34m\u001b[0m\u001b[0m\n",
            "\u001b[0;31mLookupError\u001b[0m: \n**********************************************************************\n  Resource \u001b[93mstopwords\u001b[0m not found.\n  Please use the NLTK Downloader to obtain the resource:\n\n  \u001b[31m>>> import nltk\n  >>> nltk.download('stopwords')\n  \u001b[0m\n  Searched in:\n    - '/root/nltk_data'\n    - '/usr/share/nltk_data'\n    - '/usr/local/share/nltk_data'\n    - '/usr/lib/nltk_data'\n    - '/usr/local/lib/nltk_data'\n    - '/usr/nltk_data'\n    - '/usr/lib/nltk_data'\n**********************************************************************\n",
            "\nDuring handling of the above exception, another exception occurred:\n",
            "\u001b[0;31mLookupError\u001b[0m                               Traceback (most recent call last)",
            "\u001b[0;32m<ipython-input-13-ae76f9bb57b0>\u001b[0m in \u001b[0;36m<module>\u001b[0;34m()\u001b[0m\n\u001b[1;32m      1\u001b[0m \u001b[0;32mfrom\u001b[0m \u001b[0mnltk\u001b[0m\u001b[0;34m.\u001b[0m\u001b[0mcorpus\u001b[0m \u001b[0;32mimport\u001b[0m \u001b[0mstopwords\u001b[0m\u001b[0;34m\u001b[0m\u001b[0;34m\u001b[0m\u001b[0m\n\u001b[0;32m----> 2\u001b[0;31m \u001b[0mgerman_stop_words\u001b[0m \u001b[0;34m=\u001b[0m \u001b[0mstopwords\u001b[0m\u001b[0;34m.\u001b[0m\u001b[0mwords\u001b[0m\u001b[0;34m(\u001b[0m\u001b[0;34m'german'\u001b[0m\u001b[0;34m)\u001b[0m\u001b[0;34m\u001b[0m\u001b[0;34m\u001b[0m\u001b[0m\n\u001b[0m",
            "\u001b[0;32m/usr/local/lib/python3.6/dist-packages/nltk/corpus/util.py\u001b[0m in \u001b[0;36m__getattr__\u001b[0;34m(self, attr)\u001b[0m\n\u001b[1;32m    114\u001b[0m             \u001b[0;32mraise\u001b[0m \u001b[0mAttributeError\u001b[0m\u001b[0;34m(\u001b[0m\u001b[0;34m\"LazyCorpusLoader object has no attribute '__bases__'\"\u001b[0m\u001b[0;34m)\u001b[0m\u001b[0;34m\u001b[0m\u001b[0;34m\u001b[0m\u001b[0m\n\u001b[1;32m    115\u001b[0m \u001b[0;34m\u001b[0m\u001b[0m\n\u001b[0;32m--> 116\u001b[0;31m         \u001b[0mself\u001b[0m\u001b[0;34m.\u001b[0m\u001b[0m__load\u001b[0m\u001b[0;34m(\u001b[0m\u001b[0;34m)\u001b[0m\u001b[0;34m\u001b[0m\u001b[0;34m\u001b[0m\u001b[0m\n\u001b[0m\u001b[1;32m    117\u001b[0m         \u001b[0;31m# This looks circular, but its not, since __load() changes our\u001b[0m\u001b[0;34m\u001b[0m\u001b[0;34m\u001b[0m\u001b[0;34m\u001b[0m\u001b[0m\n\u001b[1;32m    118\u001b[0m         \u001b[0;31m# __class__ to something new:\u001b[0m\u001b[0;34m\u001b[0m\u001b[0;34m\u001b[0m\u001b[0;34m\u001b[0m\u001b[0m\n",
            "\u001b[0;32m/usr/local/lib/python3.6/dist-packages/nltk/corpus/util.py\u001b[0m in \u001b[0;36m__load\u001b[0;34m(self)\u001b[0m\n\u001b[1;32m     79\u001b[0m             \u001b[0;32mexcept\u001b[0m \u001b[0mLookupError\u001b[0m \u001b[0;32mas\u001b[0m \u001b[0me\u001b[0m\u001b[0;34m:\u001b[0m\u001b[0;34m\u001b[0m\u001b[0;34m\u001b[0m\u001b[0m\n\u001b[1;32m     80\u001b[0m                 \u001b[0;32mtry\u001b[0m\u001b[0;34m:\u001b[0m \u001b[0mroot\u001b[0m \u001b[0;34m=\u001b[0m \u001b[0mnltk\u001b[0m\u001b[0;34m.\u001b[0m\u001b[0mdata\u001b[0m\u001b[0;34m.\u001b[0m\u001b[0mfind\u001b[0m\u001b[0;34m(\u001b[0m\u001b[0;34m'{}/{}'\u001b[0m\u001b[0;34m.\u001b[0m\u001b[0mformat\u001b[0m\u001b[0;34m(\u001b[0m\u001b[0mself\u001b[0m\u001b[0;34m.\u001b[0m\u001b[0msubdir\u001b[0m\u001b[0;34m,\u001b[0m \u001b[0mzip_name\u001b[0m\u001b[0;34m)\u001b[0m\u001b[0;34m)\u001b[0m\u001b[0;34m\u001b[0m\u001b[0;34m\u001b[0m\u001b[0m\n\u001b[0;32m---> 81\u001b[0;31m                 \u001b[0;32mexcept\u001b[0m \u001b[0mLookupError\u001b[0m\u001b[0;34m:\u001b[0m \u001b[0;32mraise\u001b[0m \u001b[0me\u001b[0m\u001b[0;34m\u001b[0m\u001b[0;34m\u001b[0m\u001b[0m\n\u001b[0m\u001b[1;32m     82\u001b[0m \u001b[0;34m\u001b[0m\u001b[0m\n\u001b[1;32m     83\u001b[0m         \u001b[0;31m# Load the corpus.\u001b[0m\u001b[0;34m\u001b[0m\u001b[0;34m\u001b[0m\u001b[0;34m\u001b[0m\u001b[0m\n",
            "\u001b[0;32m/usr/local/lib/python3.6/dist-packages/nltk/corpus/util.py\u001b[0m in \u001b[0;36m__load\u001b[0;34m(self)\u001b[0m\n\u001b[1;32m     76\u001b[0m         \u001b[0;32melse\u001b[0m\u001b[0;34m:\u001b[0m\u001b[0;34m\u001b[0m\u001b[0;34m\u001b[0m\u001b[0m\n\u001b[1;32m     77\u001b[0m             \u001b[0;32mtry\u001b[0m\u001b[0;34m:\u001b[0m\u001b[0;34m\u001b[0m\u001b[0;34m\u001b[0m\u001b[0m\n\u001b[0;32m---> 78\u001b[0;31m                 \u001b[0mroot\u001b[0m \u001b[0;34m=\u001b[0m \u001b[0mnltk\u001b[0m\u001b[0;34m.\u001b[0m\u001b[0mdata\u001b[0m\u001b[0;34m.\u001b[0m\u001b[0mfind\u001b[0m\u001b[0;34m(\u001b[0m\u001b[0;34m'{}/{}'\u001b[0m\u001b[0;34m.\u001b[0m\u001b[0mformat\u001b[0m\u001b[0;34m(\u001b[0m\u001b[0mself\u001b[0m\u001b[0;34m.\u001b[0m\u001b[0msubdir\u001b[0m\u001b[0;34m,\u001b[0m \u001b[0mself\u001b[0m\u001b[0;34m.\u001b[0m\u001b[0m__name\u001b[0m\u001b[0;34m)\u001b[0m\u001b[0;34m)\u001b[0m\u001b[0;34m\u001b[0m\u001b[0;34m\u001b[0m\u001b[0m\n\u001b[0m\u001b[1;32m     79\u001b[0m             \u001b[0;32mexcept\u001b[0m \u001b[0mLookupError\u001b[0m \u001b[0;32mas\u001b[0m \u001b[0me\u001b[0m\u001b[0;34m:\u001b[0m\u001b[0;34m\u001b[0m\u001b[0;34m\u001b[0m\u001b[0m\n\u001b[1;32m     80\u001b[0m                 \u001b[0;32mtry\u001b[0m\u001b[0;34m:\u001b[0m \u001b[0mroot\u001b[0m \u001b[0;34m=\u001b[0m \u001b[0mnltk\u001b[0m\u001b[0;34m.\u001b[0m\u001b[0mdata\u001b[0m\u001b[0;34m.\u001b[0m\u001b[0mfind\u001b[0m\u001b[0;34m(\u001b[0m\u001b[0;34m'{}/{}'\u001b[0m\u001b[0;34m.\u001b[0m\u001b[0mformat\u001b[0m\u001b[0;34m(\u001b[0m\u001b[0mself\u001b[0m\u001b[0;34m.\u001b[0m\u001b[0msubdir\u001b[0m\u001b[0;34m,\u001b[0m \u001b[0mzip_name\u001b[0m\u001b[0;34m)\u001b[0m\u001b[0;34m)\u001b[0m\u001b[0;34m\u001b[0m\u001b[0;34m\u001b[0m\u001b[0m\n",
            "\u001b[0;32m/usr/local/lib/python3.6/dist-packages/nltk/data.py\u001b[0m in \u001b[0;36mfind\u001b[0;34m(resource_name, paths)\u001b[0m\n\u001b[1;32m    671\u001b[0m     \u001b[0msep\u001b[0m \u001b[0;34m=\u001b[0m \u001b[0;34m'*'\u001b[0m \u001b[0;34m*\u001b[0m \u001b[0;36m70\u001b[0m\u001b[0;34m\u001b[0m\u001b[0;34m\u001b[0m\u001b[0m\n\u001b[1;32m    672\u001b[0m     \u001b[0mresource_not_found\u001b[0m \u001b[0;34m=\u001b[0m \u001b[0;34m'\\n%s\\n%s\\n%s\\n'\u001b[0m \u001b[0;34m%\u001b[0m \u001b[0;34m(\u001b[0m\u001b[0msep\u001b[0m\u001b[0;34m,\u001b[0m \u001b[0mmsg\u001b[0m\u001b[0;34m,\u001b[0m \u001b[0msep\u001b[0m\u001b[0;34m)\u001b[0m\u001b[0;34m\u001b[0m\u001b[0;34m\u001b[0m\u001b[0m\n\u001b[0;32m--> 673\u001b[0;31m     \u001b[0;32mraise\u001b[0m \u001b[0mLookupError\u001b[0m\u001b[0;34m(\u001b[0m\u001b[0mresource_not_found\u001b[0m\u001b[0;34m)\u001b[0m\u001b[0;34m\u001b[0m\u001b[0;34m\u001b[0m\u001b[0m\n\u001b[0m\u001b[1;32m    674\u001b[0m \u001b[0;34m\u001b[0m\u001b[0m\n\u001b[1;32m    675\u001b[0m \u001b[0;34m\u001b[0m\u001b[0m\n",
            "\u001b[0;31mLookupError\u001b[0m: \n**********************************************************************\n  Resource \u001b[93mstopwords\u001b[0m not found.\n  Please use the NLTK Downloader to obtain the resource:\n\n  \u001b[31m>>> import nltk\n  >>> nltk.download('stopwords')\n  \u001b[0m\n  Searched in:\n    - '/root/nltk_data'\n    - '/usr/share/nltk_data'\n    - '/usr/local/share/nltk_data'\n    - '/usr/lib/nltk_data'\n    - '/usr/local/lib/nltk_data'\n    - '/usr/nltk_data'\n    - '/usr/lib/nltk_data'\n**********************************************************************\n"
          ]
        }
      ]
    },
    {
      "cell_type": "code",
      "metadata": {
        "id": "b0DGZnYW6YeU"
      },
      "source": [
        "def clean_text(df):\n",
        "    import re\n",
        "    corpus = []\n",
        "    for i in range(0, df.shape[0]):        \n",
        "        review = re.sub('[^A-Za-z0-9]',\" \",df['review'].iloc[i])\n",
        "        review = word_tokenize(review)        \n",
        "        review = [word for word in review if word.lower() not in set(stopwords.words('german'))]\n",
        "        review = ' '.join(review)\n",
        "        corpus.append(review)\n",
        "    \n",
        "    return corpus"
      ],
      "execution_count": null,
      "outputs": []
    },
    {
      "cell_type": "code",
      "metadata": {
        "id": "Ri8lh_Nb7hxs",
        "outputId": "9991258a-68e4-40d7-faf0-7fce875a3fae",
        "colab": {
          "base_uri": "https://localhost:8080/",
          "height": 69
        }
      },
      "source": [
        "train['review'].iloc[0]"
      ],
      "execution_count": null,
      "outputs": [
        {
          "output_type": "execute_result",
          "data": {
            "application/vnd.google.colaboratory.intrinsic+json": {
              "type": "string"
            },
            "text/plain": [
              "'Sehr feiner mild gerösteter Kaffee,der auch wenig Säure hat und von uns daher sehr gut vertragen wird.Auch der Geschmack kommt nicht nur bei uns,sondern auch bei Gästen sehr gut an,wobei ich sagen muss,dass ich die ganzen Bohnen kaufe und immer passend mahle,daher wird auch das Aroma immer gelobt.Er ist in sehr vielen Supermärkten vorrätig,teilweise auch im Angebot,er hat aber auch ohne Angebot ein hervorragendes Preis-Leistungsverhältnis.'"
            ]
          },
          "metadata": {
            "tags": []
          },
          "execution_count": 18
        }
      ]
    },
    {
      "cell_type": "code",
      "metadata": {
        "id": "9WJ5oOOz7QOE"
      },
      "source": [
        "tr_corpus = clean_text(train)\n",
        "te_corpus = clean_text(test)"
      ],
      "execution_count": null,
      "outputs": []
    },
    {
      "cell_type": "code",
      "metadata": {
        "id": "n6lc9U5Nn7Io",
        "outputId": "1b5acac3-487b-4ce7-875e-548f8468670a",
        "colab": {
          "base_uri": "https://localhost:8080/",
          "height": 1000
        }
      },
      "source": [
        "stopwords.words('german')"
      ],
      "execution_count": null,
      "outputs": [
        {
          "output_type": "execute_result",
          "data": {
            "text/plain": [
              "['aber',\n",
              " 'alle',\n",
              " 'allem',\n",
              " 'allen',\n",
              " 'aller',\n",
              " 'alles',\n",
              " 'als',\n",
              " 'also',\n",
              " 'am',\n",
              " 'an',\n",
              " 'ander',\n",
              " 'andere',\n",
              " 'anderem',\n",
              " 'anderen',\n",
              " 'anderer',\n",
              " 'anderes',\n",
              " 'anderm',\n",
              " 'andern',\n",
              " 'anderr',\n",
              " 'anders',\n",
              " 'auch',\n",
              " 'auf',\n",
              " 'aus',\n",
              " 'bei',\n",
              " 'bin',\n",
              " 'bis',\n",
              " 'bist',\n",
              " 'da',\n",
              " 'damit',\n",
              " 'dann',\n",
              " 'der',\n",
              " 'den',\n",
              " 'des',\n",
              " 'dem',\n",
              " 'die',\n",
              " 'das',\n",
              " 'dass',\n",
              " 'daß',\n",
              " 'derselbe',\n",
              " 'derselben',\n",
              " 'denselben',\n",
              " 'desselben',\n",
              " 'demselben',\n",
              " 'dieselbe',\n",
              " 'dieselben',\n",
              " 'dasselbe',\n",
              " 'dazu',\n",
              " 'dein',\n",
              " 'deine',\n",
              " 'deinem',\n",
              " 'deinen',\n",
              " 'deiner',\n",
              " 'deines',\n",
              " 'denn',\n",
              " 'derer',\n",
              " 'dessen',\n",
              " 'dich',\n",
              " 'dir',\n",
              " 'du',\n",
              " 'dies',\n",
              " 'diese',\n",
              " 'diesem',\n",
              " 'diesen',\n",
              " 'dieser',\n",
              " 'dieses',\n",
              " 'doch',\n",
              " 'dort',\n",
              " 'durch',\n",
              " 'ein',\n",
              " 'eine',\n",
              " 'einem',\n",
              " 'einen',\n",
              " 'einer',\n",
              " 'eines',\n",
              " 'einig',\n",
              " 'einige',\n",
              " 'einigem',\n",
              " 'einigen',\n",
              " 'einiger',\n",
              " 'einiges',\n",
              " 'einmal',\n",
              " 'er',\n",
              " 'ihn',\n",
              " 'ihm',\n",
              " 'es',\n",
              " 'etwas',\n",
              " 'euer',\n",
              " 'eure',\n",
              " 'eurem',\n",
              " 'euren',\n",
              " 'eurer',\n",
              " 'eures',\n",
              " 'für',\n",
              " 'gegen',\n",
              " 'gewesen',\n",
              " 'hab',\n",
              " 'habe',\n",
              " 'haben',\n",
              " 'hat',\n",
              " 'hatte',\n",
              " 'hatten',\n",
              " 'hier',\n",
              " 'hin',\n",
              " 'hinter',\n",
              " 'ich',\n",
              " 'mich',\n",
              " 'mir',\n",
              " 'ihr',\n",
              " 'ihre',\n",
              " 'ihrem',\n",
              " 'ihren',\n",
              " 'ihrer',\n",
              " 'ihres',\n",
              " 'euch',\n",
              " 'im',\n",
              " 'in',\n",
              " 'indem',\n",
              " 'ins',\n",
              " 'ist',\n",
              " 'jede',\n",
              " 'jedem',\n",
              " 'jeden',\n",
              " 'jeder',\n",
              " 'jedes',\n",
              " 'jene',\n",
              " 'jenem',\n",
              " 'jenen',\n",
              " 'jener',\n",
              " 'jenes',\n",
              " 'jetzt',\n",
              " 'kann',\n",
              " 'kein',\n",
              " 'keine',\n",
              " 'keinem',\n",
              " 'keinen',\n",
              " 'keiner',\n",
              " 'keines',\n",
              " 'können',\n",
              " 'könnte',\n",
              " 'machen',\n",
              " 'man',\n",
              " 'manche',\n",
              " 'manchem',\n",
              " 'manchen',\n",
              " 'mancher',\n",
              " 'manches',\n",
              " 'mein',\n",
              " 'meine',\n",
              " 'meinem',\n",
              " 'meinen',\n",
              " 'meiner',\n",
              " 'meines',\n",
              " 'mit',\n",
              " 'muss',\n",
              " 'musste',\n",
              " 'nach',\n",
              " 'nicht',\n",
              " 'nichts',\n",
              " 'noch',\n",
              " 'nun',\n",
              " 'nur',\n",
              " 'ob',\n",
              " 'oder',\n",
              " 'ohne',\n",
              " 'sehr',\n",
              " 'sein',\n",
              " 'seine',\n",
              " 'seinem',\n",
              " 'seinen',\n",
              " 'seiner',\n",
              " 'seines',\n",
              " 'selbst',\n",
              " 'sich',\n",
              " 'sie',\n",
              " 'ihnen',\n",
              " 'sind',\n",
              " 'so',\n",
              " 'solche',\n",
              " 'solchem',\n",
              " 'solchen',\n",
              " 'solcher',\n",
              " 'solches',\n",
              " 'soll',\n",
              " 'sollte',\n",
              " 'sondern',\n",
              " 'sonst',\n",
              " 'über',\n",
              " 'um',\n",
              " 'und',\n",
              " 'uns',\n",
              " 'unsere',\n",
              " 'unserem',\n",
              " 'unseren',\n",
              " 'unser',\n",
              " 'unseres',\n",
              " 'unter',\n",
              " 'viel',\n",
              " 'vom',\n",
              " 'von',\n",
              " 'vor',\n",
              " 'während',\n",
              " 'war',\n",
              " 'waren',\n",
              " 'warst',\n",
              " 'was',\n",
              " 'weg',\n",
              " 'weil',\n",
              " 'weiter',\n",
              " 'welche',\n",
              " 'welchem',\n",
              " 'welchen',\n",
              " 'welcher',\n",
              " 'welches',\n",
              " 'wenn',\n",
              " 'werde',\n",
              " 'werden',\n",
              " 'wie',\n",
              " 'wieder',\n",
              " 'will',\n",
              " 'wir',\n",
              " 'wird',\n",
              " 'wirst',\n",
              " 'wo',\n",
              " 'wollen',\n",
              " 'wollte',\n",
              " 'würde',\n",
              " 'würden',\n",
              " 'zu',\n",
              " 'zum',\n",
              " 'zur',\n",
              " 'zwar',\n",
              " 'zwischen']"
            ]
          },
          "metadata": {
            "tags": []
          },
          "execution_count": 23
        }
      ]
    },
    {
      "cell_type": "code",
      "metadata": {
        "id": "UWaxNa2UtvFv"
      },
      "source": [
        "cv =CountVectorizer(max_features=2000,ngram_range=(1,1),dtype=np.int8,stop_words=german_stop_words, analyzer='word')\n",
        "X_cv = cv.fit_transform(tr_corpus).toarray()\n",
        "X_test_cv = cv.transform(te_corpus).toarray()"
      ],
      "execution_count": null,
      "outputs": []
    },
    {
      "cell_type": "code",
      "metadata": {
        "id": "IAiwmpGanwaN",
        "outputId": "dbd723bf-5864-4aa0-aafb-dde907289182",
        "colab": {
          "base_uri": "https://localhost:8080/",
          "height": 71
        }
      },
      "source": [
        "print('Vocabulary Size {}:'.format(len(cv.vocabulary_)))\n",
        "print('Vocabulary Size {}:'.format(cv.vocabulary_))"
      ],
      "execution_count": null,
      "outputs": [
        {
          "output_type": "stream",
          "text": [
            "Vocabulary Size 1322:\n",
            "Vocabulary Size {'finde': 406, 'toll': 1123, 'mittlerweile': 819, 'viele': 1222, 'fair': 369, 'trade': 1131, 'produkte': 928, 'kaufen': 664, 'gibt': 511, 'kaffee': 631, 'schon': 1018, 'gut': 530, 'geschmeckt': 497, 'kologisch': 687, 'hergestellt': 560, 'wichtiger': 1279, 'geschmack': 490, 'lecker': 738, 'schmeckt': 1009, 'zahle': 1298, 'gerne': 485, 'relativ': 958, 'hohen': 592, 'preis': 916, 'lieblingskaffee': 754, 'limu': 759, 'einzige': 305, 'milch': 809, 'tasse': 1105, 'kommt': 693, 'espresso': 351, 'wunderbar': 1292, 'ueberhaupt': 1157, 'bitter': 193, 'gro': 526, 'fan': 381, 'weltpartner': 1267, 'kaffees': 650, 'lieblingssorte': 756, 'capuccino': 215, 'nder': 848, 'bio': 183, 'arabica': 64, 'mischung': 815, 'nicaragua': 864, 'peru': 910, 'kolumbien': 690, 'gehandelt': 448, 'faires': 374, 'leistungsverh': 746, 'ltnis': 770, 'kunde': 714, 'neue': 857, 'verpackung': 1205, 'bscher': 208, 'umweltfreundlicher': 1162, 'hnliche': 585, 'erfahrungen': 331, 'nicoh': 865, 'immer': 603, 'lieferung': 757, 'geld': 456, 'ck': 226, 'ckantwort': 227, 'kundenservice': 715, 'rde': 946, 'nie': 867, 'bestellen': 156, 'insbesondere': 608, 'tif': 1119, 'lt': 767, 'antworten': 63, 'entt': 326, 'uscht': 1189, 'behandlung': 109, 'davon': 244, 'abraten': 11, 'wirklich': 1285, 'nstig': 884, 'daf': 236, 'ersten': 341, 'minute': 814, 'konsequent': 698, 'feigenblattmarketing': 392, 'vielen': 1223, 'kaffeeproduzenten': 648, 'bank': 103, 'sauber': 992, 'getreidekaffee': 503, 'wunderbarer': 1293, 'kaffeeersatz': 637, 'duftet': 276, 'eingefleischter': 299, 'kaffeegenie': 638, 'unerl': 1168, 'lich': 750, 'kleinen': 680, 'anteil': 62, 'koffein': 685, 'gleich': 516, 'ganz': 433, 'heftig': 550, 'umgew': 1160, 'hnung': 589, 'begeistert': 107, 'trinke': 1140, 'fter': 428, 'gute': 531, 'gef': 444, 'hl': 580, 'schadstoffe': 998, 'genie': 473, 'en': 314, 'gesundheit': 501, 'tun': 1149, 'produkt': 927, 'sterne': 1083, 'abstriche': 16, 'klasse': 674, 'nachwievor': 842, 'nix': 871, 'meckern': 798, 'dran': 270, 'inhalt': 606, 'letzte': 748, 'papierh': 903, 'lle': 761, 'plastik': 914, 'reingemischt': 955, 'frag': 418, 'wozu': 1291, 'grund': 527, 'punkteabzug': 937, 'erst': 340, 'kurzem': 717, 'mount': 829, 'hagen': 536, 'aufmerksam': 87, 'geworden': 510, 'daraufhin': 240, 'sorten': 1052, 'getestet': 502, 'insgesamt': 609, 'vollen': 1235, 'aroma': 74, 'angenehmen': 51, 'ure': 1184, 'zufrieden': 1310, 'trinken': 1141, 'haupts': 545, 'chlich': 220, 'latte': 729, 'macchiato': 773, 'cappuccino': 214, 'kombination': 691, 'berzeugen': 141, 'nnen': 876, 'kompltte': 694, 'sortiment': 1054, 'zertifiziert': 1303, 'landkaffees': 720, 'demeterqualit': 249, 'beste': 154, 'gerade': 481, 'espressi': 350, 'artig': 78, 'schokoladig': 1016, 'weich': 1259, 'aromatisch': 75, 'darum': 243, 'maximal': 796, 'macht': 774, 'lust': 772, 'mehr': 800, 'beim': 113, 'ffnen': 402, 'te': 1111, 'steigen': 1079, 'kr': 709, 'ftigen': 430, 'aromen': 77, 'nase': 844, 'einzelnen': 304, 'handelt': 541, 'spitzenklasse': 1064, 'morgen': 826, 'tat': 1107, 'vollbracht': 1232, 'kaffeebauern': 634, 'kaffeekonsum': 642, 'bezahlt': 174, 'sozial': 1057, 'abgesichert': 9, 'wahnsinnig': 1250, 'tolles': 1127, 'projekt': 935, 'paar': 897, 'jahren': 622, 'geldbeutel': 458, 'gr': 523, 'wiener': 1283, 'verf': 1197, 'hrung': 597, 'male': 787, 'eingekauft': 300, 'einfach': 298, 'berzeugte': 144, 'ganze': 434, 'bohnen': 201, 'vollautomaten': 1231, 'aldi': 25, 'sterei': 1081, 'cafe': 212, 'crema': 231, 'vorteil': 1246, 'fast': 385, 'stadt': 1072, 'fairen': 372, 'gbar': 436, 'lieblingskaffees': 755, 'voller': 1237, 'tolle': 1124, 'crem': 230, 'probiert': 925, 'meisten': 804, 'schmecken': 1007, 'eher': 292, 'fad': 368, 'magenfreundlichen': 778, 'koffeinhaltigen': 686, 'gepa': 479, 'sagen': 989, 'magensensiblen': 782, 'menschen': 806, 'vertragen': 1214, 'mazkaffee': 797, 'alnatura': 32, 'alternative': 34, 'vertr': 1212, 'gt': 528, 'rzig': 986, 'pur': 940, 'hei': 552, 'em': 308, 'wasser': 1256, 'aufgel': 82, 'st': 1071, 'bek': 115, 'mmlich': 820, 'mag': 775, 'abrunden': 12, 'morgens': 827, 'aufstehen': 88, 'riechen': 969, 'ganzen': 435, 'tag': 1103, 'weiterempfehlen': 1262, 'benutze': 123, 'kaffeepads': 646, 'darboven': 241, 'senseo': 1032, 'vorher': 1243, 'kaffeesorten': 652, 'ausprobiert': 96, 'heren': 559, 'bioqualit': 186, 'zuschlag': 1316, 'handel': 539, 'voll': 1229, 'gerechtfertigt': 483, 'hervorragend': 569, 'glichen': 520, 'genuss': 476, 'fr': 416, 'her': 555, 'trank': 1133, 'masse': 794, 'massen': 795, 'heute': 571, 'berzeugt': 143, 'vollmundig': 1240, 'dabei': 234, 'wenigen': 1269, 'familie': 378, 'duft': 275, 'hrt': 595, 'braucht': 206, 'kleine': 679, 'menge': 805, 'daher': 237, 'ergiebig': 333, 'sch': 996, 'ne': 850, 'farbe': 384, 'rund': 982, 'harmonisch': 544, 'stimmt': 1089, 'sarboven': 991, 'intencion': 614, 'volles': 1238, 'guter': 534, 'absolut': 13, 'empfehlenswert': 310, 'leistungs': 745, 'verh': 1202, 'super': 1099, 'qualit': 942, 'llt': 762, 'deshalb': 251, 'bitte': 192, 'anstelle': 61, 'normalem': 880, 'helfen': 554, 'armen': 73, 'kindern': 672, 'afrika': 21, 'vollbringen': 1233, 'moralische': 825, 'wohltat': 1288, 'nat': 845, 'rlich': 975, 'kostet': 708, 'cent': 216, 'billig': 182, 'tut': 1150, 'zeitalter': 1302, 'sache': 988, 'dingen': 261, 'wahrer': 1251, 'freut': 424, 'chste': 222, 'kaffeepause': 647, 'mal': 786, 'ausprobieren': 95, 'lohnt': 765, 'kaffeeduft': 636, 'durchs': 281, 'haus': 547, 'str': 1090, 'mt': 832, 'kaffeehaus': 640, 'konzept': 704, 'ebenfalls': 284, 'bioqulit': 187, 'wohl': 1286, 'bestellung': 158, 'bleiben': 197, 'schade': 997, 'marke': 790, 'konnten': 697, 'bisher': 189, 'drei': 272, 'verschiedene': 1209, 'gemahlenen': 464, 'papua': 904, 'neuguinea': 859, 'arabice': 66, 'instant': 610, 'sticks': 1086, 'dinkel': 262, 'chai': 217, 'bietet': 180, 'edles': 290, 'verpackungsdesign': 1207, 'tollen': 1125, 'fairtrade': 375, 'sortenvielfalt': 1053, 'preise': 917, 'lobenswert': 763, 'aussage': 97, 'mountagen': 830, 'fortgeschrittene': 415, 'zustimmen': 1317, 'froh': 427, 'entdeckt': 317, 'glichkeit': 521, 'hilfe': 575, 'selbsthilfe': 1030, 'genu': 474, 'unterst': 1180, 'tzen': 1152, 'kalt': 657, 'aufgesetzt': 84, 'aufgebr': 81, 'ht': 598, 'angenehm': 50, 'bestelle': 155, 'ber': 124, 'href': 594, 'http': 600, 'www': 1296, 'kooperative': 705, 'de': 246, 'target': 1104, 'blank': 196, 'rel': 957, 'nofollow': 879, 'abo': 10, 'zuverl': 1318, 'ssig': 1069, 'gdb80': 437, 'hifreich': 573, 'nf': 860, 'uneingeschr': 1167, 'nkte': 872, 'empfehlung': 311, 'glich': 519, 'seit': 1028, 'transparent': 1135, 'langfristig': 725, 'erstklassig': 342, 'edel': 289, 'recyclebare': 952, 'folie': 413, 'aluminium': 36, 'genutzt': 478, 'schlechter': 1004, 'rangiert': 943, 'eben': 283, 'mittelfeld': 817, 'fehlt': 390, 'runde': 983, 'note': 882, 'tig': 1120, 'zugegeben': 1312, 'echt': 286, 'verw': 1215, 'hnt': 588, 'bewerten': 168, 'wert': 1274, 'liebe': 751, 'guten': 533, 'gewissen': 508, 'verwendeten': 1219, 'nehme': 852, 'vorgemahlenen': 1242, 'kaffeem': 644, 'hle': 581, 'ausgewogen': 90, 'total': 1129, 'tzenswertes': 1153, 'tchibo': 1110, 'highlight': 574, 'magenfreundlich': 777, 'raum': 944, '100': 0, 'ngemittel': 861, 'einmalig': 302, 'staroma': 1076, 'richtig': 966, 'klassiker': 675, 'angefangen': 46, 'schmecke': 1006, 'heraus': 556, 'glaubt': 515, 'nict': 866, 'sst': 1070, 'bekanntlich': 119, 'trefflich': 1137, 'streiten': 1092, 'jedenfalls': 625, 'ausgezeichnet': 92, 'vielleicht': 1225, 'mundet': 833, 'widerstrebt': 1280, 'unbestritten': 1166, 'faire': 370, 'aspekt': 79, 'produkts': 932, 'diskutierbar': 265, 'allerfeinsten': 28, 'oben': 888, 'beschrieben': 146, 'favorit': 386, 'nachdem': 836, 'pl': 913, 'tzlich': 1154, 'resp': 960, 'irgendwann': 617, 'mundete': 834, 'ahnung': 23, 'warum': 1255, 'nnte': 877, 'ja': 620, 'probieren': 924, 'kaufe': 662, 'hiesigen': 572, 'weltladen': 1265, 'firmenphilosophie': 412, 'berzeugend': 142, 'chte': 223, 'herk': 561, 'mmlichen': 821, 'traide': 1132, 'absoluter': 14, 'frisch': 425, 'zumal': 1315, 'gen': 467, 'minuspunkt': 813, 'arbeitskollegen': 72, 'umzusteigen': 1163, 'ca': 210, '50': 3, 'eur': 359, 'nstigsten': 887, 'geh': 447, 'rt': 978, 'laut': 730, 'fernsehwerbung': 398, 'extrem': 365, 'schonen': 1019, 'niedriger': 868, 'temperatur': 1113, 'ger': 480, 'stet': 1085, 'enth': 319, 'verbrannte': 1193, 'ferner': 397, 'schalen': 1000, 'gestreckt': 500, 'mahlwerk': 785, 'ab': 5, 'wei': 1258, 'papier': 902, 'tuch': 1147, 'tten': 1146, 'ffel': 401, 'bohnenbild': 202, 'anschauen': 56, 'angerufen': 52, 'beschwert': 147, 'telefon': 1112, 'bekam': 116, 'gesagt': 486, 'diesbez': 257, 'nne': 875, 'ausgesprochen': 89, 'aromatischer': 76, 'vollmundiger': 1241, 'kaffeegenuss': 639, 'zufall': 1309, 'bern': 134, 'trotz': 1143, 'preises': 918, 'gekauft': 453, 'lang': 722, 'kaufentscheidung': 665, 'bereut': 132, 'stern': 1082, 'abzug': 18, 'gebe': 439, 'aufgrund': 85, 'deutlich': 253, 'spezielle': 1061, 'anl': 54, 'sse': 1067, 'genussvolle': 477, 'zwischendurch': 1321, 'rmstens': 976, 'preiswert': 921, 'filterkaffee': 403, 'pads': 900, 'senseomaschine': 1033, 'duftete': 277, 'ftig': 429, 'schmeckte': 1010, 'fantastisch': 383, 'mehrere': 801, 'tassen': 1106, 'achte': 19, 'gegeben': 446, 'verwandtschaft': 1216, 'freunde': 421, 'empfehlen': 309, 'kaffeemaschine': 645, 'entstanden': 325, 'naturland': 846, 'rewe': 963, 'na': 835, 'klar': 673, 'siegel': 1038, 'gewissens': 509, 'konsumiert': 701, 'bedingungen': 106, 'wurde': 1294, 'fall': 377, 'kooperativen': 706, 'landwirtschaftliche': 721, 'unternehmen': 1175, 'ursprungsl': 1188, 'ndern': 849, 'rdert': 947, 'lohn': 764, 'mindeststandards': 812, 'unterschreitet': 1179, 'ufig': 1158, 'gewerkschaftsbewegungen': 506, 'ebenso': 285, 'einhalten': 301, 'sozialer': 1058, 'standards': 1074, 'wichtige': 1278, 'rolle': 977, 'spielt': 1063, 'kurz': 716, 'knapp': 683, 'konsumenten': 700, 'bezahlten': 175, 'geht': 452, 'tats': 1108, 'chlichen': 221, 'produzenten': 934, 'ware': 1253, 'zudem': 1308, 'menschenw': 807, 'rdigen': 948, 'arbeiten': 69, 'au': 80, 'erdem': 329, 'schmmmmeckt': 1012, 'bestimmte': 161, 'fein': 393, 'gemahlene': 463, 'eignen': 295, 'verwendung': 1220, 'kaffeeautomaten': 633, 'jedoch': 627, 'packung': 898, 'erkennen': 335, 'fairer': 373, 'teuer': 1117, 'besonderes': 150, 'rze': 985, 'aufgesch': 83, 'umter': 1161, 'rker': 971, 'hnlich': 584, 'zubereitet': 1305, 'caf': 211, 'esperanza': 349, 'besten': 159, 'hoch': 590, 'studentenhaushalt': 1093, 'hinsichtlich': 578, 'ungef': 1169, 'hr': 593, 'zwei': 1319, 'verwenden': 1218, 'sund': 1098, 'gleichbleibender': 517, 'wermutstropfen': 1273, 'manchmal': 788, 'schwer': 1022, 'treu': 1138, 'gehandeltes': 451, 'breite': 207, 'sorte': 1051, 'besonders': 151, 'berrascht': 136, 'niemals': 869, 'getrunken': 504, 'ausschlaggebend': 98, 'gew': 505, 'hlt': 582, 'pulver': 936, 'wiederbef': 1281, 'llbaren': 760, 'kapseln': 659, 'nespressomaschine': 856, 'jaja': 623, 'se': 1024, 'ding': 260, 'wach': 1248, 'fettig': 400, 'klebrig': 677, 'ansprechende': 60, 'schneller': 1014, 'versand': 1208, 'deutschland': 254, 'gutes': 535, 'fazit': 388, 'volle': 1234, 'punktzahl': 939, 'geschmackstechnisch': 494, 'unschlagbar': 1172, 'kaum': 668, 'nachteile': 841, 'ko': 684, 'transporte': 1136, 'kologisiert': 689, 'nr': 883, 'warentransporte': 1254, 'bersee': 138, 'rfen': 964, 'betreibenen': 166, 'frachtern': 417, 'geschehen': 487, 'diesel': 258, 'bzw': 209, 'pflanzen': 912, 'motoren': 828, 'sicher': 1035, 'geschmackssache': 493, 'arbeits': 70, 'lebensbedingungen': 733, 'erzeugern': 348, 'einf': 297, 'angelique': 48, 'finest': 409, 'startnext': 1077, 'tzt': 1155, 'entscheidung': 322, 'mahle': 783, 'br': 204, 'he': 549, 'pressstempelkanne': 922, 'weiterhin': 1263, 'ruanda': 980, 'beziehen': 176, 'werben': 1272, 'mehrpreis': 802, 'unterschied': 1176, 'existenz': 361, 'selbstwertgef': 1031, 'produktionsprozess': 931, 'beteiligten': 165, 'win': 1284, 'situation': 1041, 'namen': 843, 'verdient': 1196, 'kommen': 692, 'durchprobiert': 280, 'stie': 1087, 'seitdem': 1029, 'einzigen': 306, 'bekannten': 118, 'rkeren': 972, 'enthalten': 320, 'leicht': 743, 'ftiges': 432, 'dennoch': 250, 'wenig': 1268, 'bitterkeit': 195, 'vergleich': 1201, 'markenkaffees': 792, 'durchaus': 279, 'akzeptabel': 24, 'bislang': 190, 'barista': 104, 'gehandelte': 449, 'freunden': 422, 'familienmitgliedern': 380, 'endlich': 316, 'berall': 125, 'jubel': 629, 'ausl': 94, 'bolivien': 203, 'yungas': 1297, 'tte': 1145, 'schokoladigen': 1017, 'jahr': 621, 'jamaika': 624, 'angeblich': 45, 'zweitbesten': 1320, 'welt': 1264, 'blue': 199, 'mountain': 831, 'coffee': 228, 'ort': 896, 'besser': 152, 'wesentlich': 1276, 'preisg': 919, 'nstiger': 886, 'geschmackvoll': 495, 'allein': 27, 'mahlen': 784, 'bekommt': 122, 'direkt': 263, 'perfekt': 906, 'edeka': 288, 'eigenmarke': 293, 'hersteller': 567, 'weitem': 1260, 'bertroffen': 139, 'verbreiten': 1195, 'frischen': 426, 'udn': 1156, 'genau': 468, 'richtigen': 968, 'stung': 1094, 'sieht': 1039, 'schonend': 1020, 'behandelt': 108, 'wurden': 1295, 'landkaffee': 719, 'zeit': 1301, 'produktion': 930, 'umgestellt': 1159, 'sbar': 994, 'schickte': 1003, 'dose': 267, 'firma': 410, 'reklamation': 956, 'herr': 565, 'suhr': 1097, 'erkl': 336, 'rte': 979, 'entschuldigte': 323, 'versprach': 1211, 'bald': 102, 'urspr': 1187, 'nglichen': 863, 'entsch': 321, 'digung': 259, 'dosen': 268, 'sliche': 1043, 'schokolade': 1015, 'gig': 512, 'fand': 382, 'achtung': 20, 'meinung': 803, 'abstand': 15, 'fairtrage': 376, 'markt': 793, 'abgesehen': 8, 'stilvoll': 1088, 'aussieht': 99, 'typische': 1151, 'eu': 358, 'biosiegel': 188, 'tr': 1130, 'unheimlich': 1170, 'mild': 811, 'urearm': 1185, 'intensiv': 615, 'beschreiben': 145, 'fehlen': 389, 'unserer': 1173, 'sprache': 1065, 'worte': 1290, 'unterschiedlichsten': 1178, 'anbietern': 41, 'decaf': 247, 'nnten': 878, 'ruhig': 981, 'dunkler': 278, 'weniger': 1270, 'sauer': 993, 'ansonsten': 57, 'recht': 951, 'normalen': 881, 'superm': 1100, 'rkten': 974, 'sogar': 1046, 'discountern': 264, 'kaufland': 666, 'erhalten': 334, 'bioladen': 185, 'erreichbarer': 338, 'lieben': 752, 'nein': 853, 'trinkt': 1142, 'euro': 360, 'circle': 225, 'scharf': 1001, 'kram': 710, 'mitarbeiterin': 816, 'weltladens': 1266, 'ausgiebig': 93, 'exzellente': 367, 'schonenden': 1021, 'freude': 420, 'herkunftsl': 562, 'chiapas': 219, 'spezialit': 1060, 'ten': 1114, 'serie': 1034, 'geschmacklich': 491, 'bereite': 129, 'espressokocher': 353, 'dosierung': 269, 'sparsam': 1059, 'mittelkr': 818, 'harmoniert': 543, 'handelsbedingungen': 540, 'lebt': 737, 'brauche': 205, 'erw': 344, 'hnen': 583, 'alltagskaffee': 31, 'ordentlich': 894, 'sicherlich': 1036, 'bessere': 153, 'teurer': 1118, 'sonn': 1048, 'feiertagsbohne': 391, 'schmeckender': 1008, 'etwa': 357, 'anderthalb': 43, 'instantvariante': 611, 'herstellers': 568, 'unkompliziert': 1171, 're': 949, 'eigentlich': 294, 'sechs': 1025, 'leckerer': 741, 'pad': 899, 'form': 414, 'hektischen': 553, 'alltag': 30, 'tatsache': 1109, 'hintergrund': 579, 'kaffeetrinken': 653, 'schlechtes': 1005, 'bekannt': 117, 'firmen': 411, 'herstellen': 566, 'lassen': 728, 'perfekte': 907, 'pers': 909, 'nlich': 873, 'vertrage': 1213, 'magenschmerzen': 781, 'bekomme': 120, 'soja': 1047, 'rkegrad': 970, 'bestimme': 160, 'verfeinere': 1198, 'kuchen': 713, 'scgokoladenkreationen': 995, 'creme': 232, 'geb': 438, 'intenci': 613, 'beigeschmack': 112, 'verpackt': 1204, 'hauptsache': 546, 'zucker': 1307, 'supermarktkaffee': 1102, 'geldbetrag': 457, 'entwicklungsprojekte': 328, 'beisteuern': 114, 'darf': 242, 'restlos': 961, 'gekostet': 454, 'erschwinglichen': 339, 'kaffeesorte': 651, 'bohne': 200, 'gemahlen': 462, 'ngerem': 862, 'weitere': 1261, 'test': 1115, 'unterschiedlicher': 1177, 'biokaffees': 184, 'vollautomat': 1230, 'ende': 315, 'espressopulver': 355, 'gelandet': 455, 'ftiger': 431, 'hervorragende': 570, 'sternen': 1084, 'vergebe': 1199, 'nde': 847, 'kaffeekauf': 641, 'konkret': 695, 'darauf': 239, 'abzielt': 17, 'lebens': 731, 'arbeitsbedingungen': 71, 'familien': 379, 'schaffen': 999, 'entweder': 327, 'keramik': 671, 'handfilter': 542, 'filtermaschine': 404, 'crowdfunding': 233, 'kaffeevollautomaten': 655, 'geeignet': 443, 'monaten': 824, 'eltern': 307, 'durchschnittlich': 282, 'gemesssen': 466, 'konventionellen': 703, 'hnlicher': 586, 'preisklasse': 920, 'einerseits': 296, 'genug': 475, 'andererseits': 42, 'bisschen': 191, 'uregehalt': 1186, 'drin': 273, 'freilich': 419, 'leuten': 749, 'ankommen': 53, 'hoffen': 591, 'geben': 440, 'langem': 724, 'suchen': 1096, 'laden': 718, 'gefunden': 445, 'besondere': 149, 'anbaus': 40, 'angemessen': 49, 'vieltrinker': 1227, 'gelegenheitstrinkerin': 459, 'geschenk': 488, 'kaffe': 630, 'finden': 407, 'dienst': 256, 'gleichzeitig': 518, 'genial': 472, 'nimmt': 870, 'altomayao': 35, 'bereich': 127, 'amkommt': 37, 'mann': 789, 'probleme': 926, 'sodbrennen': 1044, 'genervte': 471, 'allergikerin': 29, 'bewu': 170, 'produkten': 929, 'greift': 525, 'partner': 905, 'mmlicher': 822, 'anbauen': 39, 'gerechten': 482, 'bekommen': 121, 'erwarten': 345, 'danke': 238, 'langfristiger': 726, 'medikamenteneinnahme': 799, 'magenschleimhaut': 780, 'stark': 1075, 'angegriffen': 47, 'infolgedessen': 604, 'berempfindlicher': 130, 'magen': 776, 'reagierte': 950, 'permanent': 908, 'heftigen': 551, 'krampfartigen': 711, 'schmerzen': 1011, 'konsum': 699, 'bestimmter': 162, 'lebensmittel': 736, 'halben': 537, 'konnte': 696, 'rede': 953, 'marken': 791, 'jedesmal': 626, 'bereuen': 131, 'lange': 723, 'verzichtet': 1221, 'bewertungen': 169, 'empfehlungen': 312, 'gelesen': 460, 'erstmals': 343, 'skeptisch': 1042, 'vorstellen': 1245, 'jemals': 628, 'reue': 962, 'gilt': 513, 'doppeltem': 266, 'sinne': 1040, 'hinblick': 576, 'wohlbefinden': 1287, 'bez': 172, 'nachhaltigkeit': 840, 'punkten': 938, 'kontrolliert': 702, 'kologischer': 688, 'anbau': 38, 'vollends': 1236, 'wahrscheinlich': 1252, 'zukunft': 1314, 'experimente': 362, 'wagen': 1249, 'treue': 1139, 'halten': 538, 'hermes': 564, 'versenden': 1210, 'sonnst': 1049, 'ok': 891, 'intenc': 612, 'on': 893, 'kam': 658, 'bewusst': 171, 'bleibt': 198, 'tue': 1148, 'kauf': 661, 'abends': 6, 'puscht': 941, 'irgendwie': 618, 'rkt': 973, 'kaffeele': 643, 'wertvoll': 1275, 'hinsicht': 577, 'inkl': 607, 'probe': 923, 'dritten': 274, 'schwester': 1023, 'bestellt': 157, 'definitiv': 248, 'geschmackvoller': 496, 'wichtig': 1277, 'deswegen': 252, 'vergeben': 1200, 'transfair': 1134, 'utopia': 1190, 'cooperative': 229, 'gesto': 499, '1kg': 1, 'testpaket': 1116, 'positive': 915, 'berraschung': 137, 'erwiesen': 346, 'schnelle': 1013, 'offensichtlich': 889, 'gewinn': 507, 'erzeuger': 347, 'ausgewogenes': 91, 'neben': 851, 'egal': 291, 'beide': 111, 'ergew': 332, 'hnliches': 587, 'gutem': 532, 'worden': 1289, 'gehandelten': 450, 'berwiegend': 140, 'verbleibt': 1192, 'herkunftsland': 563, 'arbeit': 68, 'arabicabohne': 65, 'rausshmecken': 945, 'bi': 178, 'chen': 218, 'glaub': 514, 'ansprechend': 59, 'tigen': 1121, 'informatioen': 605, 'zugeben': 1311, 'suche': 1095, 'neuen': 858, 'espressosorte': 356, 'sofort': 1045, 'unvergleichlichen': 1182, 'dezenter': 255, 'zartbitterschokolade': 1300, 'kaffeepulver': 649, 'rundum': 984, 'fairem': 371, 'besitze': 148, 'leider': 744, 'vollkommen': 1239, 'italienischen': 619, 'moka': 823, 'express': 363, 'sowohl': 1056, 'sanft': 990, 'zugleich': 1313, 'abgerundetes': 7, 'geschmackserlebnis': 492, 'pfelchen': 911, 'nachhaltigere': 839, 'liegt': 758, 'unteren': 1174, 'segment': 1027, 'einzelhandel': 303, 'kaufempfehlung': 663, 'aussprechen': 100, 'ur': 1183, 'alt': 33, 'bew': 167, 'hrtes': 596, 'vielseitiges': 1226, 'produktsortiment': 933, 'chten': 224, 'vorreiterrolle': 1244, 'vorz': 1247, 'unverf': 1181, 'lscht': 766, 'leckeren': 740, 'milchkaffee': 810, 'feinster': 396, 'feines': 395, 'behinderte': 110, 'beteiligt': 164, 'gern': 484, 'bereit': 128, 'zahlen': 1299, 'standardkaffee': 1073, 'organico': 895, 'hten': 599, 'gem': 461, 'tlichkeit': 1122, 'aufkommen': 86, 'weckt': 1257, 'lebensgeister': 734, 'kaffeetrinker': 654, 'ansprechen': 58, 'rfte': 965, 'espressomaschine': 354, 'kaffes': 656, 'favoriten': 387, 'gustoni': 529, 'ssen': 1068, 'internet': 616, 'echtes': 287, 'freundin': 423, 'paket': 901, 'geburtstag': 442, 'geschenkt': 489, 'gemahlener': 465, 'lieber': 753, 'bedarf': 105, 'vielf': 1224, 'ltige': 769, 'auswahl': 101, 'richtige': 967, 'kaffeebohnen': 635, 'langzeitger': 727, 'dadurch': 235, 'verlassen': 1203, 'drauf': 271, 'steht': 1078, 'kleinbauern': 678, 'lebensgrundlage': 735, 'sichert': 1037, 'all': 26, 'kriterien': 712, 'erf': 330, 'bitterer': 194, 'nachgeschmack': 837, 'luschig': 771, 'feine': 394, 'spritzer': 1066, 'agavendicksaft': 22, 'wer': 1271, 'scheint': 1002, 'bezahlen': 173, 'reserve': 959, 'leckere': 739, 'angebaut': 44, 'verarbeitet': 1191, 'klimafreundlich': 682, 'segelboot': 1026, 'findet': 408, 'top': 1128, 'kaufte': 667, 'oma': 892, 'generationen': 470, 'bernommen': 135, 'berhaupt': 133, 'kaffeeanbieter': 632, '20': 2, 'bezweifeln': 177, 'supermarkt': 1101, 'expresso': 364, 'empfindlichen': 313, 'magens': 779, 'sorgf': 1050, 'ltig': 768, 'greife': 524, 'exzellent': 366, 'ner': 855, 'verwende': 1217, 'ice': 601, 'regale': 954, 'erobert': 337, '99': 4, 'besuch': 163, 'oft': 890, 'sten': 1080, 'biete': 179, 'gourmet': 522, 'lebensbaum': 732, 'unbedingt': 1165, 'vier': 1228, 'keinenfalls': 669, 'legt': 742, 'entsprechende': 324, 'gest': 498, 'nachhaltiger': 838, 'verpackungen': 1206, 'wiedererkenungswert': 1282, 'strahlen': 1091, 'anmutiges': 55, 'verbraucher': 1194, 'gebracht': 441, 'ideal': 602, 'zubereitung': 1306, 'toller': 1126, 'rzigem': 987, 'un': 1164, 'dder': 245, 'sowei': 1055, 'leistungverh': 747, 'kenne': 670, 'fertige': 399, 'nn': 874, 'arabischer': 67, 'kardamom': 660, 'koriander': 707, 'zimt': 1304, 'gend': 469, 'berdeckt': 126, 'nstigen': 885, 'caff': 213, 'nen': 854, 'entgegenstr': 318, 'bildet': 181, 'merkt': 808, 'espressodrehkanne': 352, 'kleines': 681, 'find': 405, 'klassse': 676, 'herausforderung': 557, 'speziellen': 1062, 'herb': 558, 'hause': 548, 'trotzdem': 1144}:\n"
          ],
          "name": "stdout"
        }
      ]
    },
    {
      "cell_type": "code",
      "metadata": {
        "id": "wUM35zs0pN_c"
      },
      "source": [
        "cv.get_feature_names()"
      ],
      "execution_count": null,
      "outputs": []
    },
    {
      "cell_type": "code",
      "metadata": {
        "id": "Il6V8yOFtvXR"
      },
      "source": [
        "tfidf = TfidfVectorizer(max_features=2000,dtype=np.float32,analyzer='word',\n",
        "                        ngram_range=(1, 3),use_idf=True, smooth_idf=True, \n",
        "                        sublinear_tf=True)\n",
        "X_tf = tfidf.fit_transform(tr_corpus).toarray()\n",
        "X_test_tf = tfidf.fit_transform(te_corpus).toarray()"
      ],
      "execution_count": null,
      "outputs": []
    },
    {
      "cell_type": "code",
      "metadata": {
        "id": "5B1IHXYQ4ZhK"
      },
      "source": [
        "from sklearn.ensemble import RandomForestClassifier"
      ],
      "execution_count": null,
      "outputs": []
    },
    {
      "cell_type": "code",
      "metadata": {
        "id": "5cDJ8kDd4ZjO"
      },
      "source": [
        "rf = RandomForestClassifier()"
      ],
      "execution_count": null,
      "outputs": []
    },
    {
      "cell_type": "code",
      "metadata": {
        "id": "IvQAvOzO4ZnA",
        "outputId": "0d7f23d2-aa1f-4084-e891-ce28d13f88c3",
        "colab": {
          "base_uri": "https://localhost:8080/",
          "height": 153
        }
      },
      "source": [
        "rf.fit(X_cv, y_train.values.ravel())"
      ],
      "execution_count": null,
      "outputs": [
        {
          "output_type": "execute_result",
          "data": {
            "text/plain": [
              "RandomForestClassifier(bootstrap=True, ccp_alpha=0.0, class_weight=None,\n",
              "                       criterion='gini', max_depth=None, max_features='auto',\n",
              "                       max_leaf_nodes=None, max_samples=None,\n",
              "                       min_impurity_decrease=0.0, min_impurity_split=None,\n",
              "                       min_samples_leaf=1, min_samples_split=2,\n",
              "                       min_weight_fraction_leaf=0.0, n_estimators=100,\n",
              "                       n_jobs=None, oob_score=False, random_state=None,\n",
              "                       verbose=0, warm_start=False)"
            ]
          },
          "metadata": {
            "tags": []
          },
          "execution_count": 41
        }
      ]
    },
    {
      "cell_type": "code",
      "metadata": {
        "id": "bGMfFK-R4Zqb",
        "outputId": "caf033af-036e-4f82-b8d5-e361473ec30c",
        "colab": {
          "base_uri": "https://localhost:8080/",
          "height": 136
        }
      },
      "source": [
        "rf.predict(X_test_cv)"
      ],
      "execution_count": null,
      "outputs": [
        {
          "output_type": "execute_result",
          "data": {
            "text/plain": [
              "array([1, 1, 1, 1, 1, 1, 1, 1, 1, 1, 1, 1, 1, 1, 1, 1, 1, 1, 1, 1, 1, 1,\n",
              "       1, 1, 1, 1, 1, 1, 1, 1, 1, 1, 1, 1, 1, 1, 1, 1, 1, 1, 1, 1, 1, 1,\n",
              "       1, 1, 1, 1, 1, 1, 1, 1, 1, 1, 1, 1, 1, 1, 1, 1, 1, 1, 1, 1, 1, 1,\n",
              "       1, 1, 1, 1, 1, 1, 1, 1, 1, 1, 1, 1, 1, 1, 1, 1, 1, 1, 1, 1, 1, 1,\n",
              "       1, 1, 1, 1, 1, 1, 1, 1, 1, 1, 1, 1, 1, 1, 1, 1, 1, 1, 1, 1, 1, 1,\n",
              "       1, 1, 1, 1, 1, 1, 1, 1, 1, 1, 1, 1, 1, 1, 1, 1, 1, 1, 1, 1, 1, 1,\n",
              "       1, 1, 1, 1, 1, 1, 1, 1])"
            ]
          },
          "metadata": {
            "tags": []
          },
          "execution_count": 42
        }
      ]
    },
    {
      "cell_type": "code",
      "metadata": {
        "id": "udhjP-XOy3Fj",
        "outputId": "081b7c6f-b74c-4996-eb46-2babc1f79a84",
        "colab": {
          "base_uri": "https://localhost:8080/",
          "height": 1000
        }
      },
      "source": [
        "rf.predict_proba(X_test_cv)"
      ],
      "execution_count": null,
      "outputs": [
        {
          "output_type": "execute_result",
          "data": {
            "text/plain": [
              "array([[0.06833333, 0.93166667],\n",
              "       [0.03166667, 0.96833333],\n",
              "       [0.02      , 0.98      ],\n",
              "       [0.08      , 0.92      ],\n",
              "       [0.07      , 0.93      ],\n",
              "       [0.06      , 0.94      ],\n",
              "       [0.06      , 0.94      ],\n",
              "       [0.14333333, 0.85666667],\n",
              "       [0.02      , 0.98      ],\n",
              "       [0.08      , 0.92      ],\n",
              "       [0.04      , 0.96      ],\n",
              "       [0.01      , 0.99      ],\n",
              "       [0.09      , 0.91      ],\n",
              "       [0.        , 1.        ],\n",
              "       [0.        , 1.        ],\n",
              "       [0.01      , 0.99      ],\n",
              "       [0.03      , 0.97      ],\n",
              "       [0.01      , 0.99      ],\n",
              "       [0.02      , 0.98      ],\n",
              "       [0.        , 1.        ],\n",
              "       [0.        , 1.        ],\n",
              "       [0.        , 1.        ],\n",
              "       [0.        , 1.        ],\n",
              "       [0.01      , 0.99      ],\n",
              "       [0.11166667, 0.88833333],\n",
              "       [0.        , 1.        ],\n",
              "       [0.01      , 0.99      ],\n",
              "       [0.07      , 0.93      ],\n",
              "       [0.14      , 0.86      ],\n",
              "       [0.00333333, 0.99666667],\n",
              "       [0.03      , 0.97      ],\n",
              "       [0.06      , 0.94      ],\n",
              "       [0.16      , 0.84      ],\n",
              "       [0.01      , 0.99      ],\n",
              "       [0.        , 1.        ],\n",
              "       [0.02      , 0.98      ],\n",
              "       [0.04      , 0.96      ],\n",
              "       [0.        , 1.        ],\n",
              "       [0.        , 1.        ],\n",
              "       [0.08666667, 0.91333333],\n",
              "       [0.11      , 0.89      ],\n",
              "       [0.01      , 0.99      ],\n",
              "       [0.04      , 0.96      ],\n",
              "       [0.05      , 0.95      ],\n",
              "       [0.02      , 0.98      ],\n",
              "       [0.05      , 0.95      ],\n",
              "       [0.08      , 0.92      ],\n",
              "       [0.02      , 0.98      ],\n",
              "       [0.07      , 0.93      ],\n",
              "       [0.02      , 0.98      ],\n",
              "       [0.        , 1.        ],\n",
              "       [0.05      , 0.95      ],\n",
              "       [0.12516667, 0.87483333],\n",
              "       [0.        , 1.        ],\n",
              "       [0.01      , 0.99      ],\n",
              "       [0.06833333, 0.93166667],\n",
              "       [0.1       , 0.9       ],\n",
              "       [0.06      , 0.94      ],\n",
              "       [0.01      , 0.99      ],\n",
              "       [0.01      , 0.99      ],\n",
              "       [0.        , 1.        ],\n",
              "       [0.        , 1.        ],\n",
              "       [0.06      , 0.94      ],\n",
              "       [0.01      , 0.99      ],\n",
              "       [0.065     , 0.935     ],\n",
              "       [0.08      , 0.92      ],\n",
              "       [0.11      , 0.89      ],\n",
              "       [0.03      , 0.97      ],\n",
              "       [0.        , 1.        ],\n",
              "       [0.08      , 0.92      ],\n",
              "       [0.13333333, 0.86666667],\n",
              "       [0.        , 1.        ],\n",
              "       [0.09      , 0.91      ],\n",
              "       [0.01      , 0.99      ],\n",
              "       [0.07      , 0.93      ],\n",
              "       [0.05      , 0.95      ],\n",
              "       [0.04766667, 0.95233333],\n",
              "       [0.        , 1.        ],\n",
              "       [0.        , 1.        ],\n",
              "       [0.03      , 0.97      ],\n",
              "       [0.15      , 0.85      ],\n",
              "       [0.04      , 0.96      ],\n",
              "       [0.        , 1.        ],\n",
              "       [0.05      , 0.95      ],\n",
              "       [0.04      , 0.96      ],\n",
              "       [0.05      , 0.95      ],\n",
              "       [0.05      , 0.95      ],\n",
              "       [0.03      , 0.97      ],\n",
              "       [0.02      , 0.98      ],\n",
              "       [0.04333333, 0.95666667],\n",
              "       [0.02      , 0.98      ],\n",
              "       [0.06      , 0.94      ],\n",
              "       [0.        , 1.        ],\n",
              "       [0.        , 1.        ],\n",
              "       [0.01      , 0.99      ],\n",
              "       [0.01      , 0.99      ],\n",
              "       [0.        , 1.        ],\n",
              "       [0.01      , 0.99      ],\n",
              "       [0.06      , 0.94      ],\n",
              "       [0.        , 1.        ],\n",
              "       [0.        , 1.        ],\n",
              "       [0.1       , 0.9       ],\n",
              "       [0.04      , 0.96      ],\n",
              "       [0.1       , 0.9       ],\n",
              "       [0.        , 1.        ],\n",
              "       [0.07      , 0.93      ],\n",
              "       [0.02      , 0.98      ],\n",
              "       [0.05266667, 0.94733333],\n",
              "       [0.03      , 0.97      ],\n",
              "       [0.02      , 0.98      ],\n",
              "       [0.01      , 0.99      ],\n",
              "       [0.01      , 0.99      ],\n",
              "       [0.06      , 0.94      ],\n",
              "       [0.        , 1.        ],\n",
              "       [0.05      , 0.95      ],\n",
              "       [0.076     , 0.924     ],\n",
              "       [0.03      , 0.97      ],\n",
              "       [0.061     , 0.939     ],\n",
              "       [0.        , 1.        ],\n",
              "       [0.09      , 0.91      ],\n",
              "       [0.07433333, 0.92566667],\n",
              "       [0.        , 1.        ],\n",
              "       [0.        , 1.        ],\n",
              "       [0.096     , 0.904     ],\n",
              "       [0.        , 1.        ],\n",
              "       [0.        , 1.        ],\n",
              "       [0.1       , 0.9       ],\n",
              "       [0.04      , 0.96      ],\n",
              "       [0.        , 1.        ],\n",
              "       [0.04      , 0.96      ],\n",
              "       [0.04      , 0.96      ],\n",
              "       [0.02      , 0.98      ],\n",
              "       [0.04333333, 0.95666667],\n",
              "       [0.07      , 0.93      ],\n",
              "       [0.03      , 0.97      ],\n",
              "       [0.04      , 0.96      ],\n",
              "       [0.03      , 0.97      ],\n",
              "       [0.05      , 0.95      ],\n",
              "       [0.065     , 0.935     ],\n",
              "       [0.08      , 0.92      ]])"
            ]
          },
          "metadata": {
            "tags": []
          },
          "execution_count": 43
        }
      ]
    },
    {
      "cell_type": "code",
      "metadata": {
        "id": "pgAKbX5C4Zlj"
      },
      "source": [
        ""
      ],
      "execution_count": null,
      "outputs": []
    },
    {
      "cell_type": "code",
      "metadata": {
        "id": "M2XaIEwdtvZE"
      },
      "source": [
        " params = {        \n",
        "        'objective':'binary:logistic',\n",
        "        'learning_rate':0.01,\n",
        "        'max_depth':6,\n",
        "        'subsample':0.8,\n",
        "        'colsample_bytree':0.8,\n",
        "        'eval_metric':'auc',\n",
        "        'min_child_weight':10,\n",
        "        'scale_pos_weight':1,  \n",
        "        #'verbose':0,\n",
        "        'seed':1,        \n",
        "        'n_thread':-1 \n",
        "    }"
      ],
      "execution_count": null,
      "outputs": []
    },
    {
      "cell_type": "code",
      "metadata": {
        "id": "uH7TkAGN08rj",
        "outputId": "bfab39fe-c153-46a2-ddae-7ff1cf3a8a4a",
        "colab": {
          "base_uri": "https://localhost:8080/",
          "height": 34
        }
      },
      "source": [
        "y_test.shape, y_train.shape, train.shape, test.shape"
      ],
      "execution_count": null,
      "outputs": [
        {
          "output_type": "execute_result",
          "data": {
            "text/plain": [
              "((140, 1), (324, 1), (324, 1), (140, 1))"
            ]
          },
          "metadata": {
            "tags": []
          },
          "execution_count": 73
        }
      ]
    },
    {
      "cell_type": "code",
      "metadata": {
        "id": "KmK2sQof4IR4",
        "outputId": "131b370b-cbf8-43c9-8ab7-ea204cdf1f81",
        "colab": {
          "base_uri": "https://localhost:8080/",
          "height": 269
        }
      },
      "source": [
        "y_train.values.ravel()"
      ],
      "execution_count": null,
      "outputs": [
        {
          "output_type": "execute_result",
          "data": {
            "text/plain": [
              "array([1, 1, 1, 1, 1, 1, 1, 1, 1, 1, 1, 1, 1, 1, 1, 1, 1, 1, 0, 1, 1, 1,\n",
              "       1, 1, 0, 1, 1, 1, 1, 1, 1, 1, 1, 0, 1, 1, 1, 1, 1, 0, 0, 1, 1, 1,\n",
              "       1, 1, 1, 1, 1, 1, 1, 1, 1, 1, 1, 1, 1, 1, 1, 1, 1, 1, 1, 1, 1, 1,\n",
              "       1, 1, 1, 1, 1, 1, 1, 0, 1, 1, 1, 0, 1, 1, 1, 1, 1, 1, 1, 1, 1, 1,\n",
              "       1, 1, 1, 1, 1, 1, 0, 1, 0, 1, 1, 1, 1, 1, 1, 1, 1, 1, 1, 1, 1, 1,\n",
              "       1, 1, 1, 1, 1, 1, 1, 0, 0, 1, 1, 1, 1, 1, 1, 1, 1, 1, 1, 1, 1, 1,\n",
              "       1, 1, 1, 1, 1, 1, 1, 1, 1, 1, 1, 1, 1, 1, 1, 1, 1, 1, 1, 1, 1, 0,\n",
              "       1, 1, 1, 1, 1, 1, 1, 1, 1, 1, 1, 1, 1, 1, 1, 1, 1, 1, 1, 1, 1, 1,\n",
              "       1, 1, 1, 1, 1, 1, 1, 0, 1, 1, 1, 1, 1, 0, 1, 1, 1, 1, 1, 1, 1, 1,\n",
              "       1, 1, 1, 1, 1, 1, 1, 1, 1, 1, 1, 1, 1, 1, 0, 1, 1, 1, 1, 1, 1, 1,\n",
              "       1, 1, 1, 1, 1, 1, 1, 1, 1, 1, 1, 1, 1, 1, 1, 1, 1, 1, 1, 0, 1, 1,\n",
              "       1, 1, 1, 1, 0, 1, 1, 1, 1, 1, 1, 1, 1, 1, 1, 1, 1, 1, 1, 1, 1, 1,\n",
              "       1, 1, 1, 1, 1, 1, 1, 1, 1, 1, 1, 1, 1, 1, 1, 1, 1, 1, 1, 1, 1, 1,\n",
              "       1, 1, 1, 1, 1, 1, 1, 1, 1, 1, 0, 1, 1, 1, 0, 1, 1, 1, 1, 1, 1, 1,\n",
              "       1, 1, 1, 1, 0, 1, 1, 1, 1, 1, 1, 1, 1, 1, 1, 1])"
            ]
          },
          "metadata": {
            "tags": []
          },
          "execution_count": 81
        }
      ]
    },
    {
      "cell_type": "code",
      "metadata": {
        "id": "sryCn7W3tvbs"
      },
      "source": [
        "dtrain =xgb.DMatrix(X_cv, label = y_train.values.ravel())\n",
        "dtest = xgb.DMatrix(X_test_cv, label = y_test.values.ravel())"
      ],
      "execution_count": null,
      "outputs": []
    },
    {
      "cell_type": "code",
      "metadata": {
        "id": "5ZvYJXVT2QBw"
      },
      "source": [
        "n_rounds = 100"
      ],
      "execution_count": null,
      "outputs": []
    },
    {
      "cell_type": "code",
      "metadata": {
        "id": "AiwxHqLs3mb3",
        "outputId": "0d521ee4-62ad-4fca-861b-f8c9e61f6f06",
        "colab": {
          "base_uri": "https://localhost:8080/",
          "height": 67
        }
      },
      "source": [
        "np.mean(y_train), np.mean(y_test)"
      ],
      "execution_count": null,
      "outputs": [
        {
          "output_type": "execute_result",
          "data": {
            "text/plain": [
              "(sentiment    0.938272\n",
              " dtype: float64, sentiment    0.921429\n",
              " dtype: float64)"
            ]
          },
          "metadata": {
            "tags": []
          },
          "execution_count": 77
        }
      ]
    },
    {
      "cell_type": "code",
      "metadata": {
        "id": "VA3bwWbk2Xwv",
        "outputId": "70ee495e-f1af-40cf-ac3a-cfae15c8b321",
        "colab": {
          "base_uri": "https://localhost:8080/",
          "height": 592
        }
      },
      "source": [
        "cvresult = xgb.cv(params, dtrain, num_boost_round=150, nfold=15, metrics=['auc'],\n",
        "     early_stopping_rounds=50, seed=1301)"
      ],
      "execution_count": null,
      "outputs": [
        {
          "output_type": "error",
          "ename": "XGBoostError",
          "evalue": "ignored",
          "traceback": [
            "\u001b[0;31m---------------------------------------------------------------------------\u001b[0m",
            "\u001b[0;31mXGBoostError\u001b[0m                              Traceback (most recent call last)",
            "\u001b[0;32m<ipython-input-84-c2a10d9add75>\u001b[0m in \u001b[0;36m<module>\u001b[0;34m()\u001b[0m\n\u001b[1;32m      1\u001b[0m cvresult = xgb.cv(params, dtrain, num_boost_round=150, nfold=15, metrics=['auc'],\n\u001b[0;32m----> 2\u001b[0;31m      early_stopping_rounds=50, seed=1301)\n\u001b[0m",
            "\u001b[0;32m/usr/local/lib/python3.6/dist-packages/xgboost/training.py\u001b[0m in \u001b[0;36mcv\u001b[0;34m(params, dtrain, num_boost_round, nfold, stratified, folds, metrics, obj, feval, maximize, early_stopping_rounds, fpreproc, as_pandas, verbose_eval, show_stdv, seed, callbacks, shuffle)\u001b[0m\n\u001b[1;32m    443\u001b[0m                            evaluation_result_list=None))\n\u001b[1;32m    444\u001b[0m         \u001b[0;32mfor\u001b[0m \u001b[0mfold\u001b[0m \u001b[0;32min\u001b[0m \u001b[0mcvfolds\u001b[0m\u001b[0;34m:\u001b[0m\u001b[0;34m\u001b[0m\u001b[0;34m\u001b[0m\u001b[0m\n\u001b[0;32m--> 445\u001b[0;31m             \u001b[0mfold\u001b[0m\u001b[0;34m.\u001b[0m\u001b[0mupdate\u001b[0m\u001b[0;34m(\u001b[0m\u001b[0mi\u001b[0m\u001b[0;34m,\u001b[0m \u001b[0mobj\u001b[0m\u001b[0;34m)\u001b[0m\u001b[0;34m\u001b[0m\u001b[0;34m\u001b[0m\u001b[0m\n\u001b[0m\u001b[1;32m    446\u001b[0m         \u001b[0mres\u001b[0m \u001b[0;34m=\u001b[0m \u001b[0maggcv\u001b[0m\u001b[0;34m(\u001b[0m\u001b[0;34m[\u001b[0m\u001b[0mf\u001b[0m\u001b[0;34m.\u001b[0m\u001b[0meval\u001b[0m\u001b[0;34m(\u001b[0m\u001b[0mi\u001b[0m\u001b[0;34m,\u001b[0m \u001b[0mfeval\u001b[0m\u001b[0;34m)\u001b[0m \u001b[0;32mfor\u001b[0m \u001b[0mf\u001b[0m \u001b[0;32min\u001b[0m \u001b[0mcvfolds\u001b[0m\u001b[0;34m]\u001b[0m\u001b[0;34m)\u001b[0m\u001b[0;34m\u001b[0m\u001b[0;34m\u001b[0m\u001b[0m\n\u001b[1;32m    447\u001b[0m \u001b[0;34m\u001b[0m\u001b[0m\n",
            "\u001b[0;32m/usr/local/lib/python3.6/dist-packages/xgboost/training.py\u001b[0m in \u001b[0;36mupdate\u001b[0;34m(self, iteration, fobj)\u001b[0m\n\u001b[1;32m    228\u001b[0m     \u001b[0;32mdef\u001b[0m \u001b[0mupdate\u001b[0m\u001b[0;34m(\u001b[0m\u001b[0mself\u001b[0m\u001b[0;34m,\u001b[0m \u001b[0miteration\u001b[0m\u001b[0;34m,\u001b[0m \u001b[0mfobj\u001b[0m\u001b[0;34m)\u001b[0m\u001b[0;34m:\u001b[0m\u001b[0;34m\u001b[0m\u001b[0;34m\u001b[0m\u001b[0m\n\u001b[1;32m    229\u001b[0m         \u001b[0;34m\"\"\"\"Update the boosters for one iteration\"\"\"\u001b[0m\u001b[0;34m\u001b[0m\u001b[0;34m\u001b[0m\u001b[0m\n\u001b[0;32m--> 230\u001b[0;31m         \u001b[0mself\u001b[0m\u001b[0;34m.\u001b[0m\u001b[0mbst\u001b[0m\u001b[0;34m.\u001b[0m\u001b[0mupdate\u001b[0m\u001b[0;34m(\u001b[0m\u001b[0mself\u001b[0m\u001b[0;34m.\u001b[0m\u001b[0mdtrain\u001b[0m\u001b[0;34m,\u001b[0m \u001b[0miteration\u001b[0m\u001b[0;34m,\u001b[0m \u001b[0mfobj\u001b[0m\u001b[0;34m)\u001b[0m\u001b[0;34m\u001b[0m\u001b[0;34m\u001b[0m\u001b[0m\n\u001b[0m\u001b[1;32m    231\u001b[0m \u001b[0;34m\u001b[0m\u001b[0m\n\u001b[1;32m    232\u001b[0m     \u001b[0;32mdef\u001b[0m \u001b[0meval\u001b[0m\u001b[0;34m(\u001b[0m\u001b[0mself\u001b[0m\u001b[0;34m,\u001b[0m \u001b[0miteration\u001b[0m\u001b[0;34m,\u001b[0m \u001b[0mfeval\u001b[0m\u001b[0;34m)\u001b[0m\u001b[0;34m:\u001b[0m\u001b[0;34m\u001b[0m\u001b[0;34m\u001b[0m\u001b[0m\n",
            "\u001b[0;32m/usr/local/lib/python3.6/dist-packages/xgboost/core.py\u001b[0m in \u001b[0;36mupdate\u001b[0;34m(self, dtrain, iteration, fobj)\u001b[0m\n\u001b[1;32m   1107\u001b[0m         \u001b[0;32mif\u001b[0m \u001b[0mfobj\u001b[0m \u001b[0;32mis\u001b[0m \u001b[0;32mNone\u001b[0m\u001b[0;34m:\u001b[0m\u001b[0;34m\u001b[0m\u001b[0;34m\u001b[0m\u001b[0m\n\u001b[1;32m   1108\u001b[0m             _check_call(_LIB.XGBoosterUpdateOneIter(self.handle, ctypes.c_int(iteration),\n\u001b[0;32m-> 1109\u001b[0;31m                                                     dtrain.handle))\n\u001b[0m\u001b[1;32m   1110\u001b[0m         \u001b[0;32melse\u001b[0m\u001b[0;34m:\u001b[0m\u001b[0;34m\u001b[0m\u001b[0;34m\u001b[0m\u001b[0m\n\u001b[1;32m   1111\u001b[0m             \u001b[0mpred\u001b[0m \u001b[0;34m=\u001b[0m \u001b[0mself\u001b[0m\u001b[0;34m.\u001b[0m\u001b[0mpredict\u001b[0m\u001b[0;34m(\u001b[0m\u001b[0mdtrain\u001b[0m\u001b[0;34m)\u001b[0m\u001b[0;34m\u001b[0m\u001b[0;34m\u001b[0m\u001b[0m\n",
            "\u001b[0;32m/usr/local/lib/python3.6/dist-packages/xgboost/core.py\u001b[0m in \u001b[0;36m_check_call\u001b[0;34m(ret)\u001b[0m\n\u001b[1;32m    174\u001b[0m     \"\"\"\n\u001b[1;32m    175\u001b[0m     \u001b[0;32mif\u001b[0m \u001b[0mret\u001b[0m \u001b[0;34m!=\u001b[0m \u001b[0;36m0\u001b[0m\u001b[0;34m:\u001b[0m\u001b[0;34m\u001b[0m\u001b[0;34m\u001b[0m\u001b[0m\n\u001b[0;32m--> 176\u001b[0;31m         \u001b[0;32mraise\u001b[0m \u001b[0mXGBoostError\u001b[0m\u001b[0;34m(\u001b[0m\u001b[0mpy_str\u001b[0m\u001b[0;34m(\u001b[0m\u001b[0m_LIB\u001b[0m\u001b[0;34m.\u001b[0m\u001b[0mXGBGetLastError\u001b[0m\u001b[0;34m(\u001b[0m\u001b[0;34m)\u001b[0m\u001b[0;34m)\u001b[0m\u001b[0;34m)\u001b[0m\u001b[0;34m\u001b[0m\u001b[0;34m\u001b[0m\u001b[0m\n\u001b[0m\u001b[1;32m    177\u001b[0m \u001b[0;34m\u001b[0m\u001b[0m\n\u001b[1;32m    178\u001b[0m \u001b[0;34m\u001b[0m\u001b[0m\n",
            "\u001b[0;31mXGBoostError\u001b[0m: [09:39:28] /workspace/src/objective/regression_obj.cu:64: Check failed: info.labels_.Size() != 0U (0 vs. 0) : label set cannot be empty\nStack trace:\n  [bt] (0) /usr/local/lib/python3.6/dist-packages/xgboost/./lib/libxgboost.so(dmlc::LogMessageFatal::~LogMessageFatal()+0x24) [0x7fb28a401cb4]\n  [bt] (1) /usr/local/lib/python3.6/dist-packages/xgboost/./lib/libxgboost.so(xgboost::obj::RegLossObj<xgboost::obj::LogisticClassification>::GetGradient(xgboost::HostDeviceVector<float> const&, xgboost::MetaInfo const&, int, xgboost::HostDeviceVector<xgboost::detail::GradientPairInternal<float> >*)+0xf0) [0x7fb28a60b2c0]\n  [bt] (2) /usr/local/lib/python3.6/dist-packages/xgboost/./lib/libxgboost.so(xgboost::LearnerImpl::UpdateOneIter(int, xgboost::DMatrix*)+0x345) [0x7fb28a49b505]\n  [bt] (3) /usr/local/lib/python3.6/dist-packages/xgboost/./lib/libxgboost.so(XGBoosterUpdateOneIter+0x35) [0x7fb28a3feaa5]\n  [bt] (4) /usr/lib/x86_64-linux-gnu/libffi.so.6(ffi_call_unix64+0x4c) [0x7fb2db9c8dae]\n  [bt] (5) /usr/lib/x86_64-linux-gnu/libffi.so.6(ffi_call+0x22f) [0x7fb2db9c871f]\n  [bt] (6) /usr/lib/python3.6/lib-dynload/_ctypes.cpython-36m-x86_64-linux-gnu.so(_ctypes_callproc+0x2b4) [0x7fb2dbbdc5c4]\n  [bt] (7) /usr/lib/python3.6/lib-dynload/_ctypes.cpython-36m-x86_64-linux-gnu.so(+0x11c33) [0x7fb2dbbdcc33]\n  [bt] (8) /usr/bin/python3(_PyObject_FastCallKeywords+0x19c) [0x5a9eec]\n\n"
          ]
        }
      ]
    },
    {
      "cell_type": "code",
      "metadata": {
        "id": "NFccoKpTtvfF"
      },
      "source": [
        "model = xgb.train(params,dtrain,n_rounds)\n",
        "pred = model.predict(dvalid)\n",
        "pred_test = model.predict(dtest)"
      ],
      "execution_count": null,
      "outputs": []
    },
    {
      "cell_type": "code",
      "metadata": {
        "id": "kpW_pZ2u382R",
        "outputId": "c26e030f-1720-46a4-8660-571f84078743",
        "colab": {
          "base_uri": "https://localhost:8080/",
          "height": 575
        }
      },
      "source": [
        "model = xgb.train(params,dtrain,n_rounds)\n"
      ],
      "execution_count": null,
      "outputs": [
        {
          "output_type": "error",
          "ename": "XGBoostError",
          "evalue": "ignored",
          "traceback": [
            "\u001b[0;31m---------------------------------------------------------------------------\u001b[0m",
            "\u001b[0;31mXGBoostError\u001b[0m                              Traceback (most recent call last)",
            "\u001b[0;32m<ipython-input-85-7e8e04ea3836>\u001b[0m in \u001b[0;36m<module>\u001b[0;34m()\u001b[0m\n\u001b[0;32m----> 1\u001b[0;31m \u001b[0mmodel\u001b[0m \u001b[0;34m=\u001b[0m \u001b[0mxgb\u001b[0m\u001b[0;34m.\u001b[0m\u001b[0mtrain\u001b[0m\u001b[0;34m(\u001b[0m\u001b[0mparams\u001b[0m\u001b[0;34m,\u001b[0m\u001b[0mdtrain\u001b[0m\u001b[0;34m,\u001b[0m\u001b[0mn_rounds\u001b[0m\u001b[0;34m)\u001b[0m\u001b[0;34m\u001b[0m\u001b[0;34m\u001b[0m\u001b[0m\n\u001b[0m",
            "\u001b[0;32m/usr/local/lib/python3.6/dist-packages/xgboost/training.py\u001b[0m in \u001b[0;36mtrain\u001b[0;34m(params, dtrain, num_boost_round, evals, obj, feval, maximize, early_stopping_rounds, evals_result, verbose_eval, xgb_model, callbacks, learning_rates)\u001b[0m\n\u001b[1;32m    214\u001b[0m                            \u001b[0mevals\u001b[0m\u001b[0;34m=\u001b[0m\u001b[0mevals\u001b[0m\u001b[0;34m,\u001b[0m\u001b[0;34m\u001b[0m\u001b[0;34m\u001b[0m\u001b[0m\n\u001b[1;32m    215\u001b[0m                            \u001b[0mobj\u001b[0m\u001b[0;34m=\u001b[0m\u001b[0mobj\u001b[0m\u001b[0;34m,\u001b[0m \u001b[0mfeval\u001b[0m\u001b[0;34m=\u001b[0m\u001b[0mfeval\u001b[0m\u001b[0;34m,\u001b[0m\u001b[0;34m\u001b[0m\u001b[0;34m\u001b[0m\u001b[0m\n\u001b[0;32m--> 216\u001b[0;31m                            xgb_model=xgb_model, callbacks=callbacks)\n\u001b[0m\u001b[1;32m    217\u001b[0m \u001b[0;34m\u001b[0m\u001b[0m\n\u001b[1;32m    218\u001b[0m \u001b[0;34m\u001b[0m\u001b[0m\n",
            "\u001b[0;32m/usr/local/lib/python3.6/dist-packages/xgboost/training.py\u001b[0m in \u001b[0;36m_train_internal\u001b[0;34m(params, dtrain, num_boost_round, evals, obj, feval, xgb_model, callbacks)\u001b[0m\n\u001b[1;32m     72\u001b[0m         \u001b[0;31m# Skip the first update if it is a recovery step.\u001b[0m\u001b[0;34m\u001b[0m\u001b[0;34m\u001b[0m\u001b[0;34m\u001b[0m\u001b[0m\n\u001b[1;32m     73\u001b[0m         \u001b[0;32mif\u001b[0m \u001b[0mversion\u001b[0m \u001b[0;34m%\u001b[0m \u001b[0;36m2\u001b[0m \u001b[0;34m==\u001b[0m \u001b[0;36m0\u001b[0m\u001b[0;34m:\u001b[0m\u001b[0;34m\u001b[0m\u001b[0;34m\u001b[0m\u001b[0m\n\u001b[0;32m---> 74\u001b[0;31m             \u001b[0mbst\u001b[0m\u001b[0;34m.\u001b[0m\u001b[0mupdate\u001b[0m\u001b[0;34m(\u001b[0m\u001b[0mdtrain\u001b[0m\u001b[0;34m,\u001b[0m \u001b[0mi\u001b[0m\u001b[0;34m,\u001b[0m \u001b[0mobj\u001b[0m\u001b[0;34m)\u001b[0m\u001b[0;34m\u001b[0m\u001b[0;34m\u001b[0m\u001b[0m\n\u001b[0m\u001b[1;32m     75\u001b[0m             \u001b[0mbst\u001b[0m\u001b[0;34m.\u001b[0m\u001b[0msave_rabit_checkpoint\u001b[0m\u001b[0;34m(\u001b[0m\u001b[0;34m)\u001b[0m\u001b[0;34m\u001b[0m\u001b[0;34m\u001b[0m\u001b[0m\n\u001b[1;32m     76\u001b[0m             \u001b[0mversion\u001b[0m \u001b[0;34m+=\u001b[0m \u001b[0;36m1\u001b[0m\u001b[0;34m\u001b[0m\u001b[0;34m\u001b[0m\u001b[0m\n",
            "\u001b[0;32m/usr/local/lib/python3.6/dist-packages/xgboost/core.py\u001b[0m in \u001b[0;36mupdate\u001b[0;34m(self, dtrain, iteration, fobj)\u001b[0m\n\u001b[1;32m   1107\u001b[0m         \u001b[0;32mif\u001b[0m \u001b[0mfobj\u001b[0m \u001b[0;32mis\u001b[0m \u001b[0;32mNone\u001b[0m\u001b[0;34m:\u001b[0m\u001b[0;34m\u001b[0m\u001b[0;34m\u001b[0m\u001b[0m\n\u001b[1;32m   1108\u001b[0m             _check_call(_LIB.XGBoosterUpdateOneIter(self.handle, ctypes.c_int(iteration),\n\u001b[0;32m-> 1109\u001b[0;31m                                                     dtrain.handle))\n\u001b[0m\u001b[1;32m   1110\u001b[0m         \u001b[0;32melse\u001b[0m\u001b[0;34m:\u001b[0m\u001b[0;34m\u001b[0m\u001b[0;34m\u001b[0m\u001b[0m\n\u001b[1;32m   1111\u001b[0m             \u001b[0mpred\u001b[0m \u001b[0;34m=\u001b[0m \u001b[0mself\u001b[0m\u001b[0;34m.\u001b[0m\u001b[0mpredict\u001b[0m\u001b[0;34m(\u001b[0m\u001b[0mdtrain\u001b[0m\u001b[0;34m)\u001b[0m\u001b[0;34m\u001b[0m\u001b[0;34m\u001b[0m\u001b[0m\n",
            "\u001b[0;32m/usr/local/lib/python3.6/dist-packages/xgboost/core.py\u001b[0m in \u001b[0;36m_check_call\u001b[0;34m(ret)\u001b[0m\n\u001b[1;32m    174\u001b[0m     \"\"\"\n\u001b[1;32m    175\u001b[0m     \u001b[0;32mif\u001b[0m \u001b[0mret\u001b[0m \u001b[0;34m!=\u001b[0m \u001b[0;36m0\u001b[0m\u001b[0;34m:\u001b[0m\u001b[0;34m\u001b[0m\u001b[0;34m\u001b[0m\u001b[0m\n\u001b[0;32m--> 176\u001b[0;31m         \u001b[0;32mraise\u001b[0m \u001b[0mXGBoostError\u001b[0m\u001b[0;34m(\u001b[0m\u001b[0mpy_str\u001b[0m\u001b[0;34m(\u001b[0m\u001b[0m_LIB\u001b[0m\u001b[0;34m.\u001b[0m\u001b[0mXGBGetLastError\u001b[0m\u001b[0;34m(\u001b[0m\u001b[0;34m)\u001b[0m\u001b[0;34m)\u001b[0m\u001b[0;34m)\u001b[0m\u001b[0;34m\u001b[0m\u001b[0;34m\u001b[0m\u001b[0m\n\u001b[0m\u001b[1;32m    177\u001b[0m \u001b[0;34m\u001b[0m\u001b[0m\n\u001b[1;32m    178\u001b[0m \u001b[0;34m\u001b[0m\u001b[0m\n",
            "\u001b[0;31mXGBoostError\u001b[0m: [09:39:35] /workspace/src/objective/regression_obj.cu:65: Check failed: preds.Size() == info.labels_.Size() (1 vs. 324) : labels are not correctly providedpreds.size=1, label.size=324\nStack trace:\n  [bt] (0) /usr/local/lib/python3.6/dist-packages/xgboost/./lib/libxgboost.so(dmlc::LogMessageFatal::~LogMessageFatal()+0x24) [0x7fb28a401cb4]\n  [bt] (1) /usr/local/lib/python3.6/dist-packages/xgboost/./lib/libxgboost.so(xgboost::obj::RegLossObj<xgboost::obj::LogisticClassification>::GetGradient(xgboost::HostDeviceVector<float> const&, xgboost::MetaInfo const&, int, xgboost::HostDeviceVector<xgboost::detail::GradientPairInternal<float> >*)+0x21e) [0x7fb28a60b3ee]\n  [bt] (2) /usr/local/lib/python3.6/dist-packages/xgboost/./lib/libxgboost.so(xgboost::LearnerImpl::UpdateOneIter(int, xgboost::DMatrix*)+0x345) [0x7fb28a49b505]\n  [bt] (3) /usr/local/lib/python3.6/dist-packages/xgboost/./lib/libxgboost.so(XGBoosterUpdateOneIter+0x35) [0x7fb28a3feaa5]\n  [bt] (4) /usr/lib/x86_64-linux-gnu/libffi.so.6(ffi_call_unix64+0x4c) [0x7fb2db9c8dae]\n  [bt] (5) /usr/lib/x86_64-linux-gnu/libffi.so.6(ffi_call+0x22f) [0x7fb2db9c871f]\n  [bt] (6) /usr/lib/python3.6/lib-dynload/_ctypes.cpython-36m-x86_64-linux-gnu.so(_ctypes_callproc+0x2b4) [0x7fb2dbbdc5c4]\n  [bt] (7) /usr/lib/python3.6/lib-dynload/_ctypes.cpython-36m-x86_64-linux-gnu.so(+0x11c33) [0x7fb2dbbdcc33]\n  [bt] (8) /usr/bin/python3(_PyObject_FastCallKeywords+0x19c) [0x5a9eec]\n\n"
          ]
        }
      ]
    }
  ]
}