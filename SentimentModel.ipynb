{
  "nbformat": 4,
  "nbformat_minor": 0,
  "metadata": {
    "colab": {
      "name": "SentimentModel.ipynb",
      "provenance": [],
      "collapsed_sections": [],
      "authorship_tag": "ABX9TyM9LZ+SXTCRRm1BR7LLZRBv",
      "include_colab_link": true
    },
    "kernelspec": {
      "name": "python3",
      "display_name": "Python 3"
    }
  },
  "cells": [
    {
      "cell_type": "markdown",
      "metadata": {
        "id": "view-in-github",
        "colab_type": "text"
      },
      "source": [
        "<a href=\"https://colab.research.google.com/github/Schmiddle/CodeWeek/blob/main/SentimentModel.ipynb\" target=\"_parent\"><img src=\"https://colab.research.google.com/assets/colab-badge.svg\" alt=\"Open In Colab\"/></a>"
      ]
    },
    {
      "cell_type": "code",
      "metadata": {
        "id": "xzHf82SnLvJe"
      },
      "source": [
        "import pandas as pd\n",
        "import numpy as np\n",
        "from sklearn.model_selection import train_test_split,KFold\n",
        "from sklearn.metrics import confusion_matrix,roc_auc_score,log_loss\n",
        "from sklearn.feature_extraction.text import CountVectorizer, TfidfVectorizer\n",
        "import xgboost as xgb \n",
        "from sklearn.model_selection import train_test_split\n",
        "from sklearn.ensemble import RandomForestClassifier\n",
        "from matplotlib import pyplot as plt"
      ],
      "execution_count": null,
      "outputs": []
    },
    {
      "cell_type": "code",
      "metadata": {
        "id": "zK27KfIGL0Ht",
        "outputId": "b74f5508-f029-4d0d-9538-cf3a513c1eac",
        "colab": {
          "base_uri": "https://localhost:8080/",
          "height": 1000
        }
      },
      "source": [
        "!python -m nltk.downloader all"
      ],
      "execution_count": null,
      "outputs": [
        {
          "output_type": "stream",
          "text": [
            "/usr/lib/python3.6/runpy.py:125: RuntimeWarning: 'nltk.downloader' found in sys.modules after import of package 'nltk', but prior to execution of 'nltk.downloader'; this may result in unpredictable behaviour\n",
            "  warn(RuntimeWarning(msg))\n",
            "[nltk_data] Downloading collection 'all'\n",
            "[nltk_data]    | \n",
            "[nltk_data]    | Downloading package abc to /root/nltk_data...\n",
            "[nltk_data]    |   Unzipping corpora/abc.zip.\n",
            "[nltk_data]    | Downloading package alpino to /root/nltk_data...\n",
            "[nltk_data]    |   Unzipping corpora/alpino.zip.\n",
            "[nltk_data]    | Downloading package biocreative_ppi to\n",
            "[nltk_data]    |     /root/nltk_data...\n",
            "[nltk_data]    |   Unzipping corpora/biocreative_ppi.zip.\n",
            "[nltk_data]    | Downloading package brown to /root/nltk_data...\n",
            "[nltk_data]    |   Unzipping corpora/brown.zip.\n",
            "[nltk_data]    | Downloading package brown_tei to /root/nltk_data...\n",
            "[nltk_data]    |   Unzipping corpora/brown_tei.zip.\n",
            "[nltk_data]    | Downloading package cess_cat to /root/nltk_data...\n",
            "[nltk_data]    |   Unzipping corpora/cess_cat.zip.\n",
            "[nltk_data]    | Downloading package cess_esp to /root/nltk_data...\n",
            "[nltk_data]    |   Unzipping corpora/cess_esp.zip.\n",
            "[nltk_data]    | Downloading package chat80 to /root/nltk_data...\n",
            "[nltk_data]    |   Unzipping corpora/chat80.zip.\n",
            "[nltk_data]    | Downloading package city_database to\n",
            "[nltk_data]    |     /root/nltk_data...\n",
            "[nltk_data]    |   Unzipping corpora/city_database.zip.\n",
            "[nltk_data]    | Downloading package cmudict to /root/nltk_data...\n",
            "[nltk_data]    |   Unzipping corpora/cmudict.zip.\n",
            "[nltk_data]    | Downloading package comparative_sentences to\n",
            "[nltk_data]    |     /root/nltk_data...\n",
            "[nltk_data]    |   Unzipping corpora/comparative_sentences.zip.\n",
            "[nltk_data]    | Downloading package comtrans to /root/nltk_data...\n",
            "[nltk_data]    | Downloading package conll2000 to /root/nltk_data...\n",
            "[nltk_data]    |   Unzipping corpora/conll2000.zip.\n",
            "[nltk_data]    | Downloading package conll2002 to /root/nltk_data...\n",
            "[nltk_data]    |   Unzipping corpora/conll2002.zip.\n",
            "[nltk_data]    | Downloading package conll2007 to /root/nltk_data...\n",
            "[nltk_data]    | Downloading package crubadan to /root/nltk_data...\n",
            "[nltk_data]    |   Unzipping corpora/crubadan.zip.\n",
            "[nltk_data]    | Downloading package dependency_treebank to\n",
            "[nltk_data]    |     /root/nltk_data...\n",
            "[nltk_data]    |   Unzipping corpora/dependency_treebank.zip.\n",
            "[nltk_data]    | Downloading package dolch to /root/nltk_data...\n",
            "[nltk_data]    |   Unzipping corpora/dolch.zip.\n",
            "[nltk_data]    | Downloading package europarl_raw to\n",
            "[nltk_data]    |     /root/nltk_data...\n",
            "[nltk_data]    |   Unzipping corpora/europarl_raw.zip.\n",
            "[nltk_data]    | Downloading package floresta to /root/nltk_data...\n",
            "[nltk_data]    |   Unzipping corpora/floresta.zip.\n",
            "[nltk_data]    | Downloading package framenet_v15 to\n",
            "[nltk_data]    |     /root/nltk_data...\n",
            "[nltk_data]    |   Unzipping corpora/framenet_v15.zip.\n",
            "[nltk_data]    | Downloading package framenet_v17 to\n",
            "[nltk_data]    |     /root/nltk_data...\n",
            "[nltk_data]    |   Unzipping corpora/framenet_v17.zip.\n",
            "[nltk_data]    | Downloading package gazetteers to /root/nltk_data...\n",
            "[nltk_data]    |   Unzipping corpora/gazetteers.zip.\n",
            "[nltk_data]    | Downloading package genesis to /root/nltk_data...\n",
            "[nltk_data]    |   Unzipping corpora/genesis.zip.\n",
            "[nltk_data]    | Downloading package gutenberg to /root/nltk_data...\n",
            "[nltk_data]    |   Unzipping corpora/gutenberg.zip.\n",
            "[nltk_data]    | Downloading package ieer to /root/nltk_data...\n",
            "[nltk_data]    |   Unzipping corpora/ieer.zip.\n",
            "[nltk_data]    | Downloading package inaugural to /root/nltk_data...\n",
            "[nltk_data]    |   Unzipping corpora/inaugural.zip.\n",
            "[nltk_data]    | Downloading package indian to /root/nltk_data...\n",
            "[nltk_data]    |   Unzipping corpora/indian.zip.\n",
            "[nltk_data]    | Downloading package jeita to /root/nltk_data...\n",
            "[nltk_data]    | Downloading package kimmo to /root/nltk_data...\n",
            "[nltk_data]    |   Unzipping corpora/kimmo.zip.\n",
            "[nltk_data]    | Downloading package knbc to /root/nltk_data...\n",
            "[nltk_data]    | Downloading package lin_thesaurus to\n",
            "[nltk_data]    |     /root/nltk_data...\n",
            "[nltk_data]    |   Unzipping corpora/lin_thesaurus.zip.\n",
            "[nltk_data]    | Downloading package mac_morpho to /root/nltk_data...\n",
            "[nltk_data]    |   Unzipping corpora/mac_morpho.zip.\n",
            "[nltk_data]    | Downloading package machado to /root/nltk_data...\n",
            "[nltk_data]    | Downloading package masc_tagged to /root/nltk_data...\n",
            "[nltk_data]    | Downloading package moses_sample to\n",
            "[nltk_data]    |     /root/nltk_data...\n",
            "[nltk_data]    |   Unzipping models/moses_sample.zip.\n",
            "[nltk_data]    | Downloading package movie_reviews to\n",
            "[nltk_data]    |     /root/nltk_data...\n",
            "[nltk_data]    |   Unzipping corpora/movie_reviews.zip.\n",
            "[nltk_data]    | Downloading package names to /root/nltk_data...\n",
            "[nltk_data]    |   Unzipping corpora/names.zip.\n",
            "[nltk_data]    | Downloading package nombank.1.0 to /root/nltk_data...\n",
            "[nltk_data]    | Downloading package nps_chat to /root/nltk_data...\n",
            "[nltk_data]    |   Unzipping corpora/nps_chat.zip.\n",
            "[nltk_data]    | Downloading package omw to /root/nltk_data...\n",
            "[nltk_data]    |   Unzipping corpora/omw.zip.\n",
            "[nltk_data]    | Downloading package opinion_lexicon to\n",
            "[nltk_data]    |     /root/nltk_data...\n",
            "[nltk_data]    |   Unzipping corpora/opinion_lexicon.zip.\n",
            "[nltk_data]    | Downloading package paradigms to /root/nltk_data...\n",
            "[nltk_data]    |   Unzipping corpora/paradigms.zip.\n",
            "[nltk_data]    | Downloading package pil to /root/nltk_data...\n",
            "[nltk_data]    |   Unzipping corpora/pil.zip.\n",
            "[nltk_data]    | Downloading package pl196x to /root/nltk_data...\n",
            "[nltk_data]    |   Unzipping corpora/pl196x.zip.\n",
            "[nltk_data]    | Downloading package ppattach to /root/nltk_data...\n",
            "[nltk_data]    |   Unzipping corpora/ppattach.zip.\n",
            "[nltk_data]    | Downloading package problem_reports to\n",
            "[nltk_data]    |     /root/nltk_data...\n",
            "[nltk_data]    |   Unzipping corpora/problem_reports.zip.\n",
            "[nltk_data]    | Downloading package propbank to /root/nltk_data...\n",
            "[nltk_data]    | Downloading package ptb to /root/nltk_data...\n",
            "[nltk_data]    |   Unzipping corpora/ptb.zip.\n",
            "[nltk_data]    | Downloading package product_reviews_1 to\n",
            "[nltk_data]    |     /root/nltk_data...\n",
            "[nltk_data]    |   Unzipping corpora/product_reviews_1.zip.\n",
            "[nltk_data]    | Downloading package product_reviews_2 to\n",
            "[nltk_data]    |     /root/nltk_data...\n",
            "[nltk_data]    |   Unzipping corpora/product_reviews_2.zip.\n",
            "[nltk_data]    | Downloading package pros_cons to /root/nltk_data...\n",
            "[nltk_data]    |   Unzipping corpora/pros_cons.zip.\n",
            "[nltk_data]    | Downloading package qc to /root/nltk_data...\n",
            "[nltk_data]    |   Unzipping corpora/qc.zip.\n",
            "[nltk_data]    | Downloading package reuters to /root/nltk_data...\n",
            "[nltk_data]    | Downloading package rte to /root/nltk_data...\n",
            "[nltk_data]    |   Unzipping corpora/rte.zip.\n",
            "[nltk_data]    | Downloading package semcor to /root/nltk_data...\n",
            "[nltk_data]    | Downloading package senseval to /root/nltk_data...\n",
            "[nltk_data]    |   Unzipping corpora/senseval.zip.\n",
            "[nltk_data]    | Downloading package sentiwordnet to\n",
            "[nltk_data]    |     /root/nltk_data...\n",
            "[nltk_data]    |   Unzipping corpora/sentiwordnet.zip.\n",
            "[nltk_data]    | Downloading package sentence_polarity to\n",
            "[nltk_data]    |     /root/nltk_data...\n",
            "[nltk_data]    |   Unzipping corpora/sentence_polarity.zip.\n",
            "[nltk_data]    | Downloading package shakespeare to /root/nltk_data...\n",
            "[nltk_data]    |   Unzipping corpora/shakespeare.zip.\n",
            "[nltk_data]    | Downloading package sinica_treebank to\n",
            "[nltk_data]    |     /root/nltk_data...\n",
            "[nltk_data]    |   Unzipping corpora/sinica_treebank.zip.\n",
            "[nltk_data]    | Downloading package smultron to /root/nltk_data...\n",
            "[nltk_data]    |   Unzipping corpora/smultron.zip.\n",
            "[nltk_data]    | Downloading package state_union to /root/nltk_data...\n",
            "[nltk_data]    |   Unzipping corpora/state_union.zip.\n",
            "[nltk_data]    | Downloading package stopwords to /root/nltk_data...\n",
            "[nltk_data]    |   Unzipping corpora/stopwords.zip.\n",
            "[nltk_data]    | Downloading package subjectivity to\n",
            "[nltk_data]    |     /root/nltk_data...\n",
            "[nltk_data]    |   Unzipping corpora/subjectivity.zip.\n",
            "[nltk_data]    | Downloading package swadesh to /root/nltk_data...\n",
            "[nltk_data]    |   Unzipping corpora/swadesh.zip.\n",
            "[nltk_data]    | Downloading package switchboard to /root/nltk_data...\n",
            "[nltk_data]    |   Unzipping corpora/switchboard.zip.\n",
            "[nltk_data]    | Downloading package timit to /root/nltk_data...\n",
            "[nltk_data]    |   Unzipping corpora/timit.zip.\n",
            "[nltk_data]    | Downloading package toolbox to /root/nltk_data...\n",
            "[nltk_data]    |   Unzipping corpora/toolbox.zip.\n",
            "[nltk_data]    | Downloading package treebank to /root/nltk_data...\n",
            "[nltk_data]    |   Unzipping corpora/treebank.zip.\n",
            "[nltk_data]    | Downloading package twitter_samples to\n",
            "[nltk_data]    |     /root/nltk_data...\n",
            "[nltk_data]    |   Unzipping corpora/twitter_samples.zip.\n",
            "[nltk_data]    | Downloading package udhr to /root/nltk_data...\n",
            "[nltk_data]    |   Unzipping corpora/udhr.zip.\n",
            "[nltk_data]    | Downloading package udhr2 to /root/nltk_data...\n",
            "[nltk_data]    |   Unzipping corpora/udhr2.zip.\n",
            "[nltk_data]    | Downloading package unicode_samples to\n",
            "[nltk_data]    |     /root/nltk_data...\n",
            "[nltk_data]    |   Unzipping corpora/unicode_samples.zip.\n",
            "[nltk_data]    | Downloading package universal_treebanks_v20 to\n",
            "[nltk_data]    |     /root/nltk_data...\n",
            "[nltk_data]    | Downloading package verbnet to /root/nltk_data...\n",
            "[nltk_data]    |   Unzipping corpora/verbnet.zip.\n",
            "[nltk_data]    | Downloading package verbnet3 to /root/nltk_data...\n",
            "[nltk_data]    |   Unzipping corpora/verbnet3.zip.\n",
            "[nltk_data]    | Downloading package webtext to /root/nltk_data...\n",
            "[nltk_data]    |   Unzipping corpora/webtext.zip.\n",
            "[nltk_data]    | Downloading package wordnet to /root/nltk_data...\n",
            "[nltk_data]    |   Unzipping corpora/wordnet.zip.\n",
            "[nltk_data]    | Downloading package wordnet_ic to /root/nltk_data...\n",
            "[nltk_data]    |   Unzipping corpora/wordnet_ic.zip.\n",
            "[nltk_data]    | Downloading package words to /root/nltk_data...\n",
            "[nltk_data]    |   Unzipping corpora/words.zip.\n",
            "[nltk_data]    | Downloading package ycoe to /root/nltk_data...\n",
            "[nltk_data]    |   Unzipping corpora/ycoe.zip.\n",
            "[nltk_data]    | Downloading package rslp to /root/nltk_data...\n",
            "[nltk_data]    |   Unzipping stemmers/rslp.zip.\n",
            "[nltk_data]    | Downloading package maxent_treebank_pos_tagger to\n",
            "[nltk_data]    |     /root/nltk_data...\n",
            "[nltk_data]    |   Unzipping taggers/maxent_treebank_pos_tagger.zip.\n",
            "[nltk_data]    | Downloading package universal_tagset to\n",
            "[nltk_data]    |     /root/nltk_data...\n",
            "[nltk_data]    |   Unzipping taggers/universal_tagset.zip.\n",
            "[nltk_data]    | Downloading package maxent_ne_chunker to\n",
            "[nltk_data]    |     /root/nltk_data...\n",
            "[nltk_data]    |   Unzipping chunkers/maxent_ne_chunker.zip.\n",
            "[nltk_data]    | Downloading package punkt to /root/nltk_data...\n",
            "[nltk_data]    |   Unzipping tokenizers/punkt.zip.\n",
            "[nltk_data]    | Downloading package book_grammars to\n",
            "[nltk_data]    |     /root/nltk_data...\n",
            "[nltk_data]    |   Unzipping grammars/book_grammars.zip.\n",
            "[nltk_data]    | Downloading package sample_grammars to\n",
            "[nltk_data]    |     /root/nltk_data...\n",
            "[nltk_data]    |   Unzipping grammars/sample_grammars.zip.\n",
            "[nltk_data]    | Downloading package spanish_grammars to\n",
            "[nltk_data]    |     /root/nltk_data...\n",
            "[nltk_data]    |   Unzipping grammars/spanish_grammars.zip.\n",
            "[nltk_data]    | Downloading package basque_grammars to\n",
            "[nltk_data]    |     /root/nltk_data...\n",
            "[nltk_data]    |   Unzipping grammars/basque_grammars.zip.\n",
            "[nltk_data]    | Downloading package large_grammars to\n",
            "[nltk_data]    |     /root/nltk_data...\n",
            "[nltk_data]    |   Unzipping grammars/large_grammars.zip.\n",
            "[nltk_data]    | Downloading package tagsets to /root/nltk_data...\n",
            "[nltk_data]    |   Unzipping help/tagsets.zip.\n",
            "[nltk_data]    | Downloading package snowball_data to\n",
            "[nltk_data]    |     /root/nltk_data...\n",
            "[nltk_data]    | Downloading package bllip_wsj_no_aux to\n",
            "[nltk_data]    |     /root/nltk_data...\n",
            "[nltk_data]    |   Unzipping models/bllip_wsj_no_aux.zip.\n",
            "[nltk_data]    | Downloading package word2vec_sample to\n",
            "[nltk_data]    |     /root/nltk_data...\n",
            "[nltk_data]    |   Unzipping models/word2vec_sample.zip.\n",
            "[nltk_data]    | Downloading package panlex_swadesh to\n",
            "[nltk_data]    |     /root/nltk_data...\n",
            "[nltk_data]    | Downloading package mte_teip5 to /root/nltk_data...\n",
            "[nltk_data]    |   Unzipping corpora/mte_teip5.zip.\n",
            "[nltk_data]    | Downloading package averaged_perceptron_tagger to\n",
            "[nltk_data]    |     /root/nltk_data...\n",
            "[nltk_data]    |   Unzipping taggers/averaged_perceptron_tagger.zip.\n",
            "[nltk_data]    | Downloading package averaged_perceptron_tagger_ru to\n",
            "[nltk_data]    |     /root/nltk_data...\n",
            "[nltk_data]    |   Unzipping\n",
            "[nltk_data]    |       taggers/averaged_perceptron_tagger_ru.zip.\n",
            "[nltk_data]    | Downloading package perluniprops to\n",
            "[nltk_data]    |     /root/nltk_data...\n",
            "[nltk_data]    |   Unzipping misc/perluniprops.zip.\n",
            "[nltk_data]    | Downloading package nonbreaking_prefixes to\n",
            "[nltk_data]    |     /root/nltk_data...\n",
            "[nltk_data]    |   Unzipping corpora/nonbreaking_prefixes.zip.\n",
            "[nltk_data]    | Downloading package vader_lexicon to\n",
            "[nltk_data]    |     /root/nltk_data...\n",
            "[nltk_data]    | Downloading package porter_test to /root/nltk_data...\n",
            "[nltk_data]    |   Unzipping stemmers/porter_test.zip.\n",
            "[nltk_data]    | Downloading package wmt15_eval to /root/nltk_data...\n",
            "[nltk_data]    |   Unzipping models/wmt15_eval.zip.\n",
            "[nltk_data]    | Downloading package mwa_ppdb to /root/nltk_data...\n",
            "[nltk_data]    |   Unzipping misc/mwa_ppdb.zip.\n",
            "[nltk_data]    | \n",
            "[nltk_data]  Done downloading collection all\n"
          ],
          "name": "stdout"
        }
      ]
    },
    {
      "cell_type": "code",
      "metadata": {
        "id": "Jsu4QBu7NPAK",
        "outputId": "d7511112-760f-47ef-c217-d8b2341a50d8",
        "colab": {
          "base_uri": "https://localhost:8080/",
          "height": 118
        }
      },
      "source": [
        "! git clone https://github.com/Schmiddle/CodeWeek.git\n"
      ],
      "execution_count": null,
      "outputs": [
        {
          "output_type": "stream",
          "text": [
            "Cloning into 'CodeWeek'...\n",
            "remote: Enumerating objects: 17, done.\u001b[K\n",
            "remote: Counting objects: 100% (17/17), done.\u001b[K\n",
            "remote: Compressing objects: 100% (15/15), done.\u001b[K\n",
            "remote: Total 17 (delta 3), reused 0 (delta 0), pack-reused 0\u001b[K\n",
            "Unpacking objects: 100% (17/17), done.\n"
          ],
          "name": "stdout"
        }
      ]
    },
    {
      "cell_type": "code",
      "metadata": {
        "id": "uIkxcOQlL6Ed"
      },
      "source": [
        "df = pd.read_csv('/content/CodeWeek/kaffee_reviews.csv', delimiter=',')"
      ],
      "execution_count": null,
      "outputs": []
    },
    {
      "cell_type": "code",
      "metadata": {
        "id": "NdgC_myKL9B1",
        "outputId": "395e39db-83ba-41e9-cf47-a2ad3aa358b6",
        "colab": {
          "base_uri": "https://localhost:8080/",
          "height": 195
        }
      },
      "source": [
        "df.head()"
      ],
      "execution_count": null,
      "outputs": [
        {
          "output_type": "execute_result",
          "data": {
            "text/html": [
              "<div>\n",
              "<style scoped>\n",
              "    .dataframe tbody tr th:only-of-type {\n",
              "        vertical-align: middle;\n",
              "    }\n",
              "\n",
              "    .dataframe tbody tr th {\n",
              "        vertical-align: top;\n",
              "    }\n",
              "\n",
              "    .dataframe thead th {\n",
              "        text-align: right;\n",
              "    }\n",
              "</style>\n",
              "<table border=\"1\" class=\"dataframe\">\n",
              "  <thead>\n",
              "    <tr style=\"text-align: right;\">\n",
              "      <th></th>\n",
              "      <th>Unnamed: 0</th>\n",
              "      <th>brand</th>\n",
              "      <th>rating</th>\n",
              "      <th>review</th>\n",
              "    </tr>\n",
              "  </thead>\n",
              "  <tbody>\n",
              "    <tr>\n",
              "      <th>0</th>\n",
              "      <td>0</td>\n",
              "      <td>GEPA Kaffee</td>\n",
              "      <td>5</td>\n",
              "      <td>Wenn ich Bohnenkaffee trinke (auf Arbeit trink...</td>\n",
              "    </tr>\n",
              "    <tr>\n",
              "      <th>1</th>\n",
              "      <td>1</td>\n",
              "      <td>GEPA Kaffee</td>\n",
              "      <td>5</td>\n",
              "      <td>Für mich ist dieser Kaffee ideal. Die Grundvor...</td>\n",
              "    </tr>\n",
              "    <tr>\n",
              "      <th>2</th>\n",
              "      <td>2</td>\n",
              "      <td>GEPA Kaffee</td>\n",
              "      <td>5</td>\n",
              "      <td>Ich persönlich bin insbesondere von dem Geschm...</td>\n",
              "    </tr>\n",
              "    <tr>\n",
              "      <th>3</th>\n",
              "      <td>3</td>\n",
              "      <td>GEPA Kaffee</td>\n",
              "      <td>5</td>\n",
              "      <td>ganz abgesehen vom geschmack legt gepa inzwisc...</td>\n",
              "    </tr>\n",
              "    <tr>\n",
              "      <th>4</th>\n",
              "      <td>4</td>\n",
              "      <td>GEPA Kaffee</td>\n",
              "      <td>5</td>\n",
              "      <td>Seit Jahren kaufe ich am liebsten den Kaffee u...</td>\n",
              "    </tr>\n",
              "  </tbody>\n",
              "</table>\n",
              "</div>"
            ],
            "text/plain": [
              "   Unnamed: 0  ...                                             review\n",
              "0           0  ...  Wenn ich Bohnenkaffee trinke (auf Arbeit trink...\n",
              "1           1  ...  Für mich ist dieser Kaffee ideal. Die Grundvor...\n",
              "2           2  ...  Ich persönlich bin insbesondere von dem Geschm...\n",
              "3           3  ...  ganz abgesehen vom geschmack legt gepa inzwisc...\n",
              "4           4  ...  Seit Jahren kaufe ich am liebsten den Kaffee u...\n",
              "\n",
              "[5 rows x 4 columns]"
            ]
          },
          "metadata": {
            "tags": []
          },
          "execution_count": 5
        }
      ]
    },
    {
      "cell_type": "code",
      "metadata": {
        "id": "ylMDEtU9L9tJ",
        "outputId": "7a8348f5-64cf-4434-be26-b9371199faa9",
        "colab": {
          "base_uri": "https://localhost:8080/",
          "height": 101
        }
      },
      "source": [
        "df.dtypes"
      ],
      "execution_count": null,
      "outputs": [
        {
          "output_type": "execute_result",
          "data": {
            "text/plain": [
              "Unnamed: 0     int64\n",
              "brand         object\n",
              "rating         int64\n",
              "review        object\n",
              "dtype: object"
            ]
          },
          "metadata": {
            "tags": []
          },
          "execution_count": 7
        }
      ]
    },
    {
      "cell_type": "code",
      "metadata": {
        "id": "AS0soID3N4um"
      },
      "source": [
        "df.drop(['Unnamed: 0'], axis = 1, inplace = True)"
      ],
      "execution_count": null,
      "outputs": []
    },
    {
      "cell_type": "code",
      "metadata": {
        "id": "rPO8IbCzOFaC",
        "outputId": "6d3a79f9-cdd0-4040-fc20-82ccd4760c06",
        "colab": {
          "base_uri": "https://localhost:8080/",
          "height": 84
        }
      },
      "source": [
        "df.dtypes"
      ],
      "execution_count": null,
      "outputs": [
        {
          "output_type": "execute_result",
          "data": {
            "text/plain": [
              "brand     object\n",
              "rating     int64\n",
              "review    object\n",
              "dtype: object"
            ]
          },
          "metadata": {
            "tags": []
          },
          "execution_count": 11
        }
      ]
    },
    {
      "cell_type": "code",
      "metadata": {
        "id": "hkrssYaTMBkl",
        "outputId": "c575c46c-ad8a-4dc9-e0d5-186fd0ec8130",
        "colab": {
          "base_uri": "https://localhost:8080/",
          "height": 282
        }
      },
      "source": [
        "df[\"rating\"].plot.hist()"
      ],
      "execution_count": null,
      "outputs": [
        {
          "output_type": "execute_result",
          "data": {
            "text/plain": [
              "<matplotlib.axes._subplots.AxesSubplot at 0x7f1529bbea58>"
            ]
          },
          "metadata": {
            "tags": []
          },
          "execution_count": 12
        },
        {
          "output_type": "display_data",
          "data": {
            "image/png": "[encoded data removed]",
            "text/plain": [
              "<Figure size 432x288 with 1 Axes>"
            ]
          },
          "metadata": {
            "tags": [],
            "needs_background": "light"
          }
        }
      ]
    },
    {
      "cell_type": "code",
      "metadata": {
        "id": "fb0tHgvTMEyE"
      },
      "source": [
        "df['sentiment'] = np.where(df['rating']>=4, 1, 0)"
      ],
      "execution_count": null,
      "outputs": []
    },
    {
      "cell_type": "code",
      "metadata": {
        "id": "mMwVRju5MHYp"
      },
      "source": [
        "train, test, y_train , y_test = train_test_split(df[['review']], df[['sentiment']], test_size = 0.3)"
      ],
      "execution_count": null,
      "outputs": []
    },
    {
      "cell_type": "code",
      "metadata": {
        "id": "q9zab3alMLcx"
      },
      "source": [
        "from nltk.corpus import stopwords\n",
        "german_stop_words = stopwords.words('german')"
      ],
      "execution_count": null,
      "outputs": []
    },
    {
      "cell_type": "code",
      "metadata": {
        "id": "JjEVUL08MX-e"
      },
      "source": [
        "stopwords.words('german')"
      ],
      "execution_count": null,
      "outputs": []
    },
    {
      "cell_type": "code",
      "metadata": {
        "id": "HtfqPsllMPxz"
      },
      "source": [
        "from nltk import sent_tokenize, word_tokenize\n",
        "def clean_text(df):\n",
        "    import re\n",
        "    corpus = []\n",
        "    for i in range(0, df.shape[0]):        \n",
        "        review = re.sub('[^A-Za-z0-9]',\" \",df['review'].iloc[i])\n",
        "        review = word_tokenize(review)        \n",
        "        review = [word for word in review if word.lower() not in set(stopwords.words('german'))]\n",
        "        review = ' '.join(review)\n",
        "        corpus.append(review)\n",
        "    return corpus"
      ],
      "execution_count": null,
      "outputs": []
    },
    {
      "cell_type": "code",
      "metadata": {
        "id": "kyKY6cM2MPzo"
      },
      "source": [
        "train['review'].iloc[0]"
      ],
      "execution_count": null,
      "outputs": []
    },
    {
      "cell_type": "code",
      "metadata": {
        "id": "lYKOo5Z-MP15"
      },
      "source": [
        "tr_corpus = clean_text(train)\n",
        "te_corpus = clean_text(test)"
      ],
      "execution_count": null,
      "outputs": []
    },
    {
      "cell_type": "code",
      "metadata": {
        "id": "iJoLjbPvMP4M"
      },
      "source": [
        "cv = CountVectorizer(max_features=10000,ngram_range=(1,4),dtype=np.int8,stop_words=german_stop_words, analyzer='word')\n",
        "X_cv = cv.fit_transform(tr_corpus).toarray()\n",
        "X_test_cv = cv.transform(te_corpus).toarray()"
      ],
      "execution_count": null,
      "outputs": []
    },
    {
      "cell_type": "code",
      "metadata": {
        "id": "-lYHYgoMMP6m",
        "outputId": "66476423-5ac3-4dfd-dee1-ff1f6cb3a2e5",
        "colab": {
          "base_uri": "https://localhost:8080/",
          "height": 70
        }
      },
      "source": [
        "print('Vocabulary Size {}:'.format(len(cv.vocabulary_)))\n",
        "print('Vocabulary Size {}:'.format(cv.vocabulary_))"
      ],
      "execution_count": null,
      "outputs": [
        {
          "output_type": "stream",
          "text": [
            "Vocabulary Size 5000:\n",
            "Vocabulary Size {'kompltte': 1334, 'sortiment': 3949, 'mount': 2731, 'hagen': 746, 'bio': 187, 'fair': 439, 'trade': 4187, 'zertifiziert': 4813, 'landkaffees': 1566, 'gibt': 687, 'beste': 165, 'gerade': 629, 'gro': 710, 'artig': 85, 'schokoladig': 3892, 'ganz': 549, 'weich': 4392, 'aromatisch': 78, 'lecker': 1658, 'darum': 306, 'maximal': 2357, 'sterne': 4036, 'kompltte sortiment': 1335, 'sortiment mount': 3950, 'mount hagen': 2734, 'bio fair': 191, 'fair trade': 447, 'zertifiziert landkaffees': 4820, 'landkaffees gibt': 1567, 'gro artig': 711, 'weich aromatisch': 4393, 'lecker darum': 1667, 'maximal sterne': 2358, 'kompltte sortiment mount': 1336, 'sortiment mount hagen': 3951, 'mount hagen bio': 2738, 'bio fair trade': 192, 'zertifiziert landkaffees gibt': 4821, 'landkaffees gibt demeterqualit': 1568, 'weich aromatisch lecker': 4394, 'lecker darum maximal': 1668, 'wirklich': 4606, 'sagen': 3832, 'barista': 107, 'caf': 242, 'crema': 276, 'einzige': 378, 'gehandelte': 577, 'kaffee': 842, 'freunden': 529, 'schmeckt': 3865, 'echt': 351, 'empfehlen': 380, 'endlich': 386, 'mal': 2224, 'produkt': 3763, 'berall': 140, 'st': 3971, 'wirklich sagen': 4651, 'barista caf': 108, 'fair gehandelte': 442, 'endlich mal': 387, 'mal produkt': 2260, 'wirklich sagen barista': 4652, 'mal produkt berall': 2261, 'drin': 341, 'genau': 603, 'un': 4224, 'berzeugen': 146, 'immer': 805, 'meinung': 2436, 'somit': 3945, 'perfektion': 3492, 'gut': 715, 'gelungen': 596, 'schmeckt lecker': 3879, 'lecker eigenmarken': 1669, 'wirklich spezialisiert': 4661, 'meinung somit': 2447, 'perfektion erreichen': 3493, 'lecker eigenmarken berzeugen': 1670, 'wirklich spezialisiert meinung': 4662, 'meinung somit perfektion': 2448, 'perfektion erreichen gut': 3494, 'letztens': 1836, 'gemahlenen': 600, 'espresso': 420, 'ausprobiert': 100, 'urlaub': 4244, 'espressomaschine': 424, 'berzeugt': 149, 'leckeres': 1742, 'letztens gemahlenen': 1839, 'leckeres produkt': 1743, 'letztens gemahlenen espresso': 1840, 'partnerin': 3440, 'geben': 563, 'gerne': 636, 'hervorragend': 780, 'super': 4131, 'vertr': 4311, 'glich': 698, 'sch': 3834, 'ne': 2889, 'werbung': 4514, 'fairtrade': 462, 'fairer': 459, 'bitter': 210, 'zweideutig': 4983, 'stimmt': 4113, 'hinsicht': 785, 'partnerin geben': 3441, 'sterne schmeckt': 4062, 'schmeckt hervorragend': 3875, 'hervorragend super': 781, 'super vertr': 4138, 'vertr glich': 4312, 'gibt sch': 690, 'sch ne': 3840, 'ne werbung': 2897, 'werbung fairtrade': 4517, 'fairer kaffee': 461, 'kaffee bitter': 848, 'zweideutig stimmt': 4984, 'partnerin geben kaffee': 3442, 'sterne schmeckt hervorragend': 4063, 'schmeckt hervorragend super': 3876, 'hervorragend super vertr': 782, 'super vertr glich': 4139, 'gibt sch ne': 691, 'ne werbung fairtrade': 2898, 'werbung fairtrade fairer': 4518, 'zweideutig stimmt beiderlei': 4985, 'drei': 340, 'ig': 804, 'jahren': 832, 'wg': 4554, 'nft': 2998, 'magen': 2171, 'original': 3342, 'nicaragua': 3034, 'bioladen': 202, 'gab': 548, 'sorte': 3947, 'arabica': 66, 'bohne': 225, 'qualit': 3783, 'bohnen': 226, 'gekauft': 585, 'hle': 788, 'gearbeitet': 561, 'wurde': 4752, 'kasse': 1005, 'oft': 3260, 'leer': 1744, 'gespart': 671, 'billiger': 186, 'nica': 3031, 'pflicht': 3519, 'heute': 783, 'gepa': 614, 'zig': 4833, 'sorten': 3948, 'besten': 173, 'mehr': 2362, 'wg nft': 4561, 'nft magen': 2999, 'magen verdorben': 2178, 'original nicaragua': 3345, 'nicaragua kaffee': 3035, 'wurde wg': 4769, 'wg kasse': 4559, 'kasse oft': 1006, 'oft leer': 3271, 'leer gespart': 1745, 'nica kaffee': 3032, 'pflicht heute': 3520, 'zig sorten': 4834, 'magen mehr': 2172, 'mehr angreifenden': 2363, 'kaffee immer': 869, 'fair bio': 440, 'wg nft magen': 4562, 'nft magen verdorben': 3000, 'magen verdorben original': 2179, 'original nicaragua kaffee': 3346, 'nicaragua kaffee bioladen': 3036, 'wurde wg kasse': 4770, 'wg kasse oft': 4560, 'kasse oft leer': 1007, 'oft leer gespart': 3272, 'leer gespart billiger': 1746, 'nica kaffee pflicht': 3033, 'pflicht heute gibt': 3521, 'zig sorten besten': 4835, 'magen mehr angreifenden': 2173, 'mehr angreifenden kaffee': 2364, 'je': 834, 'getrunken': 680, 'wunderbares': 4743, 'projekt': 3776, 'unterst': 4236, 'pers': 3495, 'nlich': 3080, 'freude': 524, 'danke': 293, 'kaffee je': 870, 'je getrunken': 835, 'wunderbares projekt': 4747, 'pers nlich': 3496, 'nlich gro': 3083, 'kaffee je getrunken': 871, 'wunderbares projekt unterst': 4748, 'pers nlich gro': 3498, 'nlich gro freude': 3084, 'michael': 2497, 'genauso': 605, 'michael struck': 2498, 'michael struck genauso': 2499, 'benutze': 135, 'kaffeepads': 921, 'darboven': 300, 'vorher': 4351, 'viele': 4317, 'kaffeesorten': 929, 'finde': 497, 'heren': 771, 'preis': 3587, 'bioqualit': 204, 'zuschlag': 4963, 'fairen': 454, 'handel': 755, 'voll': 4330, 'gerechtfertigt': 631, 'aroma': 72, 'macht': 2117, 'glichen': 702, 'genuss': 611, 'viele kaffeesorten': 4322, 'kaffeesorten ausprobiert': 930, 'heren preis': 772, 'preis bioqualit': 3602, 'zuschlag fairen': 4964, 'fairen handel': 455, 'handel voll': 756, 'macht glichen': 2127, 'viele kaffeesorten ausprobiert': 4323, 'preis bioqualit zuschlag': 3603, 'zuschlag fairen handel': 4965, 'macht glichen kaffee': 2128, 'eben': 348, 'mittelfeld': 2629, 'fehlt': 480, 'vollmundig': 4344, 'note': 3168, 'tig': 4175, 'zugegeben': 4924, 'bewerten': 179, 'geschmack': 647, 'leistungsverh': 1819, 'ltnis': 2053, 'wert': 4525, 'kaffee wirklich': 910, 'wirklich rangiert': 4645, 'mittelfeld fehlt': 2630, 'note sterne': 3177, 'sterne tig': 4068, 'zugegeben echt': 4925, 'sterne bewerten': 4042, 'geschmack preis': 658, 'preis leistungsverh': 3643, 'leistungsverh ltnis': 1820, 'ltnis sterne': 2070, 'sterne wert': 4080, 'wirklich rangiert eben': 4646, 'mittelfeld fehlt vollmundig': 2631, 'note sterne tig': 3178, 'sterne tig zugegeben': 4069, 'zugegeben echt verw': 4926, 'sterne bewerten geschmack': 4043, 'preis leistungsverh ltnis': 3644, 'leistungsverh ltnis sterne': 1826, 'ltnis sterne wert': 2071, 'de': 310, 'maraba': 2300, 'kooperative': 1414, 'einfach': 363, 'perfekt': 3475, 'schmecken': 3860, 'streng': 4124, 'kr': 1446, 'ftig': 536, 'kakao': 968, 'noten': 3181, 'stlich': 4119, 'pro': 3732, 'kilo': 1120, 'absolut': 27, 'ordnung': 3316, 'versand': 4300, 'geht': 582, 'schnell': 3884, 'reibungslos': 3796, 'freundliche': 531, 'kundenbetreuung': 1503, 'nsche': 3189, 'weiterempfehlen': 4413, 'neue': 2950, 'kaffeesorte': 926, 'schon': 3893, 'bestellt': 169, 'ausschlie': 101, 'lich': 1848, 'frauen': 520, 'geerntet': 565, 'verarbeitet': 4251, 'angelique': 47, 'finest': 506, 'darauf': 296, 'freue': 525, 'caf de': 243, 'de maraba': 313, 'maraba kaffee': 2301, 'kaffee kooperative': 874, 'kooperative beste': 1415, 'beste kaffee': 166, 'kaffee stimmt': 897, 'stimmt einfach': 4114, 'einfach geschmack': 364, 'geschmack meinung': 656, 'meinung perfekt': 2445, 'perfekt kaffee': 3480, 'kaffee schmecken': 887, 'schmecken bitter': 3861, 'bitter streng': 212, 'streng aromatisch': 4125, 'aromatisch kr': 79, 'kr ftig': 1447, 'ftig kakao': 539, 'kakao noten': 971, 'noten einfach': 3182, 'einfach stlich': 371, 'stlich preis': 4120, 'preis pro': 3658, 'pro kilo': 3737, 'kilo absolut': 1121, 'absolut ordnung': 28, 'ordnung versand': 3326, 'versand geht': 4301, 'geht schnell': 583, 'schnell reibungslos': 3885, 'reibungslos freundliche': 3797, 'freundliche kundenbetreuung': 532, 'kundenbetreuung sonderw': 1506, 'nsche eingegangen': 3190, 'kaffee weiterempfehlen': 905, 'weiterempfehlen neue': 4416, 'neue kaffeesorte': 2955, 'kaffeesorte kaffee': 927, 'kooperative schon': 1418, 'schon bestellt': 3896, 'bestellt ausschlie': 170, 'ausschlie lich': 102, 'lich frauen': 1851, 'frauen geerntet': 521, 'geerntet verarbeitet': 566, 'verarbeitet angelique': 4252, 'angelique finest': 48, 'finest darauf': 507, 'darauf freue': 297, 'freue schon': 526, 'caf de maraba': 244, 'de maraba kaffee': 314, 'maraba kaffee kooperative': 2302, 'kaffee kooperative beste': 875, 'kooperative beste kaffee': 1416, 'beste kaffee stimmt': 167, 'kaffee stimmt einfach': 898, 'stimmt einfach geschmack': 4115, 'einfach geschmack meinung': 365, 'geschmack meinung perfekt': 657, 'meinung perfekt kaffee': 2446, 'perfekt kaffee schmecken': 3481, 'kaffee schmecken bitter': 888, 'schmecken bitter streng': 3862, 'bitter streng aromatisch': 213, 'streng aromatisch kr': 4126, 'aromatisch kr ftig': 80, 'kr ftig kakao': 1459, 'ftig kakao noten': 540, 'kakao noten einfach': 972, 'noten einfach stlich': 3183, 'einfach stlich preis': 372, 'stlich preis pro': 4121, 'preis pro kilo': 3659, 'pro kilo absolut': 3738, 'kilo absolut ordnung': 1122, 'absolut ordnung versand': 29, 'ordnung versand geht': 3327, 'versand geht schnell': 4302, 'geht schnell reibungslos': 584, 'schnell reibungslos freundliche': 3886, 'reibungslos freundliche kundenbetreuung': 3798, 'kundenbetreuung sonderw nsche': 1507, 'nsche eingegangen kaffee': 3191, 'kaffee weiterempfehlen neue': 906, 'weiterempfehlen neue kaffeesorte': 4417, 'neue kaffeesorte kaffee': 2956, 'kaffeesorte kaffee kooperative': 928, 'kaffee kooperative schon': 876, 'kooperative schon bestellt': 1419, 'schon bestellt ausschlie': 3897, 'bestellt ausschlie lich': 171, 'ausschlie lich frauen': 103, 'lich frauen geerntet': 1852, 'frauen geerntet verarbeitet': 522, 'geerntet verarbeitet angelique': 567, 'verarbeitet angelique finest': 4253, 'angelique finest darauf': 49, 'finest darauf freue': 508, 'darauf freue schon': 298, 'lieblings': 1891, 'kaffees': 922, 'granulat': 704, 'gern': 634, 'vorallem': 4349, 'korrekt': 1431, 'verschiedenen': 4308, 'gr': 703, 'kurz': 1518, 'kommt': 1304, 'selber': 3924, 'press': 3709, 'maschiene': 2336, 'lieblings bio': 1892, 'bio kaffees': 196, 'schmeckt gut': 3872, 'gut vorallem': 728, 'preis korrekt': 3634, 'korrekt gibt': 1432, 'verschiedenen sorten': 4309, 'kurz kommt': 1521, 'kommt selber': 1320, 'press maschiene': 3710, 'lieblings bio kaffees': 1893, 'schmeckt gut vorallem': 3874, 'preis korrekt gibt': 3635, 'korrekt gibt verschiedenen': 1433, 'kurz kommt selber': 1522, 'kommt selber benutze': 1321, 'cafe': 249, 'sidamo': 3932, 'weltpartner': 4457, 'trinke': 4196, 'hand': 752, 'aufgebr': 88, 'ht': 798, 'filterkaffee': 495, 'erst': 411, 'leckerer': 1724, 'ftiger': 542, 'wenig': 4462, 'ure': 4240, 'weltpartner trinke': 4460, 'hand aufgebr': 753, 'aufgebr ht': 89, 'leckerer kr': 1736, 'kr ftiger': 1467, 'ftiger kaffee': 543, 'kaffee wenig': 908, 'wenig ure': 4473, 'weltpartner trinke hand': 4461, 'hand aufgebr ht': 754, 'leckerer kr ftiger': 1737, 'kr ftiger kaffee': 1468, 'kaffee wenig ure': 909, 'wenig ure empfehlen': 4476, 'trinken': 4203, 'kaffe': 840, 'instant': 814, 'seit': 3916, 'zufrieden': 4907, 'sten': 4025, 'zeit': 4802, 'frisch': 533, 'hen': 766, 'positiv': 3561, 'berrascht': 145, 'papua': 3422, 'neuguinea': 2974, 'finden': 505, 'verpackung': 4299, 'leider': 1778, 'plastik': 3539, 'sst': 3968, 'schlecht': 3855, 'trinken kaffe': 4204, 'instant kaffee': 817, 'kaffee schon': 893, 'schon seit': 3900, 'seit jahren': 3919, 'geschmack zufrieden': 662, 'zufrieden kaffee': 4912, 'zeit frisch': 4803, 'positiv berrascht': 3562, 'kommt papua': 1318, 'papua neuguinea': 3425, 'neuguinea finden': 2979, 'leider deckel': 1785, 'plastik sst': 3544, 'kaffee schon seit': 894, 'schon seit jahren': 3901, 'zufrieden kaffee sten': 4914, 'zeit frisch aufbr': 4804, 'positiv berrascht bio': 3563, 'kommt papua neuguinea': 1319, 'papua neuguinea finden': 3428, 'neuguinea finden gut': 2980, 'leider deckel plastik': 1786, 'plastik sst scheinbar': 3545, 'selten': 3926, 'aromatischen': 81, 'vollmundigen': 4346, 'latte': 1608, 'macchiato': 2105, 'vollmundigen kaffee': 4347, 'kaffee getrunken': 864, 'leckerer latte': 1738, 'latte macchiato': 1615, 'macchiato immer': 2110, 'lecker absolut': 1659, 'leckerer latte macchiato': 1739, 'latte macchiato immer': 1618, 'macchiato immer genuss': 2111, 'lecker absolut empfehlen': 1660, 'paar': 3353, 'monaten': 2695, 'biosiegel': 205, 'eher': 357, 'konventionellen': 1384, 'preisklasse': 3693, 'intensiv': 823, 'bisschen': 209, 'leuten': 1846, 'ankommen': 56, 'paar monaten': 3358, 'monaten mal': 2696, 'mal eltern': 2232, 'finde gut': 499, 'geschmack aroma': 648, 'konventionellen kaffees': 1385, 'preisklasse aroma': 3694, 'nlich leuten': 3089, 'leuten ankommen': 1847, 'paar monaten mal': 3359, 'monaten mal eltern': 2697, 'mal eltern gekauft': 2233, 'konventionellen kaffees hnlicher': 1386, 'preisklasse aroma einerseits': 3695, 'pers nlich leuten': 3501, 'nlich leuten ankommen': 3090, 'alnatura': 38, 'stark': 3978, 'milchalternative': 2517, 'passt': 3459, 'wunderbar': 4720, 'stark bitter': 3979, 'schmeckt besten': 3867, 'milchalternative passt': 2518, 'passt soja': 3460, 'milchalternative passt soja': 2519, 'passt soja vanille': 3461, 'siebtr': 3933, 'ger': 626, 'espresso gut': 422, 'lecker siebtr': 1702, 'lecker siebtr ger': 1703, 'jahr': 831, 'gef': 568, 'llt': 1979, 'kleinbauern': 1186, 'welt': 4432, 'geschmacklich': 663, 'top': 4185, 'seit gut': 3917, 'gut jahr': 720, 'trinke kaffee': 4201, 'weltpartner gef': 4458, 'gef llt': 570, 'llt transparenz': 2004, 'kleinbauern berall': 1187, 'welt geschmacklich': 4438, 'seit gut jahr': 3918, 'weltpartner gef llt': 4459, 'llt transparenz ehrliche': 2005, 'kleinbauern berall welt': 1188, 'welt geschmacklich top': 4439, 'daf': 284, 'nstig': 3202, 'gut preis': 721, 'preis daf': 3609, 'daf wirklich': 287, 'wirklich nstig': 4643, 'preis daf wirklich': 3610, 'kenne': 1098, 'fein': 481, 'mahlen': 2201, 'duft': 342, 'angenehm': 51, 'jedoch': 836, 'daher': 288, 'nn': 3110, 'nat': 2832, 'rlich': 3817, 'kardamom': 1002, 'koriander': 1428, 'zimt': 4836, 'gen': 602, 'ber': 136, 'gew': 684, 'rze': 3829, 'kenne espresso': 1099, 'gut fein': 716, 'mahlen duft': 2204, 'ure daher': 4241, 'nn trinken': 3111, 'nat rlich': 2833, 'aroma gut': 74, 'kardamom koriander': 1003, 'koriander zimt': 1429, 'zimt kommt': 4837, 'kommt gen': 1307, 'kenne espresso gut': 1100, 'mahlen duft angenehm': 2205, 'kr ftig fertige': 1453, 'nn trinken daf': 3112, 'nat rlich aroma': 2834, 'kardamom koriander zimt': 1004, 'koriander zimt kommt': 1430, 'zimt kommt gen': 4838, 'kommt gen gend': 1308, 'gemahlen': 598, 'frenchpress': 523, 'deshalb': 320, 'geeignet': 564, 'packung': 3369, 'riecht': 3811, 'beim': 119, 'ffnen': 493, 'zugute': 4935, 'rkeren': 3815, 'nliche': 3099, 'gehandelten': 578, 'packung riecht': 3377, 'beim ffnen': 121, 'lecker kaffee': 1680, 'kommt zugute': 1326, 'zugute gerne': 4936, 'st rkeren': 3975, 'rkeren kaffee': 3816, 'kaffee trinken': 899, 'pers nliche': 3506, 'nliche vorliebe': 3102, 'preis fair': 3618, 'fair gehandelten': 443, 'kaffee mehr': 880, 'mehr gerechtfertigt': 2376, 'packung riecht beim': 3378, 'lecker kaffee aroma': 1681, 'kommt zugute gerne': 1327, 'zugute gerne st': 4937, 'st rkeren kaffee': 3976, 'nat rlich pers': 2841, 'pers nliche vorliebe': 3508, 'nliche vorliebe entscheidend': 3103, 'preis fair gehandelten': 3619, 'lange': 1575, 'geh': 573, 'rt': 3822, 'nie': 3044, 'entt': 394, 'uscht': 4247, 'worden': 4714, 'wichtig': 4565, 'schon lange': 3899, 'lange geh': 1578, 'geh rt': 574, 'kaffee gepa': 862, 'nie entt': 3049, 'entt uscht': 395, 'worden kaffee': 4715, 'super qualit': 4137, 'gerade kaffee': 630, 'wichtig gut': 4576, 'glich fair': 699, 'lange geh rt': 1579, 'nie entt uscht': 3050, 'worden kaffee immer': 4716, 'wichtig gut glich': 4577, 'gelesen': 593, 'spontan': 3966, '500': 21, 'schwester': 3914, 'beide': 118, 'angetan': 55, 'nftig': 3004, 'kilo kaffee': 1126, '500 bohnen': 22, 'nftig kooperative': 3006, 'kooperative beziehen': 1417, 'kilo kaffee bestellt': 1127, 'nftig kooperative beziehen': 3007, 'toll': 4176, 'mittlerweile': 2644, 'produkte': 3767, 'kaufen': 1043, 'geschmeckt': 670, 'finde toll': 504, 'mittlerweile viele': 2650, 'viele fair': 4320, 'kaufen gibt': 1052, 'gut geschmeckt': 718, 'mittlerweile viele fair': 2651, 'viele fair trade': 4321, 'kaufen gibt kaffee': 1053, 'milder': 2583, 'vollmundiger': 4348, 'milder vollmundiger': 2590, 'milder vollmundiger geschmack': 2591, 'lieblingskaffee': 1894, 'gefunden': 572, 'pur': 3782, 'genie': 608, 'morgen': 2706, 'chte': 261, 'teuer': 4171, 'lieblingskaffee gepa': 1897, 'morgen chte': 2709, 'mehr trinken': 2416, 'super lecker': 4134, 'lecker vertr': 1709, 'lieblingskaffee gepa gefunden': 1898, 'morgen chte mehr': 2710, 'mehr trinken teuer': 2417, 'lecker vertr glich': 1710, 'tag': 4146, 'br': 235, 'filter': 494, 'aldi': 33, 'zeichen': 4791, 'zufrieden mahlen': 4915, 'mahlen tag': 2210, 'br hen': 236, 'kaffee finde': 858, 'kaffee aldi': 843, 'zeichen vorredner': 4792, 'zufrieden mahlen tag': 4916, 'mahlen tag frisch': 2211, 'zeichen vorredner schon': 4793, 'teurer': 4173, 'massenkaffee': 2346, 'ja': 830, 'nein': 2918, 'massenkaffee einkauf': 2347, 'massenkaffee einkauf ja': 2348, 'fr': 515, 'her': 767, 'trank': 4192, 'masse': 2340, 'massen': 2343, 'klasse': 1155, 'fr her': 516, 'masse massen': 2341, 'massen heute': 2344, 'klasse genuss': 1156, 'masse massen heute': 2342, 'massen heute klasse': 2345, 'tollen': 4180, 'espresso super': 423, 'tollen geschmack': 4181, 'konventionelle': 1378, 'sogar': 3942, 'besser': 162, 'gehandelter': 579, 'gutes': 740, 'tue': 4216, 'geschmacklich kaffee': 664, 'genauso gut': 606, 'konventionelle kaffee': 1379, 'geschmack finde': 653, 'fair gehandelter': 444, 'kaffee gut': 865, 'gut schmeckt': 722, 'konventionelle kaffee sogar': 1380, 'klare': 1153, 'kaufempfehlung': 1041, 'klare kaufempfehlung': 1154, 'intenci': 819, 'allerdings': 35, 'pluspunkt': 3555, 'discountern': 333, 'guter': 738, 'leute': 1841, 'kucken': 1496, 'kaffe schmeckt': 841, 'gut gibt': 719, 'leckerer bio': 1725, 'bio fairtrade': 193, 'sterne allerdings': 4038, 'pluspunkt fairen': 3556, 'leute schon': 1842, 'schon immer': 3898, 'immer fairtrade': 806, 'preis kucken': 3638, 'schmeckt gut gibt': 3873, 'leckerer bio fairtrade': 1726, 'sterne allerdings gro': 4039, 'pluspunkt fairen kaffe': 3557, 'leute schon immer': 1843, 'probiert': 3758, 'fand': 470, 'verh': 4286, 'leistung': 1812, 'steht': 4015, 'nochmal': 3149, 'trade kaffees': 4189, 'kaffees probiert': 924, 'verh ltnis': 4287, 'ltnis preis': 2068, 'preis leistung': 3639, 'leistung voll': 1813, 'ordnung genuss': 3319, 'steht beuten': 4016, 'nlich schmeckts': 3095, 'nochmal gut': 3150, 'fair trade kaffees': 449, 'trade kaffees probiert': 4190, 'ltnis preis leistung': 2069, 'preis leistung voll': 3640, 'leistung voll ordnung': 1814, 'ordnung genuss steht': 3320, 'steht beuten kaffee': 4017, 'pers nlich schmeckts': 3504, 'nlich schmeckts nochmal': 3096, 'dosierung': 336, 'gute': 729, 'mischung': 2604, 'fast': 471, 'supermarkt': 4141, 'punkt': 3780, 'ndler': 2874, 'handelt': 758, 'bessere': 164, 'dosierung kr': 337, 'ftig aromatisch': 537, 'mischung preis': 2607, 'preis stimmt': 3666, 'fast supermarkt': 472, 'kaufen punkt': 1056, 'ndler fair': 2877, 'welt empfehlen': 4433, 'kr ftig aromatisch': 1448, 'mischung preis stimmt': 2608, 'preis stimmt gibt': 3668, 'kaufen punkt gibt': 1057, 'ndler fair unfair': 2878, 'messen': 2491, 'neuvorgestellte': 2985, 'ten': 4169, 'plus': 3552, 'alltag': 37, 'arbeiter': 71, 'messen neuvorgestellte': 2492, 'neuvorgestellte kaffeerarit': 2986, 'plus alltag': 3553, 'messen neuvorgestellte kaffeerarit': 2493, 'neuvorgestellte kaffeerarit ten': 2987, 'plus alltag einkommen': 3554, 'getreidekaffee': 679, 'hl': 787, 'trinke gerne': 4198, 'gerne mal': 638, 'mal getreidekaffee': 2244, 'mehr puscht': 2403, 'llt einfach': 1986, 'gef hl': 569, 'mal getreidekaffee mehr': 2245, 'mehr puscht gef': 2404, 'llt einfach geschmack': 1987, 'rde': 3787, 'gehandelt': 575, 'allein': 34, 'vergeben': 4262, 'immer kaufen': 811, 'kaufen rde': 1058, 'wichtig allein': 4566, 'sterne vergeben': 4074, 'kaufen rde fair': 1059, 'wichtig allein deswegen': 4567, 'lig': 1950, 'laut': 1629, 'nachteilig': 2814, 'passender': 3453, 'zubereitet': 4848, 'feste': 489, 'lig laut': 1951, 'laut experten': 1630, 'nachteilig europiccola': 2815, 'passender hle': 3454, 'zubereitet wirklich': 4853, 'wirklich leckerer': 4639, 'leckerer espresso': 1727, 'wenig bitterstoffe': 4464, 'ne feste': 2893, 'lig laut experten': 1952, 'laut experten eher': 1631, 'nachteilig europiccola passender': 2816, 'passender hle zubereitet': 3455, 'zubereitet wirklich leckerer': 4854, 'wirklich leckerer espresso': 4640, 'leckerer espresso ausdrucksstark': 1728, 'wenig bitterstoffe sch': 4465, 'ne feste crema': 2894, 'verwenden': 4315, 'sowohl': 3952, 'volles': 4341, 'greife': 708, 'trade kaffee': 4188, 'wichtig gibt': 4574, 'gutes gef': 742, 'sowohl kaffee': 3954, 'kaffee sorten': 896, 'espresso gepa': 421, 'gepa kaffee': 619, 'volles aroma': 4342, 'immer gerne': 808, 'fair trade kaffee': 448, 'wichtig gibt gutes': 4575, 'gutes gef hl': 743, 'wunderbar ueberhaupt': 4731, 'wunderbar ueberhaupt bitter': 4732, 'wunderbarer': 4733, 'organico': 3331, 'dabei': 281, 'meisten': 2452, 'herb': 768, 'ner': 2934, 'kaffegeschmack': 959, 'dennoch': 318, 'anschlie': 61, 'end': 385, 'schade': 3845, 'wunderbarer fairer': 4734, 'bio kaffee': 195, 'morgen biomischung': 2707, 'organico sagt': 3335, 'meisten herb': 2457, 'sch ner': 3842, 'ner runder': 2939, 'kaffegeschmack dennoch': 960, 'anschlie end': 62, 'wunderbarer fairer bio': 4735, 'morgen biomischung organico': 2708, 'organico sagt dabei': 3336, 'meisten herb sch': 2458, 'ner runder kaffegeschmack': 2940, 'kaffegeschmack dennoch anschlie': 961, 'biologisch': 203, 'produziert': 3775, 'lebensmitteln': 1649, 'einkaufe': 375, 'leisten': 1810, 'schmeckt einfach': 3868, 'einfach gut': 366, 'lebensmitteln wichtig': 1650, 'wichtig seit': 4584, 'kaufen studentin': 1066, 'leisten finde': 1811, 'schmeckt einfach gut': 3869, 'lebensmitteln wichtig seit': 1651, 'wichtig seit selber': 4585, 'kaufen studentin leisten': 1067, 'website': 4366, 'woher': 4692, 'stammt': 3977, 'meist': 2449, 'wer': 4501, 'sogenannten': 3944, 'ebenfalls': 349, 'au': 86, 'erdem': 401, 'regelm': 3794, 'special': 3959, 'optisch': 3307, 'liebster': 1925, 'trotz': 4208, 'recht': 3792, 'urearm': 4243, 'rdig': 3789, 'augen': 94, 'einzelnen': 376, 'zubereitungstipps': 4866, 'nlichen': 3104, 'fragen': 519, 'zahl': 4778, 'ab': 24, 'website ausf': 4367, 'woher kaffee': 4693, 'meist sogar': 2450, 'wer anbaut': 4502, 'kurz vorgestellt': 1523, 'au erdem': 87, 'regelm ig': 3795, 'optisch kaffee': 3308, 'liebster kaffee': 1926, 'zubereitungstipps pers': 4867, 'pers nlichen': 3509, 'nlichen auskunft': 3105, 'zahl ab': 4779, 'mal mehr': 2252, 'website ausf hrlich': 4368, 'woher kaffee stammt': 4694, 'meist sogar wer': 2451, 'wer anbaut familien': 4503, 'kurz vorgestellt geschmacklich': 1524, 'optisch kaffee box': 3309, 'liebster kaffee hidden': 1927, 'zubereitungstipps pers nlichen': 4868, 'pers nlichen auskunft': 3510, 'nlichen auskunft fragen': 3106, 'zahl ab gerne': 4780, 'suche': 4130, 'alternative': 40, 'nespresso': 2941, 'kapseln': 997, 'coffee': 266, 'circle': 262, 'gesto': 672, 'en': 382, 'firma': 509, 'deutschland': 325, 'bietet': 185, 'passend': 3446, 'kapsel': 991, 'maschinen': 2337, 'nstiger': 3218, 'lieblingssorte': 1912, 'limu': 1953, 'milch': 2500, 'zucker': 4869, 'nespresso kapseln': 2942, 'kapseln coffee': 998, 'coffee circle': 269, 'gesto en': 673, 'passend kapsel': 3447, 'kapsel maschinen': 992, 'maschinen sogar': 2338, 'nstiger leckerer': 3221, 'leckerer original': 1740, 'original gibt': 3343, 'lieblingssorte limu': 1914, 'limu schmeckt': 1956, 'schmeckt aromatisch': 3866, 'milch zucker': 2513, 'nespresso kapseln coffee': 2943, 'kapseln coffee circle': 999, 'passend kapsel maschinen': 3448, 'kapsel maschinen sogar': 993, 'maschinen sogar nstiger': 2339, 'nstiger leckerer original': 3222, 'leckerer original gibt': 1741, 'original gibt sorten': 3344, 'lieblingssorte limu schmeckt': 1915, 'limu schmeckt aromatisch': 1957, 'tchibo': 4157, 'nennen': 2931, 'oh': 3278, 'ok': 3281, 'zwei': 4972, 'bezahlen': 181, 'nnen': 3116, 'weniger': 4492, 'kriegen': 1481, 'ch': 257, 'nennen oh': 2932, 'oh ok': 3279, 'ok fairen': 3282, 'fairen kaffee': 456, 'einfach mal': 369, 'mal zwei': 2280, 'zwei sorten': 4978, 'mehr bezahlen': 2365, 'nnen ja': 3121, 'weniger kriegen': 4499, 'kriegen ch': 1482, 'nennen oh ok': 2933, 'oh ok fairen': 3280, 'ok fairen kaffee': 3283, 'mal zwei sorten': 2281, 'zwei sorten bisschen': 4979, 'mehr bezahlen nnen': 2366, 'nnen ja reinholen': 3122, 'weniger kriegen ch': 4500, 'kriegen ch sowas': 1483, 'besonders': 160, 'kleinb': 1183, 'tzt': 4219, 'naturland': 2847, 'hst': 796, 'wegzudenken': 4384, 'besonders gut': 161, 'lich kleinb': 1857, 'kleinb uerinnen': 1184, 'kleinbauern unterst': 1189, 'unterst tzt': 4237, 'oft kaffee': 3269, 'kaffee bio': 847, 'naturland fair': 2848, 'zertifiziert fr': 4818, 'fr hst': 517, 'mehr wegzudenken': 2418, 'lich kleinb uerinnen': 1858, 'kleinb uerinnen kleinbauern': 1185, 'kleinbauern unterst tzt': 1190, 'oft kaffee bio': 3270, 'naturland fair zertifiziert': 2849, 'zertifiziert fr hst': 4819, 'zubereitung': 4855, 'nken': 3072, 'eignet': 361, 'zubereitung kaffee': 4856, 'kaffee milch': 881, 'milch getr': 2504, 'nken eignet': 3073, 'zubereitung kaffee milch': 4857, 'milch getr nken': 2505, 'nlicher': 3107, 'favorit': 473, 'liebe': 1864, 'trifft': 4195, 'gar': 558, 'voller': 4338, 'rarit': 3784, 'geschmackvoll': 669, 'empfehlenswert': 381, 'koche': 1232, 'kaffeevollautomaten': 949, 'hei': 765, 'pers nlicher': 3511, 'nlicher favorit': 3108, 'liebe geschmack': 1869, 'bio espresso': 190, 'voller geschmack': 4339, 'rarit ten': 3785, 'koche kaffeevollautomaten': 1233, 'kaffeevollautomaten bohnen': 950, 'bohnen frisch': 229, 'frisch gemahlen': 534, 'geschmack dabei': 651, 'leckerer espresso pers': 1729, 'pers nlicher favorit': 3512, 'nlicher favorit liebe': 3109, 'liebe geschmack italienischem': 1870, 'wenig ure daf': 4474, 'koche kaffeevollautomaten bohnen': 1234, 'kaffeevollautomaten bohnen frisch': 951, 'weder': 4369, 'mild': 2533, 'prinzip': 3720, 'meins': 2433, 'zweck': 4969, 'richtig': 3808, 'kaffee kaffee': 872, 'weder saure': 4374, 'meisten filterkaffes': 2455, 'mild prinzip': 2555, 'prinzip meins': 3721, 'meins zweck': 2434, 'zweck genau': 4970, 'genau richtig': 604, 'weder saure aroma': 4375, 'meisten filterkaffes schmeckt': 2456, 'mild prinzip meins': 2556, 'prinzip meins zweck': 3722, 'meins zweck genau': 2435, 'zweck genau richtig': 4971, 'aromatischer': 82, 'kaffeegenuss': 915, 'zufall': 4902, 'entdeckt': 388, 'preises': 3688, 'tasse': 4151, 'lang': 1572, 'kaufentscheidung': 1074, 'stern': 4026, 'abzug': 31, 'gebe': 562, 'aufgrund': 90, 'deutlich': 323, 'spezielle': 3964, 'zwischendurch': 4994, 'rmstens': 3819, 'zufall beim': 4903, 'heren preises': 774, 'preises gekauft': 3689, 'lang kaufentscheidung': 1573, 'kaufentscheidung bereut': 1075, 'stern abzug': 4029, 'preises spezielle': 3691, 'mal genussvolle': 2240, 'zwischendurch kaffee': 4995, 'zufall beim st': 4904, 'preises gekauft tasse': 3690, 'lang kaufentscheidung bereut': 1574, 'kaufentscheidung bereut stern': 1076, 'stern abzug gebe': 4030, 'preises spezielle anl': 3692, 'mal genussvolle tasse': 2241, 'zwischendurch kaffee rmstens': 4996, 'stung': 4129, 'kogi': 1252, 'ln': 2010, 'perfekt caf': 3476, 'caf kogi': 248, 'kogi ln': 1255, 'ln reise': 2015, 'perfekt caf kogi': 3477, 'kogi ln reise': 1256, 'ln reise wert': 2016, 'ersten': 416, 'eigentlich': 360, 'sicher': 3931, 'ansprechend': 64, 'insbesondere': 812, 'nf': 2988, 'ersten mal': 417, 'mal gekauft': 2237, 'wirklich gut': 4629, 'gut verpackung': 725, 'teuer geschmack': 4172, 'preis mehr': 3654, 'mehr wert': 2421, 'wert vergeben': 4538, 'daher nf': 290, 'nf nf': 2991, 'nf punkten': 2993, 'mal gekauft skeptisch': 2238, 'wirklich gut verpackung': 4630, 'preis mehr wert': 3655, 'mehr wert vergeben': 2422, 'wert vergeben daher': 4539, 'nf nf punkten': 2992, 'sterne gibt': 4048, 'gibt deshalb': 688, 'deshalb lieblingskaffee': 321, 'sterne gibt deshalb': 4049, 'gibt deshalb lieblingskaffee': 689, 'siegel': 3934, 'maxhavelar': 2354, 'lt': 2036, 'verspricht': 4310, 'macht kaffe': 2133, 'wirklich fair': 4615, 'trade siegel': 4191, 'maxhavelar wirklich': 2355, 'wirklich schade': 4654, 'lt verspricht': 2043, 'macht kaffe wirklich': 2134, 'wirklich fair gegensatz': 4616, 'fair trade siegel': 450, 'maxhavelar wirklich schade': 2356, 'wirklich schade gepa': 4655, 'lt verspricht schmeckt': 2046, 'fernsehwerbung': 486, 'extrem': 434, 'schonen': 3905, 'niedriger': 3059, 'temperatur': 4166, 'stet': 4081, 'enth': 390, 'verbrannte': 4255, 'ferner': 483, 'schalen': 3849, 'gestreckt': 674, 'mahlwerk': 2218, 'wei': 4385, 'papier': 3409, 'tuch': 4213, 'tten': 4210, 'vielleicht': 4327, 'ffel': 490, 'bohnenbild': 231, 'anschauen': 58, 'angerufen': 52, 'beschwert': 153, 'telefon': 4163, 'bekam': 129, 'gesagt': 641, 'diesbez': 326, 'nne': 3113, 'daf kaffee': 285, 'kaffee laut': 877, 'laut fernsehwerbung': 1632, 'fernsehwerbung extrem': 487, 'extrem schonen': 435, 'schonen niedriger': 3906, 'niedriger temperatur': 3060, 'temperatur ger': 4167, 'ger stet': 627, 'stet enth': 4084, 'enth lt': 391, 'lt verbrannte': 2041, 'verbrannte bohnen': 4256, 'bohnen ferner': 227, 'ferner kaffee': 484, 'kaffee schalen': 885, 'schalen gestreckt': 3850, 'gestreckt rt': 675, 'rt mahlwerk': 3823, 'mahlwerk ab': 2219, 'ab einfach': 25, 'mal kaffee': 2248, 'kaffee wei': 903, 'wei papier': 4388, 'papier tuch': 3414, 'tuch sch': 4214, 'sch tten': 3843, 'tten vielleicht': 4211, 'vielleicht ffel': 4328, 'ffel bohnenbild': 491, 'bohnenbild anschauen': 232, 'anschauen tchibo': 59, 'tchibo angerufen': 4158, 'angerufen beschwert': 53, 'beschwert telefon': 154, 'telefon bekam': 4164, 'bekam gesagt': 130, 'gesagt diesbez': 642, 'diesbez glich': 327, 'glich nne': 700, 'nne schade': 3114, 'schade nie': 3846, 'daf kaffee laut': 286, 'kaffee laut fernsehwerbung': 878, 'laut fernsehwerbung extrem': 1633, 'fernsehwerbung extrem schonen': 488, 'extrem schonen niedriger': 436, 'schonen niedriger temperatur': 3907, 'niedriger temperatur ger': 3061, 'temperatur ger stet': 4168, 'ger stet enth': 628, 'stet enth lt': 4085, 'enth lt verbrannte': 392, 'lt verbrannte bohnen': 2042, 'verbrannte bohnen ferner': 4257, 'bohnen ferner kaffee': 228, 'ferner kaffee schalen': 485, 'kaffee schalen gestreckt': 886, 'schalen gestreckt rt': 3851, 'gestreckt rt mahlwerk': 676, 'rt mahlwerk ab': 3824, 'mahlwerk ab einfach': 2220, 'ab einfach mal': 26, 'einfach mal kaffee': 370, 'mal kaffee wei': 2249, 'kaffee wei papier': 904, 'wei papier tuch': 4389, 'papier tuch sch': 3415, 'tuch sch tten': 4215, 'sch tten vielleicht': 3844, 'tten vielleicht ffel': 4212, 'vielleicht ffel bohnenbild': 4329, 'ffel bohnenbild anschauen': 492, 'bohnenbild anschauen tchibo': 233, 'anschauen tchibo angerufen': 60, 'tchibo angerufen beschwert': 4159, 'angerufen beschwert telefon': 54, 'beschwert telefon bekam': 155, 'telefon bekam gesagt': 4165, 'bekam gesagt diesbez': 131, 'gesagt diesbez glich': 643, 'diesbez glich nne': 328, 'glich nne schade': 701, 'nne schade nie': 3115, 'intencion': 822, 'aroma guter': 75, 'guter geschmack': 739, 'volles aroma guter': 4343, 'aroma guter geschmack': 76, 'stete': 4095, 'sodbrennen': 3940, 'leide': 1772, 'erwartungen': 418, 'wurden': 4771, 'erf': 402, 'ansonsten': 63, 'feinen': 482, 'nfte': 3001, 'familie': 469, 'neuen': 2957, 'llt besonders': 1980, 'mild ger': 2544, 'stete kaffee': 4096, 'leide punkt': 1773, 'wichtig erwartungen': 4568, 'wurden vollstens': 4776, 'erf llt': 403, 'llt daf': 1984, 'sterne ansonsten': 4040, 'schmeckt kaffe': 3877, 'nfte stern': 3002, 'stern wurde': 4034, 'wurde gern': 4755, 'neuen lieblingskaffee': 2962, 'lieblingskaffee entdeckt': 1895, 'llt besonders hierbei': 1981, 'mild ger stete': 2545, 'stete kaffee handelt': 4097, 'wenig ure schnell': 4481, 'leide punkt wichtig': 1774, 'wichtig erwartungen wurden': 4569, 'wurden vollstens erf': 4777, 'llt daf bekam': 1985, 'sterne ansonsten schmeckt': 4041, 'nfte stern wurde': 3003, 'stern wurde gern': 4035, 'wurde gern daf': 4756, 'neuen lieblingskaffee entdeckt': 2963, 'lieblingskaffees': 1909, 'tolle': 4177, 'crem': 273, 'fad': 437, 'lieblingskaffees voller': 1910, 'geschmack tolle': 659, 'tolle crem': 4178, 'crem schon': 274, 'schon viele': 3903, 'viele bio': 4318, 'probiert meisten': 3759, 'meisten schmecken': 2459, 'schmecken eher': 3863, 'eher fad': 358, 'lieblingskaffees voller geschmack': 1911, 'voller geschmack tolle': 4340, 'geschmack tolle crem': 660, 'tolle crem schon': 4179, 'crem schon viele': 275, 'schon viele bio': 3904, 'viele bio fair': 4319, 'kaffees probiert meisten': 925, 'probiert meisten schmecken': 3760, 'meisten schmecken eher': 2460, 'schmecken eher fad': 3864, 'ausgewogen': 95, 'leichte': 1766, 'kakaonote': 973, 'eindruck': 362, 'kaffee schmeckt': 889, 'leichte kakaonote': 1767, 'kakaonote allerdings': 974, 'immer gut': 809, 'wenig ure leichte': 4479, 'leichte kakaonote allerdings': 1768, 'kakaonote allerdings eindruck': 975, 'leistungs': 1815, 'finde preis': 503, 'preis leistungs': 3641, 'leistungs verh': 1816, 'ltnis stimmt': 2072, 'voll ganz': 4331, 'wirklich fairen': 4622, 'fairen preis': 457, 'preis leistungs verh': 3642, 'leistungs verh ltnis': 1817, 'ltnis stimmt voll': 2075, 'wirklich fairen preis': 4623, 'kaufe': 1015, 'favoriten': 475, 'komme': 1290, 'nstigeres': 3226, 'kaufe regelm': 1035, 'komme mal': 1291, 'mal nstigeres': 2255, 'nstigeres chte': 3227, 'kaufe regelm ig': 1036, 'komme mal nstigeres': 1292, 'mal nstigeres chte': 2256, 'wissen': 4672, 'kreuzt': 1478, 'aufstehen': 93, 'reden': 3793, 'brauche': 237, 'ck': 263, 'milchkaffe': 2521, 'lust': 2092, 'beginnen': 114, 'zweitens': 4991, 'schadstoffe': 3847, 'zuf': 4899, 'schonend': 3908, 'sauer': 3833, 'gutem': 731, 'probiere': 3753, 'hause': 764, 'wahl': 4355, 'italienischen': 828, 'morgen geh': 2715, 'wissen selten': 4675, 'kreuzt jemand': 1479, 'hst ck': 797, 'gro en': 712, 'milchkaffe guter': 2522, 'mal fair': 2234, 'lust tag': 2100, 'zweitens bio': 4992, 'mehr schadstoffe': 2405, 'zuf gen': 4900, 'bio gepa': 194, 'stet besonders': 4082, 'beim espresso': 120, 'wichtig sauer': 4582, 'milder kaffee': 2586, 'probiere gerne': 3754, 'gerne kaffee': 637, 'llt wahl': 2008, 'gepa italienischen': 617, 'italienischen bio': 829, 'morgen geh rt': 2716, 'wissen selten kreuzt': 4676, 'kreuzt jemand ritual': 1480, 'fr hst ck': 518, 'milchkaffe guter qualit': 2523, 'mal fair trade': 2235, 'lust tag ungerechtigkeit': 2101, 'zweitens bio rper': 4993, 'mehr schadstoffe zuf': 2406, 'zuf gen bio': 4901, 'stet besonders beim': 4083, 'wichtig sauer rziger': 4583, 'milder kaffee verstehe': 2587, 'probiere gerne kaffee': 3755, 'llt wahl regelm': 2009, 'gepa italienischen bio': 618, 'freunde': 527, 'unternehmen': 4234, 'hlt': 789, 'auswahl': 104, 'trinker': 4206, 'wochen': 4685, 'neues': 2967, 'paket': 3401, 'mittlerweile beschenke': 2645, 'freunde kaffee': 528, 'paar wochen': 3365, 'wochen kommt': 4690, 'kommt neues': 1314, 'neues paket': 2970, 'paket kaffee': 3404, 'ne idee': 2895, 'mittlerweile beschenke freunde': 2646, 'paar wochen kommt': 3368, 'wochen kommt neues': 4691, 'kommt neues paket': 1315, 'neues paket kaffee': 2971, 'paket kaffee hause': 3405, 'ne idee finde': 2896, 'besuch': 176, 'bekommen': 132, 'sofort': 3941, 'begeistert': 112, 'mal besuch': 2229, 'schmeckt vollmundig': 3881, 'einfach lecker': 368, 'lecker nat': 1692, 'kaffee gekauft': 861, 'gekauft genie': 586, 'oft sten': 3273, 'ganz begeistert': 550, 'begeistert kaffee': 113, 'kaffee einfach': 852, 'mal besuch freundin': 2230, 'kaffee schmeckt vollmundig': 892, 'nat rlich kr': 2840, 'kr ftig einfach': 1452, 'lecker nat rlich': 1693, 'nat rlich kaffee': 2839, 'oft sten biete': 3274, 'kaffeevollautomat': 944, 'entfaltet': 389, 'volle': 4334, 'mag': 2154, 'kaffeevollautomat entfaltet': 945, 'wunderbar einfach': 4727, 'lecker kaffe': 1678, 'kaffeevollautomat entfaltet einzigartige': 946, 'wunderbar einfach lecker': 4728, 'lecker kaffe mag': 1679, 'wertvoll': 4545, 'bestelle': 168, 'probe': 3747, 'gleich': 697, 'nimmt': 3067, 'ganzen': 555, 'definitiv': 315, 'bleiben': 218, 'lecker wertvoll': 1711, 'wertvoll hinsicht': 4546, 'probe dritten': 3748, 'mal schwester': 2266, 'nimmt ganzen': 3068, 'ganzen bohnen': 556, 'kaffee bleiben': 849, 'lecker wertvoll hinsicht': 1712, 'wertvoll hinsicht bestelle': 4547, 'probe dritten mal': 3749, 'mal schwester bestellt': 2267, 'nimmt ganzen bohnen': 3069, 'besonderen': 157, 'menschen': 2475, 'veredelt': 4259, 'thiopien': 4174, 'vielen': 4325, 'dank': 292, 'flei': 513, 'nde': 2855, 'lange gesucht': 1580, 'schmeckt ganz': 3871, 'ganz besonderen': 551, 'menschen veredelt': 2480, 'zwei jahren': 4975, 'lange gesucht kaffee': 1581, 'menschen veredelt sorte': 2482, 'zwei jahren vielen': 4977, 'mann': 2293, 'allergikerin': 36, 'produkten': 3769, 'partner': 3433, 'bek': 126, 'mmlicher': 2678, 'vertrage': 4313, 'lohn': 2023, 'mann probleme': 2298, 'genie en': 609, 'kaffee ganz': 860, 'partner bek': 3434, 'bek mmlicher': 128, 'mmlicher pers': 2681, 'nlich kaffee': 3087, 'kaffee besser': 845, 'menschen anbauen': 2476, 'lohn daf': 2024, 'mehr produkt': 2401, 'note danke': 3169, 'mann probleme sodbrennen': 2299, 'partner bek mmlicher': 3435, 'mmlicher pers nlich': 2682, 'pers nlich kaffee': 3500, 'nlich kaffee besser': 3088, 'menschen anbauen gerechten': 2477, 'lohn daf bekommen': 2025, 'mehr produkt erwarten': 2402, 'produkt erwarten note': 3764, 'note danke daf': 3170, 'rewe': 3805, 'stkaffee': 4117, 'guten': 733, 'fters': 535, 'rewe bio': 3806, 'bio stkaffee': 200, 'stkaffee fairtrade': 4118, 'berzeugt kaffee': 151, 'mild gibt': 2547, 'guten preis': 736, 'ltnis fters': 2062, 'rewe bio stkaffee': 3807, 'bio stkaffee fairtrade': 201, 'mild gibt guten': 2548, 'guten preis leistungsverh': 737, 'leistungsverh ltnis fters': 1824, 'ltnis fters kaufen': 2063, 'dinge': 329, 'konzept': 1392, 'produktion': 3770, 'konzept produktion': 1407, 'kaffee schmeckt gut': 890, 'spezialit': 3963, '100': 6, 'mahle': 2194, 'bereite': 141, 'mittelkr': 2635, 'faire': 451, 'lebt': 1652, 'wohl': 4695, 'kaum': 1085, 'ganze': 553, 'sache': 3831, 'kaufe bohnen': 1017, 'mahle frisch': 2197, 'bereite kaffee': 142, 'kaffee espresso': 853, 'kaffee vollmundig': 902, 'mittelkr ftig': 2636, 'milch gepa': 2502, 'wirklich faire': 4619, 'lebt brauche': 1653, 'wohl kaum': 4696, 'kaum erw': 1086, 'macht ganze': 2122, 'kaufe bohnen mahle': 1018, 'mahle frisch bereite': 2198, 'mittelkr ftig harmoniert': 2637, 'milch gepa fast': 2503, 'wirklich faire handelsbedingungen': 4620, 'lebt brauche wohl': 1654, 'wohl kaum erw': 4697, 'kaum erw hnen': 1087, 'macht ganze sache': 2124, 'leckeren': 1716, 'schluck': 3858, 'super leckeren': 4135, 'leckeren kaffee': 1719, 'lange mehr': 1584, 'mehr getrunken': 2377, 'getrunken kaffee': 683, 'schluck genie': 3859, 'super leckeren kaffee': 4136, 'leckeren kaffee schon': 1720, 'lange mehr getrunken': 1585, 'mehr getrunken kaffee': 2378, 'weltladen': 4449, 'berzeugend': 148, 'herk': 776, 'mmlichen': 2671, 'kaufe hiesigen': 1023, 'weltladen begeistert': 4450, 'herk mmlichen': 777, 'mmlichen kaffee': 2674, 'kaffee fair': 854, 'gehandelt mehr': 576, 'mehr tasse': 2413, 'kaufe hiesigen weltladen': 1024, 'weltladen begeistert geschmack': 4451, 'mmlichen kaffee fair': 2675, 'behinderte': 116, 'marke': 2305, 'gut vertr': 726, 'wunderbar behinderte': 4723, 'behinderte menschen': 117, 'menschen stung': 2478, 'marke gefunden': 2310, 'gut vertr glich': 727, 'wunderbar behinderte menschen': 4724, 'menschen stung beteiligt': 2479, 'vollautomaten': 4333, 'kommen': 1293, 'sparen': 3958, 'greifen': 709, 'schlechtes': 3856, 'gewissen': 685, 'wirklich lange': 4635, 'lange probiert': 1586, 'kommen immer': 1294, 'stet geschmack': 4086, 'wirklich super': 4663, 'note rewe': 3175, 'mal sonderangebote': 2268, 'marke pro': 2317, 'pro packung': 3743, 'packung sparen': 3379, 'immer kaffee': 810, 'genuss schlechtes': 612, 'schlechtes gewissen': 3857, 'wirklich lange probiert': 4636, 'lange probiert kommen': 1587, 'kommen immer bohnen': 1295, 'stet geschmack wirklich': 4087, 'wirklich super bittere': 4664, 'note rewe gibt': 3176, 'mal sonderangebote marke': 2269, 'marke pro packung': 2318, 'pro packung sparen': 3744, 'packung sparen greifen': 3380, 'genuss schlechtes gewissen': 613, 'bevorzuge': 178, 'kaffeeliebhaber': 916, 'nschen': 3192, 'laden': 1541, 'ausprobieren': 99, 'kilimanjaro': 1117, 'ausgezeichnet': 97, 'kaffee fairtrade': 856, 'fairtrade produziert': 466, 'nschen viele': 3195, 'laden ausprobieren': 1542, 'kilimanjaro schmeckt': 1118, 'gutem gewissen': 732, 'gepa kaffee fairtrade': 620, 'kaffee fairtrade produziert': 857, 'nschen viele geschmackvolle': 3196, 'laden ausprobieren kilimanjaro': 1543, 'kilimanjaro schmeckt ganz': 1119, 'naturland rewe': 2852, 'einzig': 377, 'legt': 1758, 'plantagen': 3531, 'berhaupt': 144, 'rdert': 3788, 'kinder': 1132, 'usw': 4248, 'arbeiten': 70, 'durchaus': 345, 'zusammen': 4960, 'tut': 4217, 'legt gro': 1759, 'wert darauf': 4526, 'en plantagen': 383, 'plantagen deshalb': 3532, 'nnen kleinbauern': 3123, 'gef rdert': 571, 'kinder schule': 1135, 'nnen usw': 3131, 'zertifiziert arbeiten': 4814, 'plantagen zusammen': 3534, 'zusammen gepa': 4961, 'wirklich faire kaffee': 4621, 'legt gro en': 1760, 'wert darauf kleinbauern': 4527, 'gro en plantagen': 713, 'plantagen deshalb gibt': 3533, 'nnen kleinbauern unterst': 3124, 'kinder schule schicken': 1136, 'nnen usw kaffee': 3132, 'zertifiziert arbeiten durchaus': 4815, 'plantagen zusammen gepa': 3535, 'zusammen gepa tut': 4962, 'nat rlich hervorragend': 2838, 'trotzdem': 4209, 'rker': 3814, 'gekocht': 587, 'milchkaffeetrinken': 2527, 'milde': 2567, 'daumen': 307, 'hoch': 792, 'trinke gepa': 4197, 'gerne sch': 639, 'sch mild': 3839, 'mild trotzdem': 2561, 'ftig geschmack': 538, 'geschmack au': 649, 'st rker': 3974, 'milchkaffeetrinken fad': 2528, 'milde macht': 2572, 'macht paar': 2141, 'paar tassen': 3363, 'mehr sodbrennen': 2409, 'daumen hoch': 308, 'mild trotzdem kr': 2563, 'kr ftig geschmack': 1455, 'geschmack au erdem': 650, 'milchkaffeetrinken fad geschmack': 2529, 'milde macht paar': 2573, 'macht paar tassen': 2142, 'paar tassen mehr': 3364, 'mehr sodbrennen daumen': 2410, 'alt': 39, 'egal': 355, 'lecker danke': 1665, 'schmeckt einfach lecker': 3870, 'lecker danke vorreiterrolle': 1666, 'vollautomat': 4332, 'kurzurlaubstripps': 1530, 'klein': 1178, 'schwarz': 3912, 'kurzurlaubstripps fan': 1531, 'mag kaffee': 2163, 'klein schwarz': 1181, 'stark eben': 3980, 'mount hagen instant': 2744, 'kurzurlaubstripps fan mount': 1532, 'mount hagen mag': 2747, 'mag kaffee besser': 2164, 'klein schwarz stark': 1182, 'stark eben autentischer': 3981, 'ltig': 2047, 'kaffeeautomaten': 911, 'verwende': 4314, 'harmonisch': 760, 'ca': 241, '99': 23, 'angemessen': 50, 'ltig angebaut': 2048, 'immer gern': 807, 'ner dunkler': 2937, 'perfekt kaffeeautomaten': 3482, 'mehr supermarkt': 2411, 'preis ca': 3604, 'ltig angebaut daher': 2049, 'ner dunkler kr': 2938, 'perfekt kaffeeautomaten verwende': 3483, 'mehr supermarkt regale': 2412, 'preis ca 99': 3606, 'kaufe seit': 1037, 'zeit kaffee': 4805, 'kaufe seit zeit': 1038, 'zeit kaffee gepa': 4806, 'mmlich': 2658, 'mehreren': 2423, 'vergleichen': 4279, 'milden': 2576, 'kam': 976, 'preislich': 3696, 'liegt': 1943, 'oberen': 3243, 'bzw': 240, 'leichten': 1769, 'trinkt': 4207, 'bek mmlich': 127, 'mmlich schmeckt': 2667, 'lecker mehreren': 1690, 'mehreren vergleichen': 2426, 'vergleichen milden': 4282, 'milden kaffeesorten': 2577, 'kam entschluss': 981, 'preislich liegt': 3701, 'liegt kaffee': 1946, 'oberen grenze': 3244, 'aufgrund fairen': 91, 'leichten kaffee': 1770, 'kaffee trinkt': 900, 'mmlich schmeckt lecker': 2668, 'lecker mehreren vergleichen': 1691, 'mehreren vergleichen milden': 2427, 'vergleichen milden kaffeesorten': 4283, 'milden kaffeesorten unterschiedlichen': 2578, 'kam entschluss bevorzuge': 982, 'preislich liegt kaffee': 3702, 'liegt kaffee eher': 1947, 'oberen grenze aufgrund': 3245, 'leichten kaffee trinkt': 1771, 'wunderbarer kaffee': 4736, 'wunderbarer kaffee mild': 4737, 'mild trotzdem gut': 2562, 'on': 3294, 'pads': 3386, 'bewusst': 180, 'hrung': 795, 'bleibt': 219, 'kauf': 1008, 'darboven caf': 301, 'on pads': 3295, 'pads kam': 3395, 'kam bewusst': 979, 'mal ber': 2227, 'fairtrade kaffee': 464, 'favorit kaffee': 474, 'kauf gutes': 1009, 'marke wirklich': 2322, 'wirklich rmstens': 4649, 'rmstens empfehlen': 3820, 'on pads kam': 3296, 'pads kam bewusst': 3396, 'kam bewusst ersten': 980, 'mal ber hrung': 2228, 'kauf gutes marke': 1010, 'marke wirklich rmstens': 2323, 'wirklich rmstens empfehlen': 4650, 'kaffeetrinker': 931, 'merkt': 2486, 'erfahrung': 404, 'kaffeetrinker schon': 939, 'wunderbar merkt': 4729, 'merkt gepa': 2489, 'wichtig kaffee': 4578, 'kaffeetrinker schon viele': 940, 'wunderbar merkt gepa': 4730, 'merkt gepa erfahrung': 2490, 'kaffee fair trade': 855, 'wichtig kaffee bleiben': 4579, 'unbedingt': 4225, 'zudem': 4879, 'spendenanteil': 3960, 'euro': 426, 'entwicklungsprojekte': 397, 'vorbildlich': 4350, 'stlich unbedingt': 4122, 'unbedingt mal': 4226, 'mal probiert': 2258, 'probiert zudem': 3761, 'zudem spendenanteil': 4890, 'spendenanteil euro': 3961, 'euro entwicklungsprojekte': 427, 'entwicklungsprojekte vorbildlich': 400, 'einfach stlich unbedingt': 373, 'stlich unbedingt mal': 4123, 'unbedingt mal probiert': 4227, 'mal probiert zudem': 2259, 'probiert zudem spendenanteil': 3762, 'zudem spendenanteil euro': 4891, 'spendenanteil euro entwicklungsprojekte': 3962, 'euro entwicklungsprojekte vorbildlich': 428, 'geschmacklich sterne': 665, 'sterne optisch': 4056, 'optisch sterne': 3310, 'sterne preis': 4058, 'preis sterne': 3664, 'sterne verpackung': 4076, 'sterne optisch sterne': 4057, 'optisch sterne preis': 3311, 'sterne preis sterne': 4059, 'preis sterne verpackung': 3665, 'sterne verpackung stern': 4077, 'kannten': 988, 'freundlich': 530, 'platzsuche': 3549, 'hlte': 790, 'ndlich': 2881, 'konnte': 1340, 'service': 3927, 'person': 3513, 'erkl': 409, 'rte': 3825, 'geschmacklichen': 666, 'pr': 3579, 'zise': 4839, 'wohltuende': 4708, 're': 3790, 'deren': 319, 'lagen': 1546, 'preise': 3677, 'llig': 1972, 'realistisch': 3791, 'ostwestfalen': 3351, 'lippe': 1961, 'kannten caf': 989, 'kogi touris': 1259, 'ln gingen': 2013, 'mal hinein': 2246, 'platzsuche wurde': 3550, 'wurde sofort': 4761, 'leider immer': 1797, 'ndlich gast': 2884, 'konnte half': 1341, 'person erkl': 3514, 'erkl rte': 410, 'pr zise': 3580, 'zise sicher': 4840, 'wohltuende atmosph': 4709, 'konnte sogar': 1345, 'leute sehen': 1844, 'lagen gespr': 1547, 'preise sicht': 3679, 'llig realistisch': 1977, 'passend nochmal': 3451, 'nochmal ln': 3151, 'ln gerne': 2011, 'kommen liebe': 1296, 'liebe gr': 1871, 'ostwestfalen lippe': 3352, 'kannten caf kogi': 990, 'kogi touris ln': 1260, 'ln gingen spontan': 2014, 'mal hinein empfang': 2247, 'platzsuche wurde sofort': 3551, 'wurde sofort geholfen': 4762, 'leider immer selbverst': 1798, 'ndlich gast wahrgenommen': 2885, 'konnte half charmante': 1342, 'person erkl rte': 3515, 'pr zise sicher': 3581, 'zise sicher kaffee': 4841, 'wohltuende atmosph re': 4710, 'konnte sogar leute': 1346, 'leute sehen deren': 1845, 'lagen gespr ch': 1548, 'preise sicht llig': 3680, 'llig realistisch passend': 1978, 'passend nochmal ln': 3452, 'nochmal ln gerne': 3152, 'ln gerne kommen': 2012, 'kommen liebe gr': 1297, 'liebe gr ostwestfalen': 1872, 'nen': 2922, 'klee': 1175, 'loben': 2017, 'label': 1533, 'nen klee': 2925, 'klee loben': 1176, 'loben schmeckt': 2018, 'label her': 1534, 'nen klee loben': 2926, 'klee loben schmeckt': 1177, 'loben schmeckt sowohl': 2019, 'label her bewerten': 1535, 'breite': 238, 'getestet': 677, 'sticks': 4104, 'niemals': 3062, 'treu': 4194, 'kaffee mount': 883, 'breite sortiment': 239, 'getestet wirklich': 678, 'wirklich sorte': 4659, 'arabica kaffee': 68, 'kaffee besonders': 844, 'super geschmack': 4132, 'instant arabica': 815, 'arabica cafe': 67, 'sticks niemals': 4109, 'niemals guten': 3063, 'getrunken fairtrade': 681, 'fairtrade bio': 463, 'mehr fairen': 2371, 'preis absolut': 3588, 'marke treu': 2321, 'kaffee mount hagen': 884, 'mount hagen gut': 2743, 'wirklich sorte gut': 4660, 'instant arabica cafe': 816, 'sticks niemals guten': 4110, 'niemals guten instant': 3064, 'getrunken fairtrade bio': 682, 'mehr fairen preis': 2372, 'preis absolut begeistert': 3589, 'runden': 3828, 'ftigen': 541, 'leiste': 1807, 'schwer': 3913, 'gesch': 644, 'online': 3297, 'kostbar': 1434, 'mischung stung': 2611, 'kr ftigen': 1464, 'leiste preis': 1808, 'preis kaffee': 3628, 'online schlimm': 3302, 'sterne kostbar': 4052, 'kostbar kaffeeschokoladen': 1435, 'wunderbarer kaffee qualit': 4738, 'mischung stung kaffee': 2612, 'kr ftigen genuss': 1466, 'leiste preis kaffee': 1809, 'preis kaffee immer': 3629, 'online schlimm qualit': 3303, 'sterne kostbar kaffeeschokoladen': 4053, 'kostbar kaffeeschokoladen absolute': 1436, 'liebsten': 1916, 'projekte': 3777, 'kaffeebauern': 912, 'nachhaltig': 2792, 'lebensbedingungen': 1643, 'jahren kaufe': 833, 'kaufe liebsten': 1031, 'liebsten kaffee': 1919, 'geschmack gut': 654, 'lohn kaffeebauern': 2026, 'nachhaltig lebensbedingungen': 2793, 'lebensbedingungen besser': 1644, 'kaum tag': 1090, 'seit jahren kaufe': 3920, 'kaufe liebsten kaffee': 1032, 'liebsten kaffee espresso': 1920, 'lohn kaffeebauern verbessern': 2027, 'nachhaltig lebensbedingungen besser': 2794, 'lebensbedingungen besser kaum': 1645, 'kaum tag gestartet': 1091, 'geld': 588, 'bekommt': 133, 'direkt': 330, 'edeka': 354, 'weitem': 4408, 'wunderbarer kaffeegenuss': 4741, 'duft beim': 343, 'beim mahlen': 122, 'mahlen bohnen': 2202, 'lust kaffee': 2093, 'perfekt edeka': 3478, 'weitem bertroffen': 4409, 'wunderbarer kaffeegenuss faires': 4742, 'mahlen bohnen super': 2203, 'lust kaffee fair': 2094, 'macht ganze perfekt': 2123, 'perfekt edeka eigenmarke': 3479, 'vergleich': 4263, 'esperanza': 419, 'mix': 2652, 'aluminium': 41, 'konsument': 1356, 'plastikverpackung': 3546, 'geringere': 632, 'bel': 134, 'bio caf': 188, 'caf esperanza': 245, 'weniger geschmack': 4495, 'preis allerdings': 3592, 'mix bedrucktem': 2653, 'papier aluminium': 3410, 'konsument bioprodukten': 1357, 'papier kaffee': 3412, 'plastikverpackung geringere': 3547, 'geringere bel': 633, 'bio caf esperanza': 189, 'weniger geschmack preis': 4496, 'preis allerdings gut': 3593, 'mix bedrucktem papier': 2654, 'papier aluminium konsument': 3411, 'konsument bioprodukten finde': 1358, 'papier kaffee aluminium': 3413, 'plastikverpackung geringere bel': 3548, 'sogar richtig': 3943, 'richtig gut': 3809, 'schneller': 3888, 'fazit': 476, 'punktzahl': 3781, 'schneller versand': 3889, 'gute qualit': 730, 'gutes preis': 744, 'ltnis fazit': 2060, 'volle punktzahl': 4335, 'gutes preis leistungsverh': 745, 'leistungsverh ltnis fazit': 1823, 'ltnis fazit volle': 2061, 'te': 4161, 'kaffeegenie': 914, 'aromen': 83, 'nase': 2829, 'tat': 4154, 'bezahlt': 182, 'sozial': 3955, 'tolles': 4183, 'macht lust': 2139, 'lust mehr': 2098, 'mehr schon': 2407, 'schon beim': 3894, 'nase einzelnen': 2830, 'morgen gef': 2713, 'macht lust mehr': 2140, 'lust mehr schon': 2099, 'mehr schon beim': 2408, 'schon beim ffnen': 3895, 'kr ftigen aromen': 1465, 'nase einzelnen sorten': 2831, 'morgen gef hl': 2714, 'mounten': 2756, 'leicht': 1761, 'zubereiten': 4845, 'chai': 258, 'fall': 468, 'mounten hagen': 2757, 'hagen einfach': 747, 'einfach klasse': 367, 'klasse schmeckt': 1163, 'leicht zubereiten': 1764, 'zubereiten 100': 4846, '100 fairtrade': 10, 'wurde sogar': 4763, 'liebsten chai': 1917, 'chai latte': 259, 'latte gefallen': 1613, 'mounten hagen einfach': 2758, 'hagen einfach klasse': 748, 'klasse schmeckt gut': 1164, 'leicht zubereiten 100': 1765, 'zubereiten 100 fairtrade': 4847, 'wurde sogar hand': 4764, 'liebsten chai latte': 1918, 'latte gefallen fall': 1614, 'liebe kaffee': 1873, 'llt oft': 1998, 'oft trinken': 3275, 'kommt organico': 1316, 'organico gleich': 3332, 'liebe kaffee rundes': 1874, 'llt oft trinken': 1999, 'oft trinken bio': 3276, 'kommt organico gleich': 1317, 'wertsch': 4540, 'herstellung': 779, 'land': 1552, 'erfolgt': 405, 'lieferung': 1931, 'kundenservice': 1512, 'finde kaffee': 500, 'wertsch tzend': 4543, 'land erfolgt': 1553, 'neue kaffee': 2953, 'lecker lieferung': 1686, 'lieferung erfolgt': 1934, 'erfolgt schnell': 406, 'kundenservice freundlich': 1513, 'wertsch tzend herstellung': 4544, 'land erfolgt neue': 1554, 'neue kaffee angelique': 2954, 'lecker lieferung erfolgt': 1687, 'lieferung erfolgt schnell': 1935, 'kundenservice freundlich immer': 1514, 'konventionellem': 1381, 'nstigem': 3210, 'firmen': 512, 'liegen': 1938, 'welten': 4446, 'marken': 2324, 'konventionellem kaffee': 1382, 'egal sorte': 356, 'monaten nstigem': 2698, 'nstigem bio': 3211, 'kam paar': 983, 'wochen endlich': 4686, 'mal gepa': 2242, 'liegen einfach': 1939, 'welten marken': 4447, 'marken schmeckt': 2325, 'aroma einfach': 73, 'weniger bekommt': 4493, 'konventionellem kaffee bio': 1383, 'paar monaten nstigem': 3360, 'monaten nstigem bio': 2699, 'nstigem bio kaffee': 3212, 'kam paar wochen': 984, 'paar wochen endlich': 3366, 'wochen endlich mal': 4687, 'mal gepa kaffee': 2243, 'gepa kaffee gekauft': 621, 'liegen einfach welten': 1940, 'welten marken schmeckt': 4448, 'marken schmeckt abstand': 2326, 'weniger bekommt bestens': 4494, 'neuer': 2964, 'nachkaufprodukte': 2806, 'hagen kaffee': 749, 'wirklich vollmundigen': 4665, 'leckeren geschmack': 1717, 'neuguinea kaffee': 2981, 'neuer lieblingskaffee': 2965, 'lieblingskaffee trifft': 1907, 'finde mount': 501, 'steht kaffee': 4020, 'wirklich weiterempfehlen': 4667, 'weiterempfehlen definitiv': 4414, 'mount hagen kaffee': 2745, 'wirklich vollmundigen leckeren': 4666, 'leckeren geschmack trinke': 1718, 'papua neuguinea kaffee': 3429, 'neuguinea kaffee beim': 2983, 'neuer lieblingskaffee trifft': 2966, 'lieblingskaffee trifft genau': 1908, 'finde mount hagen': 502, 'mount hagen toll': 2751, 'steht kaffee wirklich': 4021, 'wirklich weiterempfehlen definitiv': 4668, 'weiterempfehlen definitiv nachkaufprodukte': 4415, 'bohnenkaffee': 234, 'arbeit': 69, 'wegen': 4376, 'kapselmaschine': 994, 'studium': 4128, 'here': 769, 'fairem': 452, 'kolumbien': 1287, 'milderen': 2592, 'kauft': 1077, 'kennen': 1103, 'wegen kapselmaschine': 4379, 'kapselmaschine kaffee': 995, 'here preis': 770, 'preis verglichen': 3672, 'mmlichen kaffees': 2676, 'wert gepa': 4530, 'kaufen gutem': 1054, 'fairem handel': 453, 'deutlich besser': 324, 'besser schmeckt': 163, 'liebsten trinke': 1923, 'kolumbien pur': 1288, 'milderen sorten': 2593, 'zufrieden partner': 4917, 'partner kauft': 3436, 'kauft seit': 1078, 'kennen gepa': 1104, 'gepa kaffees': 623, 'wegen kapselmaschine kaffee': 4380, 'kapselmaschine kaffee granulat': 996, 'preis verglichen herk': 3673, 'mmlichen kaffees immer': 2677, 'wert gepa kaufen': 4531, 'kaufen gutem gewissen': 1055, 'liebsten trinke st': 1924, 'kolumbien pur milderen': 1289, 'milderen sorten schon': 2594, 'zufrieden partner kauft': 4918, 'partner kauft seit': 3437, 'kauft seit kennen': 1079, 'kennen gepa kaffees': 1105, 'kundenbetreuung sterne': 1508, 'nehme': 2908, 'kaffeem': 917, 'insgesamt': 813, 'total': 4186, 'liebe espresso': 1867, 'lecker guten': 1676, 'guten gewissen': 734, 'nehme vorgemahlenen': 2912, 'kaffeem hle': 918, 'gepa einfach': 615, 'liebe espresso gepa': 1868, 'lecker guten gewissen': 1677, 'nehme vorgemahlenen kaffeem': 2913, 'na': 2778, 'klar': 1145, 'gewissens': 686, 'konsumiert': 1369, 'bedingungen': 111, 'hergestellt': 775, 'kleine': 1193, 'kooperativen': 1420, 'landwirtschaftliche': 1569, 'ursprungsl': 4245, 'ndern': 2864, 'mindeststandards': 2595, 'ebenso': 350, 'wichtige': 4586, 'knapp': 1220, 'konsumenten': 1359, 'tats': 4155, 'produzenten': 3774, 'ware': 4356, 'menschenw': 2483, 'gemahlene': 599, 'verwendung': 4316, 'na klar': 2779, 'klar gepa': 1147, 'guten gewissens': 735, 'konsumiert fairen': 1370, 'wurde fair': 4753, 'kleine kooperativen': 1194, 'kooperativen landwirtschaftliche': 1421, 'landwirtschaftliche unternehmen': 1570, 'ursprungsl ndern': 4246, 'ndern kaffees': 2869, 'lohn mindeststandards': 2028, 'mindeststandards unterschreitet': 2596, 'wichtige rolle': 4587, 'kurz knapp': 1519, 'knapp mehr': 1223, 'mehr geld': 2373, 'konsumenten bezahlten': 1360, 'preis geht': 3622, 'zudem menschenw': 4882, 'menschenw rdigen': 2484, 'nnen au': 3117, 'packung gut': 3374, 'na klar gepa': 2780, 'klar gepa bietet': 1148, 'konsumiert fairen bedingungen': 1371, 'wurde fair hei': 4754, 'kleine kooperativen landwirtschaftliche': 1195, 'kooperativen landwirtschaftliche unternehmen': 1422, 'landwirtschaftliche unternehmen ursprungsl': 1571, 'ndern kaffees gef': 2870, 'lohn mindeststandards unterschreitet': 2029, 'mindeststandards unterschreitet ufig': 2597, 'wichtige rolle spielt': 4588, 'kurz knapp mehr': 1520, 'knapp mehr geld': 1224, 'mehr geld konsumenten': 2374, 'konsumenten bezahlten preis': 1361, 'preis geht tats': 3623, 'zudem menschenw rdigen': 4883, 'menschenw rdigen bedingungen': 2485, 'nnen au erdem': 3118, 'packung gut erkennen': 3375, 'ngerem': 3017, 'weitere': 4410, 'kaffee darboven': 851, 'preis kr': 3636, 'caf intenci': 246, 'intenci schon': 820, 'seit ngerem': 3921, 'ngerem schon': 3018, 'weitere freunde': 4411, 'ltnis berzeugen': 2054, 'berzeugen nnen': 147, 'preis kr ftig': 3637, 'kr ftig aromatischer': 1449, 'caf intenci schon': 247, 'intenci schon seit': 821, 'schon seit ngerem': 3902, 'ngerem schon weitere': 3019, 'weitere freunde guten': 4412, 'leistungsverh ltnis berzeugen': 1821, 'ltnis berzeugen nnen': 2055, 'sinn': 3936, 'amp': 42, 'mehrwert': 2431, 'produkt sinn': 3765, 'sinn amp': 3937, 'amp mehrwert': 43, 'mehrwert sterne': 2432, 'produkt sinn amp': 3766, 'sinn amp mehrwert': 3938, 'amp mehrwert sterne': 44, 'hnlich': 791, 'davon': 309, 'gemahlener': 601, 'bereits': 143, 'marke schmeckt': 2319, 'st ck': 3972, 'marke schmeckt entcoffeinierte': 2320, 'mazkaffee': 2359, 'gt': 714, 'rzig': 3830, 'wasser': 4357, 'mazkaffee alnatura': 2360, 'wasser aufgel': 4358, 'mmlich mag': 2665, 'mag milch': 2167, 'milch abrunden': 2501, 'mazkaffee alnatura gute': 2361, 'wasser aufgel st': 4359, 'mmlich mag milch': 2666, 'mag milch abrunden': 2168, 'geschmackserlebnis': 667, 'kaffeliebhaber': 962, 'probieren': 3756, 'zz': 4999, 'kologischer': 1280, 'anbau': 45, 'kaffeliebhaber kaffee': 963, 'neuguinea arabica': 2975, 'vergleichen kaffees': 4280, 'kologischer anbau': 1281, 'mount hagen einfach': 2739, 'kaffeliebhaber kaffee probieren': 964, 'papua neuguinea arabica': 3426, 'neuguinea arabica kaffee': 2976, 'vergleichen kaffees 100': 4281, 'kologischer anbau 100': 1282, 'halten': 751, 'rund': 3826, 'nebenstudiums': 2902, 'kaffeemarken': 919, 'durchprobiert': 346, 'konventionell': 1375, 'nummer': 3231, 'nlich insbesondere': 3085, 'rund geschmack': 3827, 'nebenstudiums barista': 2903, 'konventionell fair': 1376, 'meinung gro': 2441, 'nummer empfehlen': 3232, 'pers nlich insbesondere': 3499, 'nlich insbesondere geschmack': 3086, 'nebenstudiums barista ja': 2904, 'konventionell fair bio': 1377, 'meinung gro nummer': 2442, 'nummer empfehlen qualit': 3233, 'preis absolut ordnung': 3590, 'fair gehandelt': 441, 'geschmack einfach': 652, 'utopia': 4249, '1kg': 14, 'testpaket': 4170, 'positive': 3571, 'schnelle': 3887, 'offensichtlich': 3254, 'positive berraschung': 3572, 'lieferung guter': 1936, 'offensichtlich mehr': 3255, 'mehr gewinn': 2379, 'positive berraschung erwiesen': 3573, 'lieferung guter geschmack': 1937, 'offensichtlich mehr gewinn': 3256, 'mehr gewinn erzeuger': 2380, 'kehre': 1092, 'normalen': 3157, 'kaffeemaschine': 920, 'mokkageschmack': 2689, 'kehre seit': 1093, 'besten schmeckt': 175, 'liebsten normalen': 1921, 'normalen kaffeemaschine': 3160, 'stark ger': 3986, 'stet sch': 4088, 'sch nen': 3841, 'nen mokkageschmack': 2927, 'kehre seit jahren': 1094, 'mag kaffee liebsten': 2165, 'liebsten normalen kaffeemaschine': 1922, 'normalen kaffeemaschine gekocht': 3162, 'stark ger stet': 3987, 'stet sch nen': 4089, 'wermutstropfen': 4522, 'manchmal': 2288, 'cafe crema': 251, 'zufrieden geschmack': 4908, 'wermutstropfen preis': 4523, 'preis schon': 3662, 'manchmal schwer': 2291, 'macht treu': 2147, 'zwei jahren verwenden': 4976, 'zufrieden geschmack gleichbleibender': 4909, 'wermutstropfen preis schon': 4524, 'preis schon manchmal': 3663, 'manchmal schwer macht': 2292, 'macht treu bleiben': 2148, 'lecker geschmack': 1673, 'lecker geschmack kr': 1675, 'kr ftig intensiv': 1457, 'dar': 294, 'nachdenkt': 2786, 'selbstverst': 3925, 'besonderes': 159, 'nict': 3041, 'automaten': 105, 'halbwegs': 750, 'schmeckt kaffee': 3878, 'mehr dar': 2367, 'dar ber': 295, 'nachdenkt sozusagen': 2787, 'ndlich bleibende': 2882, 'kommt bitteren': 1305, 'nict automaten': 3042, 'preislich fair': 3699, 'ordnung spezifische': 3322, 'mehr dar ber': 2368, 'nachdenkt sozusagen selbstverst': 2788, 'ndlich bleibende geschmackliche': 2883, 'kr ftiger st': 1469, 'kommt bitteren bereich': 1306, 'nict automaten verwendet': 3043, 'preislich fair trade': 3700, 'ordnung spezifische herkunftsdeklaration': 3323, 'zeichnet': 4794, 'intensiven': 824, 'perfekten': 3489, 'start': 3997, 'ltnisses': 2082, 'handels': 757, 'zeichnet finde': 4795, 'perfekten start': 3490, 'start tag': 3998, 'nf sterne': 2994, 'sterne verdient': 4072, 'verh ltnisses': 4290, 'ltnisses fairen': 2083, 'mount hagen espresso': 2741, 'zeichnet finde intensiven': 4796, 'perfekten start tag': 3491, 'start tag nf': 3999, 'nf sterne verdient': 2997, 'sterne verdient daneben': 4073, 'leistungs verh ltnisses': 1818, 'verh ltnisses fairen': 4291, 'ltnisses fairen handels': 2084, 'duftet': 344, 'kleinen': 1198, 'koffein': 1238, 'wunderbarer kaffeeersatz': 4739, 'lich kleinen': 1859, 'kleinen anteil': 1199, 'koffein gleich': 1245, 'sterne abstriche': 4037, 'wunderbarer kaffeeersatz gut': 4740, 'lich kleinen anteil': 1860, 'kleinen anteil koffein': 1200, 'koffein gleich ganz': 1246, 'normaler': 3165, 'kostet': 1440, 'denke': 317, 'ko': 1225, 'obwohl': 3246, 'wichtiger': 4589, 'ste': 4009, 'olle': 3288, 'kaufe kaffee': 1028, 'mehr normaler': 2395, 'normaler kaffee': 3166, 'kostet wert': 1441, 'wert denke': 4528, 'welt finde': 4434, 'ko obwohl': 1228, 'obwohl sagen': 3249, 'wichtiger wahrscheinlich': 4592, 'ste nie': 4010, 'nie beschwert': 3047, 'olle alte': 3289, 'kaufe kaffee bestimmt': 1029, 'mehr normaler kaffee': 2396, 'normaler kaffee kostet': 3167, 'kostet wert denke': 1442, 'wert denke beitragen': 4529, 'welt finde gut': 4435, 'ko obwohl sagen': 1229, 'obwohl sagen wichtiger': 3250, 'wichtiger wahrscheinlich schwer': 4593, 'ste nie beschwert': 4011, 'nie beschwert olle': 3048, 'olle alte filterkaffeemaschine': 3290, 'schmeckt wirklich': 3882, 'wirklich lecker': 4637, 'lecker macht': 1688, 'macht gutes': 2129, 'wirklich lecker macht': 4638, 'lecker macht gutes': 1689, 'macht gutes gewissen': 2130, 'zahlen': 4787, 'preis daf zahlen': 3611, 'kaffee weltladen': 907, 'hilft': 784, 'prima': 3717, 'kennzeichnen': 1108, 'luftig': 2085, 'verpackt': 4296, 'nnte': 3140, 'wirklich richtig': 4647, 'leckerer kaffe': 1731, 'prima ausgemahlten': 3718, 'kennzeichnen stark': 1109, 'stark kaffee': 3992, 'luftig verpackt': 2086, 'nnte sparen': 3147, 'preis gerechtfertigt': 3624, 'wirklich schluck': 4656, 'en tasse': 384, 'wirklich lust': 4641, 'wirklich richtig leckerer': 4648, 'leckerer kaffe auswahl': 1732, 'prima ausgemahlten kaffebohnen': 3719, 'kennzeichnen stark kaffee': 1110, 'stark kaffee allerdings': 3993, 'luftig verpackt nnte': 2087, 'nnte sparen ansonsten': 3148, 'preis gerechtfertigt sst': 3625, 'wirklich schluck genie': 4657, 'wirklich lust kaffee': 4642, 'lust kaffee sogenannter': 2095, 'unteren': 4233, 'uneingeschr': 4228, 'nkte': 3076, 'bohnen vollautomaten': 230, 'zufrieden preis': 4919, 'preis liegt': 3650, 'liegt bio': 1944, 'uneingeschr nkte': 4229, 'nkte kaufempfehlung': 3078, 'kaufempfehlung aussprechen': 1042, 'kr ftig benutze': 1450, 'zufrieden preis liegt': 4920, 'preis liegt bio': 3651, 'liegt bio kaffee': 1945, 'nkte kaufempfehlung aussprechen': 3079, 'klar guter': 1151, 'milch st': 2508, 'klar guter fairer': 1152, 'milch st rker': 2510, 'handfilter': 759, 'erste': 414, 'wer kr': 4510, 'kr ftigem': 1462, 'mag genau': 2159, 'erste wahl': 415, 'wer kr ftigem': 4511, 'kr ftigem kaffee': 1463, 'mag genau richtig': 2160, 'material': 2349, 'generell': 607, 'zus': 4955, 'kunststoffverpackung': 1515, 'nnte sofern': 3145, 'material gespart': 2350, 'material verpackung': 2352, 'plastik aluminiumverpackungen': 3540, 'zus tzliche': 4958, 'kunststoffverpackung besitzen': 1516, 'nnte sofern technisch': 3146, 'material gespart kaffee': 2351, 'luftig verpackt rde': 2088, 'material verpackung kaffee': 2353, 'plastik aluminiumverpackungen regel': 3541, 'zus tzliche kunststoffverpackung': 4959, 'kunststoffverpackung besitzen finde': 1517, 'nger': 3012, 'nger immer': 3015, 'neues macht': 2968, 'macht dabei': 2119, 'nger immer begeistert': 3016, 'neues macht dabei': 2969, 'sorgfalt': 3946, 'behandelt': 115, 'riecht schmeckt': 3812, 'nden': 2856, 'rken': 3813, 'chlich': 260, 'hinweis': 786, 'bisher': 206, 'nden ausschlie': 2857, 'lich kaffee': 1855, 'st rken': 3973, 'tats chlich': 4156, 'bisher sorte': 208, 'wer gerne': 4504, 'nden ausschlie lich': 2858, 'lich kaffee gepa': 1856, 'wer gerne kaffee': 4505, 'wenigen': 4485, 'morgens': 2719, 'verbrannt': 4254, 'mittelklasse': 2632, 'vergleichbarer': 4273, 'wenigen dinge': 4486, 'morgens aufstehen': 2720, 'nnen mount': 3125, 'ganze bohne': 554, 'berzeugt aroma': 150, 'mag preislich': 2169, 'liegt unteren': 1948, 'mittelklasse vergleichbarer': 2633, 'vergleichbarer kaffees': 4274, 'wenigen dinge morgens': 4487, 'morgens aufstehen bewegen': 2721, 'nnen mount hagen': 3126, 'mount hagen arabica': 2735, 'wenig ure mag': 4480, 'mag preislich liegt': 2170, 'preislich liegt unteren': 3703, 'liegt unteren mittelklasse': 1949, 'mittelklasse vergleichbarer kaffees': 2634, 'vergleichbarer kaffees st': 4275, 'weist': 4400, 'weist gepa': 4401, 'super kaffee': 4133, 'lieblingssorte geworden': 1913, 'geldbeutel': 592, 'wiener': 4600, 'verf': 4260, 'male': 2282, 'eingekauft': 374, 'paar jahren': 3356, 'wiener verf': 4601, 'male eingekauft': 2283, 'paar jahren geldbeutel': 3357, 'wiener verf hrung': 4602, 'male eingekauft geschmack': 2284, 'mittellosen': 2638, 'morgekaffe': 2703, 'leider beste': 1781, 'preis jedoch': 3626, 'mittellosen studenten': 2639, 'morgekaffe eben': 2704, 'normalen supermarkt': 3163, 'nehme eben': 2911, 'leider beste bisher': 1782, 'lecker geschmack gelegentlich': 1674, 'stern abzug preis': 4031, 'preis jedoch absolut': 3627, 'mittellosen studenten erschwinglich': 2640, 'morgekaffe eben normalen': 2705, 'normalen supermarkt bekommen': 3164, 'lohnt': 2030, 'kaffeeduft': 913, 'mt': 2761, 'mal ausprobieren': 2225, 'lohnt kaffeeduft': 2031, 'mt kaffeehaus': 2764, 'mal ausprobieren lohnt': 2226, 'lohnt kaffeeduft durchs': 2032, 'kologisch': 1267, 'zahle': 4781, 'relativ': 3802, 'fair kologisch': 446, 'kologisch hergestellt': 1272, 'wichtiger geschmack': 4590, 'lecker schmeckt': 1700, 'zahle gerne': 4784, 'preis lieblingskaffee': 3648, 'lieblingskaffee limu': 1901, 'limu einzige': 1954, 'milch tasse': 2511, 'kologisch hergestellt wichtiger': 1273, 'wichtiger geschmack lecker': 4591, 'lecker schmeckt zahle': 1701, 'zahle gerne relativ': 4785, 'preis lieblingskaffee limu': 3649, 'lieblingskaffee limu einzige': 1902, 'limu einzige milch': 1955, 'milch tasse kommt': 2512, 'landbau': 1557, 'prinzipiell': 3723, 'kooperation': 1411, 'gelingen': 594, 'dr': 338, 'cken': 264, 'superm': 4140, 'naturland gibt': 2850, 'ko landbau': 1226, 'landbau st': 1558, 'prinzipiell erst': 3724, 'erst mal': 413, 'mal schlecht': 2262, 'kooperation gelingen': 1412, 'oft billiger': 3261, 'nstig verkaufen': 3208, 'nnen dr': 3119, 'dr cken': 339, 'preise erzeugern': 3678, 'naturland gibt internetseite': 2851, 'ko landbau st': 1227, 'landbau st rken': 1559, 'prinzipiell erst mal': 3725, 'mal schlecht rewe': 2263, 'kooperation gelingen bio': 1413, 'oft billiger ware': 3262, 'nstig verkaufen nnen': 3209, 'nnen dr cken': 3120, 'liebhaber': 1885, 'praktisch': 3582, 'liebhaber dank': 1886, 'mischung einzig': 2605, 'kaffee geschmacklich': 863, 'stet steiermark': 4092, 'online bestellt': 3298, 'praktisch probieren': 3585, 'liebhaber dank mischung': 1887, 'mischung einzig wahre': 2606, 'stet steiermark online': 4093, 'online bestellt super': 3299, 'praktisch probieren verlieben': 3586, 'oben': 3240, 'nachdem': 2781, 'pl': 3528, 'tzlich': 4218, 'irgendwann': 826, 'mundete': 2769, 'koffein espresso': 1243, 'oben gepa': 3241, 'nachdem gepa': 2782, 'gepa espresso': 616, 'pl tzlich': 3529, 'mehr mundete': 2393, 'mundete ahnung': 2770, 'nnte ja': 3141, 'mal probieren': 2257, 'koffein espresso allerfeinsten': 1244, 'oben gepa beschrieben': 3242, 'nachdem gepa espresso': 2783, 'pl tzlich resp': 3530, 'mehr mundete ahnung': 2394, 'mundete ahnung warum': 2771, 'nnte ja mal': 3142, 'cc': 256, 'motiviert': 2727, 'gelingt': 595, 'monokultur': 2700, 'plantagenkaffee': 3536, 'kinderhand': 1137, 'leckere': 1713, 'preisen': 3685, 'kg': 1114, 'soziale': 3956, 'ort': 3347, 'zertifizierung': 4822, 'schl': 3854, 'system': 4145, 'zeigt': 4797, 'zubereite': 4842, 'setzen': 3928, 'motiviert kooperativen': 2728, 'kooperativen wirklich': 1423, 'wirklich besten': 4609, 'monokultur plantagenkaffee': 2701, 'plantagenkaffee kinderhand': 3537, 'kinderhand leckere': 1138, 'leckere spitzenprodukte': 1714, 'nat rlichem': 2845, 'preisen setzt': 3686, 'preis verlangen': 3674, 'nnen zudem': 3135, 'zudem flie': 4880, 'pro kg': 3735, 'kg soziale': 1115, 'soziale projekte': 3957, 'ort zertifizierung': 3349, 'zertifizierung bau': 4823, 'kaffee bietet': 846, 'morgens schwung': 2725, 'zudem zeigt': 4894, 'zeigt perfekt': 4798, 'perfekt zubereite': 3484, 'zubereite gibt': 4843, 'motiviert kooperativen wirklich': 2729, 'kooperativen wirklich besten': 1424, 'wirklich besten kaffees': 4610, 'monokultur plantagenkaffee kinderhand': 2702, 'plantagenkaffee kinderhand leckere': 3538, 'kinderhand leckere spitzenprodukte': 1139, 'leckere spitzenprodukte nat': 1715, 'nat rlichem waldanbau': 2846, 'preisen setzt biozertifizierung': 3687, 'preis verlangen nnen': 3675, 'nnen zudem flie': 3136, 'zudem flie pro': 4881, 'pro kg soziale': 3736, 'kg soziale projekte': 1116, 'ort zertifizierung bau': 3350, 'zertifizierung bau schulen': 4824, 'morgens schwung bringt': 2726, 'zudem zeigt perfekt': 4895, 'zeigt perfekt zubereite': 4799, 'perfekt zubereite gibt': 3485, 'zubereite gibt volle': 4844, 'unterschied': 4235, 'discounter': 331, 'vorz': 4353, 'vorz glich': 4354, 'dabei bek': 282, 'mmlich instant': 2663, 'obwohl instant': 3247, 'mag kaffee schmeckt': 2166, 'dabei bek mmlich': 283, 'mmlich instant kaffee': 2664, 'obwohl instant kaffees': 3248, 'teil': 4162, 'cappuccino': 254, 'durchweg': 347, 'kundenr': 1509, 'neuguinea daher': 2977, 'kennen gro': 1106, 'cappuccino espresso': 255, 'nnen sowohl': 3127, 'positive kundenr': 3574, 'kundenr ckmeldungen': 1510, 'nliche erfahrungen': 3100, 'mount hagen stammt': 2750, 'papua neuguinea daher': 3427, 'neuguinea daher tr': 2978, 'kennen gro teil': 1107, 'nnen sowohl ber': 3128, 'positive kundenr ckmeldungen': 3575, 'kundenr ckmeldungen pers': 1511, 'pers nliche erfahrungen': 3507, 'nliche erfahrungen berichten': 3101, 'kaffeevollautomaten geeignet': 952, 'landkaffee': 1563, 'umgestellt': 4223, 'schmeckte': 3883, 'schickte': 3853, 'dose': 334, 'herr': 778, 'geschehen': 645, 'nglichen': 3025, 'gbar': 559, 'dosen': 335, 'schokolade': 3891, 'trinke seit': 4202, 'landkaffee zeit': 1564, 'zeit wurde': 4809, 'wurde produktion': 4757, 'mehr gut': 2383, 'firma mount': 510, 'nglichen qualit': 3026, 'verf gbar': 4261, 'mehr gro': 2381, 'mount hagen landkaffee': 2746, 'landkaffee zeit wurde': 1565, 'zeit wurde produktion': 4810, 'wurde produktion umgestellt': 4758, 'mehr gut sbar': 2384, 'firma mount hagen': 511, 'mount hagen reklamation': 2748, 'mount hagen erkl': 2740, 'nglichen qualit verf': 3027, 'mehr gro gig': 2382, 'nstigen': 3213, 'caff': 252, 'perfekte': 3486, 'kaffeevollautomaten suche': 955, 'nstigen kaffeesorten': 3214, 'caff crema': 253, 'crema sch': 277, 'nen duft': 2923, 'mt beim': 2762, 'perfekte crema': 3487, 'llt gut': 1992, 'merkt 100': 2487, '100 arabica': 7, 'gutes aroma': 741, 'nstigen preis': 3216, 'preis bio': 3600, 'bio qualit': 199, 'kaffeevollautomaten suche guten': 956, 'nstigen kaffeesorten edeka': 3215, 'nen duft schon': 2924, 'mt beim espresso': 2763, 'perfekte crema cappuccino': 3488, 'llt gut merkt': 1993, 'merkt 100 arabica': 2488, 'nstigen preis bio': 3217, 'preis bio qualit': 3601, 'verschiedene': 4306, 'richtigen': 3810, 'verschiedene sorten': 4307, 'wirklich dabei': 4611, 'wurden finde': 4774, 'wirklich gerechtfertigt': 4626, 'wirklich dabei kaffees': 4612, 'wurden finde preis': 4775, 'bezahlung': 183, 'langzeitvertr': 1602, 'ge': 560, 'eigenen': 359, 'mitarbeitern': 2616, 'mlich': 2655, 'ltnis beste': 2056, 'marke fair': 2308, 'gepa seit': 625, 'wenigen firmen': 4488, 'langzeitvertr ge': 1603, 'mitarbeitern deutschlad': 2617, 'mlich leider': 2656, 'leider oft': 1799, 'oft vergessen': 3277, 'ltnis beste marke': 2057, 'marke fair trade': 2309, 'wenigen firmen lt': 4489, 'lt verspricht faire': 2045, 'langzeitvertr ge bildungspartnerschaften': 1604, 'mitarbeitern deutschlad mlich': 2618, 'mlich leider oft': 2657, 'leider oft vergessen': 1800, 'milchschaum': 2530, 'href': 793, 'https': 803, 'produkttestblog': 3771, 'evi': 431, 'blogspot': 220, '2012': 15, '06': 3, 'green': 705, 'cup': 278, 'html': 799, 'target': 4148, 'blank': 214, 'rel': 3799, 'nofollow': 3153, 'http': 802, 'milchschaum bericht': 2531, 'href https': 794, 'produkttestblog evi': 3772, 'evi blogspot': 432, 'blogspot de': 223, 'de 2012': 311, '2012 06': 16, '06 green': 4, 'green cup': 706, 'cup coffee': 279, 'coffee 100': 267, '100 fair': 8, 'gehandelter html': 580, 'html target': 800, 'target blank': 4149, 'blank rel': 215, 'rel nofollow': 3800, 'nofollow http': 3154, 'milchschaum bericht blog': 2532, 'produkttestblog evi blogspot': 3773, 'evi blogspot de': 433, 'blogspot de 2012': 224, 'de 2012 06': 312, '2012 06 green': 17, '06 green cup': 5, 'green cup coffee': 707, 'cup coffee 100': 280, 'coffee 100 fair': 268, '100 fair gehandelter': 9, 'fair gehandelter html': 445, 'html target blank': 801, 'target blank rel': 4150, 'blank rel nofollow': 216, 'rel nofollow http': 3801, 'nofollow http produkttestblog': 3156, 'organica': 3328, 'portionsgr': 3558, 'ganzes': 557, 'organica verwende': 3329, 'ngerem vollautomaten': 3020, 'weder alt': 4370, 'stark genau': 3984, 'zus tzlich': 4956, 'portionsgr gut': 3559, 'kilo ffnen': 1125, 'organica verwende schon': 3330, 'ngerem vollautomaten kaffee': 3021, 'weder alt stark': 4371, 'stark genau richtig': 3985, 'zus tzlich finde': 4957, 'portionsgr gut alleine': 3560, 'packungen': 3381, 'toller': 4182, 'probep': 3750, 'packungen bestellt': 3382, 'lecker unterschiedlich': 1707, 'geschmack toller': 661, 'kleinen probep': 1204, 'probep ckchen': 3751, 'packungen bestellt sorten': 3383, 'lecker unterschiedlich geschmack': 1708, 'kleinen probep ckchen': 1205, 'probep ckchen soziale': 3752, 'geschmackssache': 668, 'ecol': 352, 'gico': 694, 'langeoog': 1596, 'akzeptabel': 32, 'stiftung': 4111, 'wirklich geschmackssache': 4627, 'ecol gico': 353, 'mal urlaub': 2276, 'langeoog genossen': 1597, 'fairtrade kaffees': 465, 'kaffees besten': 923, 'preislich akzeptabel': 3697, 'wurde stiftung': 4765, 'stiftung warentest': 4112, 'deshalb sterne': 322, 'wirklich geschmackssache caf': 4628, 'mal urlaub langeoog': 2277, 'langeoog genossen schmeckt': 1598, 'vergleich preislich akzeptabel': 4264, 'preislich akzeptabel wurde': 3698, 'wurde stiftung warentest': 4766, 'wunderbares aroma': 4744, 'liebe kaffee wunderbares': 1875, 'laien': 1549, 'laien sagen': 1550, 'laien sagen espresso': 1551, 'pulver': 3779, 'mahlgrad': 2212, 'gehen': 581, 'erhalten': 408, 'markt': 2329, 'macht pulver': 2143, 'mahlgrad entsprechend': 2213, 'macht pulver feinem': 2144, 'mahlgrad entsprechend hohem': 2214, 'vergleichbar': 4267, 'konnte schon': 1343, 'vergleichbar standdart': 4268, 'marken supermarkt': 2327, 'konnte schon coffe': 1344, 'wirklich sagen spitzenkaffee': 4653, 'vergleichbar standdart marken': 4269, 'marken supermarkt vorallem': 2328, 'positiver': 3576, 'positiver urwaldenergie': 3577, 'positiver urwaldenergie empfehlenswert': 3578, 'lieben': 1882, 'legen': 1750, 'wellenl': 4429, 'nge': 3008, 'lieben kaffee': 1883, 'legen besonderen': 1751, 'wert milden': 4536, 'milden vollmundigen': 2581, 'tchibo barista': 4160, 'liegen wellenl': 1941, 'wellenl nge': 4430, 'nge deshalb': 3009, 'nie aroma': 3045, 'kommt genuss': 1309, 'lieben kaffee steht': 1884, 'legen besonderen wert': 1752, 'wert milden vollmundigen': 4537, 'milden vollmundigen kaffee': 2582, 'liegen wellenl nge': 1942, 'wellenl nge deshalb': 4431, 'nge deshalb fters': 3010, 'nie aroma crema': 3046, 'einzigen': 379, 'kriterien': 1484, 'nachgeschmack': 2789, 'luschig': 2089, 'scheint': 3852, 'namen': 2826, 'lassen': 1605, 'kriterien erf': 1487, 'llt volles': 2006, 'nachgeschmack luschig': 2790, 'luschig mild': 2090, 'mild feine': 2542, 'kleinen spritzer': 1206, 'wer nimmt': 4512, 'nimmt zucker': 3070, 'zucker preis': 4872, 'namen bezahlen': 2827, 'lassen immer': 1606, 'packung reserve': 3376, 'kriterien erf llt': 1488, 'llt volles aroma': 2007, 'nachgeschmack luschig mild': 2791, 'luschig mild feine': 2091, 'mild feine crema': 2543, 'kleinen spritzer agavendicksaft': 1207, 'wer nimmt zucker': 4513, 'nimmt zucker preis': 3071, 'zucker preis stimmt': 4873, 'preis stimmt edeka': 3667, 'namen bezahlen lassen': 2828, 'lassen immer packung': 1607, 'bestellung': 172, 'fehler': 477, 'shop': 3929, 'lieferadresse': 1928, 'daraufhin': 299, 'gl': 695, 'paypal': 3462, 'antrag': 65, 'passiert': 3456, 'mehrmals': 2428, 'gemacht': 597, 'widersprochen': 4594, 'statt': 4003, 'per': 3472, 'nico': 3040, 'leider erhalten': 1791, 'fehler shop': 478, 'shop system': 3930, 'lieferadresse falsch': 1929, 'zugegeben fehler': 4927, 'wissen jedoch': 4673, 'gl ck': 696, 'paypal bezahlt': 3465, 'passiert green': 3457, 'mehrmals bewusst': 2429, 'paypal gemacht': 3467, 'ndler irgendwann': 2879, 'widersprochen paypal': 4595, 'paypal antrag': 3463, 'statt gegeben': 4004, 'mag einzelfall': 2157, 'ndler bestellung': 2875, 'per vorkasse': 3473, 'leider erhalten schuld': 1792, 'fehler shop system': 479, 'lieferadresse falsch bermittelt': 1930, 'zugegeben fehler shop': 4928, 'wissen jedoch geweigert': 4674, 'paypal bezahlt antrag': 3466, 'passiert green cup': 3458, 'mehrmals bewusst falsche': 2430, 'paypal gemacht gl': 3468, 'ndler irgendwann selber': 2880, 'widersprochen paypal antrag': 4596, 'paypal antrag statt': 3464, 'statt gegeben mag': 4005, 'mag einzelfall jedoch': 2158, 'ndler bestellung abraten': 2876, 'per vorkasse bezahlt': 3474, 'entweder': 396, 'keramik': 1111, 'keramik handfilter': 1112, 'mittlerweile filtermaschine': 2649, 'keramik handfilter mittlerweile': 1113, 'morgens aufstehen kaffee': 2722, 'tagen': 4147, 'pads besten': 3387, 'besten fair': 174, 'pads bisher': 3389, 'mag bitter': 2155, 'pads besten fair': 3388, 'pads bisher gefunden': 3390, 'mag bitter gut': 2156, 'leben': 1637, 'mehr leben': 2389, 'leben denke': 1638, 'morgens llig': 2723, 'llig berm': 1973, 'lieblingskaffee schl': 1903, 'sterne geschmack': 4046, 'mehr leben denke': 2390, 'leben denke immer': 1639, 'morgens llig berm': 2724, 'llig berm det': 1974, 'lieblingskaffee schl rfe': 1904, 'sterne geschmack einfach': 4047, 'unschlagbar': 4230, 'nachteile': 2811, 'kologisiert': 1284, 'nr': 3186, 'betreibenen': 177, 'pflanzen': 3516, 'motoren': 2730, 'weltladen gekauft': 4452, 'kaum nachteile': 1088, 'nachteile bio': 2812, 'ko transporte': 1230, 'kologisiert produkt': 1285, 'nr warentransporte': 3187, 'pflanzen betreibenen': 3517, 'weltladen gekauft geschmackstechnisch': 4453, 'kaum nachteile bio': 1089, 'nachteile bio ko': 2813, 'ko transporte kologisiert': 1231, 'kologisiert produkt nr': 1286, 'nr warentransporte bersee': 3188, 'pflanzen betreibenen motoren': 3518, 'legga': 1755, 'lle': 1969, 'wohnen': 4711, 'legga kaufen': 1756, 'kaufen gepa': 1050, 'vollmundig geschmack': 4345, 'lle gutes': 1970, 'wohnen land': 4712, 'land kaufen': 1555, 'kaufen regional': 1060, 'wei schmeckt': 4390, 'legga kaufen gepa': 1757, 'kaufen gepa kaffee': 1051, 'lle gutes freunde': 1971, 'wohnen land kaufen': 4713, 'land kaufen regional': 1556, 'kaufen regional saisonal': 1061, 'wei schmeckt besser': 4391, 'mittagessen': 2626, 'classic': 265, 'kaffepause': 965, 'darf': 303, 'kondition': 1337, 'mittagessen liebe': 2627, 'liebe cremige': 1865, 'latte classic': 1609, 'kaffepause darf': 966, 'mal schnell': 2264, 'wer kologisch': 4508, 'kologisch angebaute': 1268, 'kondition kleinbauern': 1338, 'kleinbauern ursprungsl': 1191, 'ndern eingekauft': 2867, 'mount hagen begeistert': 2736, 'neuguinea kaffee frenchpress': 2984, 'mittagessen liebe cremige': 2628, 'liebe cremige chai': 1866, 'latte classic india': 1610, 'kaffepause darf gerne': 967, 'mal schnell gehen': 2265, 'wer kologisch angebaute': 4509, 'kologisch angebaute caf': 1269, 'kondition kleinbauern ursprungsl': 1339, 'kleinbauern ursprungsl ndern': 1192, 'ndern eingekauft trinken': 2868, 'mount hagen richtigen': 2749, 'nenne': 2928, 'strengere': 4127, 'tzung': 4220, 'nnt': 3137, 'zurecht': 4952, 'unte': 4232, 'verk': 4292, 'kologische': 1277, 'nachhaltigekeit': 2800, 'mahlt': 2217, 'nenne strengere': 2929, 'kriterien fairen': 1489, 'pro fund': 3733, 'unterst tzung': 4238, 'nnt gepa': 3138, 'mehr informationen': 2385, 'zurecht top': 4953, 'verk ufern': 4293, 'kologische nachhaltigekeit': 1278, 'nachhaltigekeit fairem': 2801, 'wert legen': 4534, 'legen kaffee': 1753, 'mann bohnen': 2294, 'nenne strengere kriterien': 2930, 'kriterien fairen handel': 1490, 'mehr geld pro': 2375, 'pro fund unterst': 3734, 'nnt gepa de': 3139, 'mehr informationen holen': 2386, 'zurecht top unte': 4954, 'verk ufern biologische': 4294, 'kologische nachhaltigekeit fairem': 1279, 'nachhaltigekeit fairem handel': 2802, 'wert legen kaffee': 4535, 'legen kaffee schmeckt': 1754, 'mann bohnen frisch': 2295, 'ordentlich': 3312, 'ordnung stung': 3324, 'nnte milder': 3143, 'milder sst': 2588, 'sst gut': 3969, 'ordnung stung nnte': 3325, 'nnte milder sst': 3144, 'milder sst gut': 2589, 'welt stark': 4442, 'welt stark bitter': 4443, 'zumal': 4944, 'minuspunkt': 2598, 'nstigsten': 3228, 'zumal bitter': 4945, 'bitter schmeckt': 211, 'minuspunkt arbeitskollegen': 2599, 'nnen umzusteigen': 3129, 'nstigsten bio': 3229, 'zumal bitter schmeckt': 4946, 'minuspunkt arbeitskollegen berzeugen': 2600, 'nnen umzusteigen ca': 3130, 'nstigsten bio fairtrade': 3230, 'vorteil': 4352, 'organsation': 3339, 'stimmt preis': 4116, 'preis berzeugt': 3598, 'organsation gerade': 3340, 'welt unterst': 4444, 'preis berzeugt euros': 3599, 'organsation gerade vertrieb': 3341, 'welt unterst tzenswert': 4445, 'moin': 2686, 'lebtag': 1655, 'mu': 2765, 'landete': 1560, 'siehe': 3935, 'magenprobleme': 2190, 'weicher': 4397, 'genu': 610, 'nem': 2919, 'papierkaffee': 3416, 'zuerst': 4896, 'kl': 1140, 'prise': 3726, 'moin liebe': 2687, 'liebe utopia': 1880, 'kaffeetrinker lebtag': 933, 'lebtag immer': 1656, 'gern kaffee': 635, 'nie getrunken': 3051, 'magen schlug': 2176, 'mu te': 2766, 'landete sidamo': 1561, 'weich verf': 4395, 'magenprobleme warmer': 2191, 'weicher milder': 4398, 'milder genu': 2584, 'liebe milch': 1876, 'milch nem': 2506, 'nem schu': 2920, 'manchmal papierkaffee': 2289, 'papierkaffee filter': 3417, 'zuerst kl': 4897, 'kl prise': 1141, 'prise echtes': 3727, 'moin liebe utopia': 2688, 'liebe utopia kaffeetrinker': 1881, 'kaffeetrinker lebtag immer': 934, 'lebtag immer gern': 1657, 'nie getrunken kaffee': 3052, 'magen schlug sohn': 2177, 'kaffeetrinker entwickelte mu': 932, 'mu te einkaufen': 2767, 'landete sidamo aroma': 1562, 'weich verf hrerisch': 4396, 'mu te probieren': 2768, 'magenprobleme warmer weicher': 2192, 'weicher milder genu': 4399, 'milder genu allerdings': 2585, 'liebe milch nem': 1877, 'milch nem schu': 2507, 'nem schu sahne': 2921, 'manchmal papierkaffee filter': 2290, 'papierkaffee filter zuerst': 3418, 'zuerst kl prise': 4898, 'kl prise echtes': 1142, 'prise echtes bourbonvanille': 3728, 'bisher immer': 207, 'sterne spezielle': 4064, 'mal dallmayr': 2231, 'sterne spezielle kaffeer': 4065, 'kolleginnen': 1264, 'kollegen': 1261, 'trinken kaffee': 4205, 'mehr kaffee': 2387, 'kaffeetrinker milch': 935, 'zucker mal': 4870, 'mal tasse': 2272, 'zucker trinken': 4876, 'kolleginnen kollegen': 1265, 'kollegen schmeckt': 1262, 'mehr kaffee trinkt': 2388, 'kaffeetrinker milch zucker': 936, 'milch zucker mal': 2514, 'zucker mal tasse': 4871, 'mal tasse milch': 2273, 'milch zucker trinken': 2516, 'zucker trinken kolleginnen': 4878, 'kolleginnen kollegen schmeckt': 1266, 'kollegen schmeckt kaffe': 1263, 'inzwischen': 825, 'weit': 4402, 'verbreitet': 4258, 'geschenk': 646, 'transparent': 4193, 'entspricht': 393, 'gepa produkte': 624, 'fairtrade siegel': 467, 'weit verbreitet': 4403, 'zahle gern': 4782, 'wenig mehr': 4472, 'weit verbreitet gern': 4404, 'zahle gern wenig': 4783, 'zumischungen': 4947, 'ordentliche': 3313, 'stellen': 4023, 'wohlgenuss': 4704, 'wichtig gepa': 4572, 'zumischungen erhalten': 4948, 'ordentliche preise': 3314, 'preise stellen': 3681, 'wichtig gepa daruaf': 4573, 'zumischungen erhalten somit': 4949, 'ordentliche preise stellen': 3315, 'preise stellen schmackhafte': 3682, 'variante': 4250, 'gibts': 693, 'nutze': 3237, 'mithalten': 2623, 'spricht': 3967, 'pads nutze': 3397, 'nutze haupts': 3238, 'ltnis ok': 2066, 'ok geschmack': 3284, 'llt erwartungen': 1988, 'ure kr': 4242, 'konventionellen produkten': 1388, 'mithalten spricht': 2624, 'pads nutze haupts': 3398, 'nutze haupts chlich': 3239, 'ltnis ok geschmack': 2067, 'ok geschmack erf': 3285, 'llt erwartungen gutes': 1989, 'wenig ure kr': 4478, 'kr ftig kaffee': 1458, 'konventionellen produkten definitiv': 1389, 'mithalten spricht dagegen': 2625, 'kaufe gepa': 1021, 'zudem sicher': 4888, 'preis dr': 3614, 'kaufe gepa fair': 1022, 'zudem sicher discounter': 4889, 'preis dr cken': 3615, 'slichen': 3939, 'mild gut': 2549, 'stet schmeckt': 4090, 'latte empfehlen': 1611, 'instant sticks': 818, 'sticks klasse': 4107, 'klasse nie': 1161, 'nie guten': 3053, 'mild gut ger': 2550, 'stet schmeckt ausgezeichnet': 4091, 'latte empfehlen cremig': 1612, 'sticks klasse nie': 4108, 'klasse nie guten': 1162, 'nie guten slichen': 3054, 'kaufte': 1082, 'oma': 3291, 'kaufte schon': 1083, 'oma generationen': 3292, 'kaufte schon oma': 1084, 'oma generationen bernommen': 3293, 'zugeben': 4921, 'kurzem': 1525, 'zartbitterschokolade': 4788, 'form': 514, 'zugeben erst': 4922, 'erst kurzem': 412, 'kurzem mount': 1528, 'neuen espressosorte': 2958, 'note zartbitterschokolade': 3179, 'zartbitterschokolade kaffeeautomaten': 4789, 'ne crema': 2890, 'zugeben erst kurzem': 4923, 'kurzem mount hagen': 1529, 'mount hagen gesto': 2742, 'neuen espressosorte sofort': 2959, 'note zartbitterschokolade kaffeeautomaten': 3180, 'zartbitterschokolade kaffeeautomaten form': 4790, 'ne crema rundum': 2891, 'bio produkt': 198, 'positiv geschmack': 3567, 'mal gekauft suche': 2239, 'positiv geschmack berrascht': 3568, 'speziellen': 3965, 'vollen': 4336, 'oft herausforderung': 3267, 'mittlerweile fast': 2647, 'schmeckt mild': 3880, 'vollen geschmack': 4337, 'oft herausforderung entweder': 3268, 'darboven caf intenci': 302, 'mittlerweile fast supermarkt': 2648, 'mild trotzdem vollen': 2564, 'lecker preislich': 1696, 'preislich ok': 3704, 'lecker preislich ok': 1697, 'steten': 4098, 'sste': 3970, 'ziehe': 4825, 'verloren': 4295, 'mild vollmundig': 2565, 'steten gepa': 4099, 'organico treu': 3337, 'ziehe stern': 4826, 'stern ab': 4027, 'leider dicht': 1787, 'mild vollmundig ger': 2566, 'steten gepa kaffee': 4100, 'organico treu schmeckt': 3338, 'wirklich fair gehandelt': 4617, 'sterne vergeben allerdings': 4075, 'ziehe stern ab': 4827, 'stern ab aromaverpackung': 4028, 'leider dicht dadurch': 1788, 'hauptsache': 761, 'supermarktkaffee': 4142, 'geldbetrag': 589, 'beisteuern': 123, 'restlos': 3803, 'versand gut': 4303, 'gut verpackt': 723, 'verpackt hauptsache': 4297, 'hauptsache leckerer': 762, 'leckerer kaffee': 1733, 'zucker trinke': 4874, 'trinke heren': 4199, 'preis ber': 3596, 'ber supermarktkaffee': 138, 'supermarktkaffee zahle': 4143, 'sch kleinen': 3835, 'kleinen geldbetrag': 1201, 'geldbetrag entwicklungsprojekte': 590, 'entwicklungsprojekte beisteuern': 398, 'beisteuern darf': 124, 'darf restlos': 304, 'restlos begeistert': 3804, 'schneller versand gut': 3890, 'versand gut verpackt': 4304, 'gut verpackt hauptsache': 724, 'verpackt hauptsache leckerer': 4298, 'hauptsache leckerer kaffee': 763, 'leckerer kaffee milch': 1735, 'kaffee milch zucker': 882, 'milch zucker trinke': 2515, 'zucker trinke heren': 4875, 'trinke heren preis': 4200, 'heren preis ber': 773, 'preis ber supermarktkaffee': 3597, 'ber supermarktkaffee zahle': 139, 'supermarktkaffee zahle gerne': 4144, 'zahle gerne sch': 4786, 'gerne sch kleinen': 640, 'sch kleinen geldbetrag': 3836, 'kleinen geldbetrag entwicklungsprojekte': 1202, 'geldbetrag entwicklungsprojekte beisteuern': 591, 'entwicklungsprojekte beisteuern darf': 399, 'beisteuern darf restlos': 125, 'darf restlos begeistert': 305, 'ausgewogener': 96, 'naturland zertifiziert': 2853, 'zertifiziert fair': 4816, 'mount hagen bestehen': 2737, 'naturland zertifiziert fair': 2854, 'zertifiziert fair gehandelt': 4817, 'gibt viele': 692, 'macht daraus': 2120, 'macht daraus guten': 2121, 'lecker teuer': 1706, 'fade': 438, 'mittlerer': 2641, 'zweifel': 4986, 'mengen': 2472, 'mittlerer ure': 2642, 'nstig regt': 3206, 'zweifel wirklich': 4989, 'mengen preis': 2473, 'preis chte': 3607, 'mittlerer ure fairen': 2643, 'nstig regt immer': 3207, 'zweifel wirklich fair': 4990, 'wirklich fair mengen': 4618, 'mengen preis chte': 2474, 'preis chte gerne': 3608, 'kommentar': 1301, 'kommentar wurde': 1302, 'wurde user': 4767, 'kommentar wurde user': 1303, 'wurde user gel': 4768, 'nachhaltige': 2797, 'nachhaltige unterst': 2798, 'tzung ort': 4221, 'ort sterne': 3348, 'nachhaltige unterst tzung': 2799, 'unterst tzung ort': 4239, 'tzung ort sterne': 4222, 'absoluter': 30, 'lieblingskaffee schmeckt': 1905, 'lieblingskaffee schmeckt frisch': 1906, 'leistungsverh ltnis stimmt': 1827, 'schonenden': 3909, 'ankommt': 57, 'schonenden stung': 3910, 'kleines': 1211, 'find': 496, 'klassse': 1169, 'lecker kr': 1684, 'geschmack kommt': 655, 'kommt morgen': 1312, 'morgen frisch': 2711, 'kleines geld': 1212, 'klassse klar': 1170, 'klar gibt': 1149, 'gut geeignet': 717, 'lecker kr ftig': 1685, 'kommt morgen frisch': 1313, 'morgen frisch gemahlen': 2712, 'kleines geld bio': 1213, 'klassse klar gibt': 1171, 'klar gibt geschmacklich': 1150, 'magens': 2193, 'lange vertrage': 1588, 'lange vertrage gut': 1589, 'status': 4006, 'marke gepa': 2311, 'meisten fairtrade': 2453, 'status betrifft': 4007, 'zudem stimmt': 4892, 'ltnis nstiger': 2064, 'nstiger darf': 3219, 'marke gepa einfach': 2312, 'meisten fairtrade status': 2454, 'status betrifft deshalb': 4008, 'zudem stimmt preis': 4893, 'leistungsverh ltnis nstiger': 1825, 'ltnis nstiger darf': 2065, 'nstiger darf kaffee': 3220, 'lebensgef': 1646, 'stehe': 4012, 'marktstand': 2330, 'paradies': 3430, 'wow': 4717, 'neues wunderbares': 2972, 'wunderbares lebensgef': 4745, 'lebensgef hl': 1647, 'stehe marktstand': 4013, 'marktstand biobauern': 2331, 'paradies vielmehr': 3431, 'wow gef': 4718, 'mann neuen': 2296, 'neuen ganz': 2960, 'besonderen kaffeegenuss': 158, 'neues wunderbares lebensgef': 2973, 'wunderbares lebensgef hl': 4746, 'lebensgef hl stellt': 1648, 'stehe marktstand biobauern': 4014, 'marktstand biobauern hamm': 2332, 'paradies vielmehr essen': 3432, 'wow gef hl': 4719, 'mann neuen ganz': 2297, 'neuen ganz besonderen': 2961, 'ganz besonderen kaffeegenuss': 552, 'ltnises': 2076, 'zuk': 4941, 'kriterien aufgrund': 1485, 'leistungsverh ltnises': 1828, 'ltnises zuk': 2077, 'zuk nftig': 4942, 'nftig gekauft': 3005, 'kriterien aufgrund fairen': 1486, 'fairen preis leistungsverh': 458, 'preis leistungsverh ltnises': 3645, 'leistungsverh ltnises zuk': 1829, 'ltnises zuk nftig': 2078, 'zuk nftig gekauft': 4943, 'magenfreundlich': 2180, 'raum': 3786, 'ngemittel': 3011, 'morgen kaffee': 2717, 'magenfreundlich kaffeeduft': 2181, 'llt ganzen': 1990, 'kologisch ngemittel': 1274, 'morgen kaffee magenfreundlich': 2718, 'magenfreundlich kaffeeduft llt': 2182, 'llt ganzen raum': 1991, 'denen': 316, 'weite': 4405, 'ngeren': 3022, 'pfungskette': 3525, 'konzerne': 1408, 'nagel': 2817, 'nschenswert': 3197, 'konzept berzeugen': 1393, 'wichtig ndern': 4580, 'ndern denen': 2865, 'weite rverarbeitet': 4406, 'ngeren teil': 3023, 'wertsch pfungskette': 4541, 'pfungskette nden': 3526, 'nden erzielen': 2859, 'konzerne nagel': 1409, 'nagel bioqualit': 2818, 'nschenswert besten': 3198, 'konzept berzeugen vollkommen': 1394, 'wichtig ndern denen': 4581, 'ndern denen rohstoffe': 2866, 'weite rverarbeitet halten': 4407, 'ngeren teil wertsch': 3024, 'wertsch pfungskette nden': 4542, 'pfungskette nden erzielen': 3527, 'nden erzielen here': 2860, 'konzerne nagel bioqualit': 1410, 'nagel bioqualit re': 2819, 'nschenswert besten eu': 3199, 'mounthagenprodukte': 2759, 'finde geschmack': 498, 'latte super': 1622, 'lecker bisher': 1663, 'niemals probiert': 3065, 'mounthagenprodukte empfehlen': 2760, 'latte super lecker': 1623, 'lecker bisher niemals': 1664, 'niemals probiert sch': 3066, 'koperative': 1425, 'zertifizieren': 4811, 'kundenbetreuung kaffee': 1504, 'koperative gelingen': 1426, 'zertifizieren lassen': 4812, 'kundenbetreuung kaffee weiterempfehlen': 1505, 'koperative gelingen rde': 1427, 'lieblich': 1888, 'kosten': 1437, 'komplett': 1331, 'ma': 2102, 'kaffee sorte': 895, 'stark inzwischen': 3990, 'zeigt produktpalette': 4800, 'mild lieblich': 2553, 'lieblich dabei': 1889, 'kommen sogar': 1298, 'kosten gibt': 1438, 'viele sorten': 4324, 'sowohl gemahlen': 3953, 'kaffeevollautomaten inzwischen': 953, 'mmlich gepa': 2661, 'komplett fairtrade': 1332, 'ma st': 2103, 'gepa kaffee sorte': 622, 'stark inzwischen zeigt': 3991, 'zeigt produktpalette vielseitiger': 4801, 'mild lieblich dabei': 2554, 'lieblich dabei kommen': 1890, 'kommen sogar kaffeeliebhaber': 1299, 'kosten gibt dabei': 1439, 'kaffeevollautomaten inzwischen gibt': 954, 'zwei sorten kaffeepadmaschine': 4980, 'kaffee gut vertr': 866, 'mmlich gepa ersten': 2662, 'komplett fairtrade setzen': 1333, 'ma st be': 2104, 'normalen kaffee': 3158, 'cafe classic': 250, 'mal kr': 2250, 'mild erscheint': 2540, 'paar tagen': 3361, 'mehr meinung': 2391, 'meinung gerade': 2439, 'milde bohne': 2568, 'kommen sst': 1300, 'normalen kaffee gleiche': 3159, 'mal kr ftig': 2251, 'kr ftig bohne': 1451, 'mild erscheint paar': 2541, 'paar tagen bohne': 3362, 'mehr meinung gerade': 2392, 'meinung gerade milde': 2440, 'milde bohne geschmack': 2569, 'lege': 1747, 'mehreren jahren': 2424, 'lege dabei': 1748, 'wert geschmack': 4532, 'preis verf': 3669, 'mehreren jahren darboven': 2425, 'lege dabei wert': 1749, 'wert geschmack kologischer': 4533, 'kologischer anbau fair': 1283, 'preis verf gbarkeit': 3671, 'ergiebig': 407, 'netten': 2947, 'mailkontakt': 2221, 'prompt': 3778, 'offen': 3251, 'zudem netten': 4884, 'netten mailkontakt': 2948, 'mailkontakt fragen': 2222, 'offen beantwortet': 3252, 'kr ftig gen': 1454, 'leckeren kaffee trinken': 1721, 'zudem netten mailkontakt': 4885, 'netten mailkontakt fragen': 2949, 'mailkontakt fragen prompt': 2223, 'offen beantwortet wurden': 3253, 'nderjahre': 2861, 'magenfreundlichste': 2188, 'organico kaffee': 3333, 'nderjahre biol': 2862, 'magenfreundlichste kaffee': 2189, 'organico kaffee schon': 3334, 'nderjahre biol belebt': 2863, 'lscht': 2033, 'milchkaffee': 2524, 'lscht trinke': 2034, 'klasse leckeren': 1157, 'leckeren milchkaffee': 1722, 'milchkaffee besser': 2525, 'macchiato feinster': 2108, 'mount hagen vorz': 2752, 'lscht trinke espresso': 2035, 'klasse leckeren milchkaffee': 1158, 'leckeren milchkaffee besser': 1723, 'milchkaffee besser latte': 2526, 'latte macchiato feinster': 1617, 'macchiato feinster kaffeegenuss': 2109, 'ro': 3821, 'neben': 2899, 'offiziellen': 3257, 'positiv cafe': 3565, 'sch kr': 3837, 'neben offiziellen': 2900, 'offiziellen bio': 3258, 'wenig infos': 4468, 'macht leider': 2137, 'leider gibt': 1795, 'positiv cafe crema': 3566, 'sch kr ftig': 3838, 'kr ftig schade': 1460, 'neben offiziellen bio': 2901, 'offiziellen bio fairtrade': 3259, 'wenig infos anbaugebieten': 4469, 'macht leider gibt': 2138, 'leider gibt aldi': 1796, 'verschenke': 4305, 'oft gerne': 3265, 'kauf unterst': 1011, 'oft gerne bisher': 3266, 'kauf unterst tzt': 1012, 'schwach': 3911, 'mild schwach': 2559, 'meinung beste': 2437, 'preis llig': 3652, 'llig ordnung': 1975, 'ordnung gerechtfertigt': 3321, 'mild schwach meinung': 2560, 'meinung beste kaffee': 2438, 'preis llig ordnung': 3653, 'llig ordnung gerechtfertigt': 1976, 'mitarbeiterin': 2613, 'weltladens': 4454, 'ausgiebig': 98, 'mitarbeiterin weltladens': 2614, 'weltladens gro': 4455, 'macht kaffee': 2135, 'wirklich freude': 4624, 'konsumenten produzenten': 1362, 'mitarbeiterin weltladens gro': 2615, 'weltladens gro sortiment': 4456, 'nat rlich schon': 2843, 'macht kaffee wirklich': 2136, 'wirklich freude konsumenten': 4625, 'konsumenten produzenten herkunftsl': 1363, 'kaufe berwiegend': 1016, 'malzig': 2285, 'milchig': 2520, 'malzig st': 2286, 'malzig st rker': 2287, 'mag gepa': 2161, 'paar edle': 3354, 'mal sorten': 2270, 'probieren kaffee': 3757, 'mag gepa kaffee': 2162, 'paar edle kaffee': 3355, 'mal sorten probieren': 2271, 'wertvolles': 4548, 'schafft': 3848, 'kauf wertvolles': 1013, 'wertvolles anbauprojekt': 4549, 'fairer bezahlung': 460, 'kauf wertvolles anbauprojekt': 1014, 'wertvolles anbauprojekt schafft': 4550, 'koffeinfrei': 1249, 'koffeinfrei fair': 1250, 'koffeinfrei fair trade': 1251, 'letztendlich': 1833, 'kogi schmeckt': 1257, 'kakao letztendlich': 969, 'letztendlich kogi': 1834, 'kogi indianer': 1253, 'kogi schmeckt schokoladig': 1258, 'kakao letztendlich kogi': 970, 'letztendlich kogi indianer': 1835, 'kogi indianer unterschied': 1254, 'kaffee freunde': 859, 'art': 84, 'zubereitungsart': 4859, 'macht halbwegs': 2131, 'ok sterne': 3286, 'sterne geb': 4044, 'zubereitet leider': 4851, 'leider fade': 1793, 'stern kommt': 4032, 'kommt wohl': 1324, 'wohl zubereitungsart': 4700, 'zubereitungsart sterne': 4862, 'sterne sagen': 4060, 'mahlen stellen': 2208, 'mahlgrad zubereitungsart': 2215, 'zubereitungsart daher': 4860, 'macht halbwegs ok': 2132, 'ok sterne geb': 3287, 'sterne geb jedoch': 4045, 'zubereitet leider fade': 4852, 'leider fade stern': 1794, 'stern kommt wohl': 4033, 'kommt wohl zubereitungsart': 1325, 'wohl zubereitungsart sterne': 4701, 'zubereitungsart sterne sagen': 4863, 'sterne sagen bohnen': 4061, 'mahlen stellen mahlgrad': 2209, 'mahlgrad zubereitungsart daher': 2216, 'zubereitungsart daher unterschied': 4861, 'sterne uneingeschr': 4070, 'nkte empfehlung': 3077, 'nf sterne uneingeschr': 2996, 'sterne uneingeschr nkte': 4071, 'kaufen seit': 1064, 'preis relativ': 3660, 'kaufen seit jahren': 1065, 'preis relativ hoch': 3661, 'lieblingskaffee gefunden': 1896, 'knallt': 1217, 'meistens': 2463, 'nehmen': 2914, 'knallt gut': 1218, 'packung daf': 3372, 'sterne meistens': 4054, 'meistens nehmen': 2464, 'nehmen tazpresso': 2916, 'knallt gut vertr': 1219, 'packung daf gibtes': 3373, 'sterne meistens nehmen': 4055, 'meistens nehmen tazpresso': 2465, 'nehmen tazpresso gepa': 2917, 'wunderbar aromatisch': 4721, 'wunderbar aromatisch dabei': 4722, 'passabel': 3443, 'mexiko': 2494, 'passabel finde': 3444, 'rlich geschmackssache': 3818, 'nlich schmeckt': 3093, 'milde variante': 2574, 'milde gepa': 2570, 'mexiko deutlich': 2495, 'passabel finde geschmack': 3445, 'nat rlich geschmackssache': 2835, 'pers nlich schmeckt': 3503, 'nlich schmeckt milde': 3094, 'milde variante caf': 2575, 'milde gepa sorte': 2571, 'mexiko deutlich besser': 2496, 'preis verf gbar': 3670, 'magenfreundlicher': 2185, 'magenfreundlicher reizarmer': 2186, 'milden sorten': 2579, 'magenfreundlicher reizarmer kaffee': 2187, 'milden sorten bindet': 2580, 'sechs': 3915, 'konsumiere': 1366, 'starten': 4000, 'weiterhin': 4422, 'neue begeistern': 2951, 'konsumiere ausschlie': 1367, 'lich fair': 1849, 'kaffee guten': 867, 'starten nnen': 4001, 'nnen wahl': 3133, 'weiterhin fallen': 4425, 'neue begeistern konsumiere': 2952, 'konsumiere ausschlie lich': 1368, 'lich fair produzierten': 1850, 'starten nnen wahl': 4002, 'nnen wahl weiterhin': 3134, 'wobei': 4677, 'wobei getreidekaffee': 4678, 'kenne mahle': 1101, 'mahle immer': 2199, 'wobei getreidekaffee kenne': 4679, 'kenne mahle immer': 1102, 'mahle immer br': 2200, 'nlich gepa': 3081, 'pers nlich gepa': 3497, 'nlich gepa kaffees': 3082, 'kaffeetrinkerin': 941, 'kaffeetrinkerin gemacht': 942, 'wer kaffee': 4506, 'kauft unterst': 1080, 'liebe sorgfalt': 1878, 'wurde schmecken': 4759, 'kaffeetrinkerin gemacht wer': 943, 'wer kaffee kauft': 4507, 'kauft unterst tzt': 1081, 'liebe sorgfalt kaffee': 1879, 'wurde schmecken favoriten': 4760, 'magenfreundlich sensibelchen': 2183, 'magenfreundlich sensibelchen lecker': 2184, 'kleiner': 1208, 'machte': 2151, 'langen': 1593, 'wesentlich': 4551, 'kleiner kaffee': 1209, 'machte anfang': 2152, 'langen tag': 1594, 'ber fairtrade': 137, 'zweifel produkten': 4987, 'wesentlich teurere': 4552, 'wurden beseitigt': 4772, 'sterne teurer': 4066, 'kleiner kaffee rewe': 1210, 'machte anfang schmeckte': 2153, 'langen tag besonders': 1595, 'zweifel produkten wesentlich': 4988, 'wesentlich teurere handeln': 4553, 'wurden beseitigt bekommt': 4773, 'nf sterne teurer': 2995, 'sterne teurer schmeckt': 4067, 'nachhaltigem': 2803, 'bauern': 110, 'nachhaltigem anbau': 2804, 'nachhaltigem anbau unterst': 2805, 'ftiges': 544, 'kaffeevollautomat kr': 947, 'kr ftiges': 1472, 'daher gut': 289, 'euro pro': 429, 'kilo unschlagbar': 1128, 'kaffeevollautomat kr ftiges': 948, 'kr ftiges aroma': 1473, 'preis ca 16': 3605, 'euro pro kilo': 430, 'pro kilo unschlagbar': 3740, 'name': 2823, 'aufmachung': 92, 'mussten': 2775, 'privatperson': 3729, 'name aufmachung': 2824, 'mussten sorte': 2776, 'kaffee daf': 850, 'kommt leider': 1310, 'leider vollmundig': 1803, 'preis ordnung': 3656, 'ordnung 1kg': 3317, 'packungen privatperson': 3384, 'privatperson leider': 3730, 'leider praktisch': 1801, 'praktisch lange': 3583, 'lange ben': 1576, 'packung aufzubrauchen': 3370, 'nschenswert re': 3200, 'name aufmachung verpackung': 2825, 'mussten sorte probieren': 2777, 'kommt leider vollmundig': 1311, 'leider vollmundig heraus': 1804, 'preis ordnung 1kg': 3657, 'ordnung 1kg packungen': 3318, 'packungen privatperson leider': 3385, 'privatperson leider praktisch': 3731, 'leider praktisch lange': 1802, 'praktisch lange ben': 3584, 'lange ben tigt': 1577, 'packung aufzubrauchen nschenswert': 3371, 'nschenswert re bioqualit': 3201, 'kaffee vollautomaten': 901, 'nstig lohnt': 3205, 'leckerer kaffee ganzen': 1734, 'zubereitung kaffee vollautomaten': 4858, 'negatives': 2905, 'kekse': 1095, 'lich gepa': 1853, 'negatives ber': 2906, 'kekse tee': 1096, 'lich gepa kaffee': 1854, 'negatives ber gepa': 2907, 'kekse tee testen': 1097, 'pads hause': 3391, 'pads hause denen': 3392, 'oft gepa': 3263, 'oft gepa kaffee': 3264, 'stark getrunken': 3988, 'stark getrunken fade': 3989, 'lecker aromatisch': 1661, 'produkte empfehlen': 3768, 'kaffee schmeckt lecker': 891, 'lecker aromatisch espresso': 1662, 'bialetti': 184, 'kanne': 985, 'kanne beides': 986, 'daher sterne': 291, 'sterne kaffee': 4051, 'kanne beides ergebnis': 987, 'wiederbef': 4597, 'llbaren': 1966, 'nespressomaschine': 2944, 'klebrig': 1172, 'nehme darboven': 2909, 'wiederbef llbaren': 4598, 'llbaren kapseln': 1967, 'kapseln nespressomaschine': 1000, 'nespressomaschine jaja': 2945, 'wei absolut': 4386, 'macht wach': 2149, 'klebrig gut': 1173, 'kleinen kapseln': 1203, 'nehme darboven pulver': 2910, 'wiederbef llbaren kapseln': 4599, 'llbaren kapseln nespressomaschine': 1968, 'kapseln nespressomaschine jaja': 1001, 'nespressomaschine jaja se': 2946, 'wei absolut zufrieden': 4387, 'zufrieden kaffee schmeckt': 4913, 'macht wach finde': 2150, 'klebrig gut kleinen': 1174, 'italien': 827, 'ltnism': 2079, 'lt preis': 2039, 'preis konsumenten': 3632, 'konsumenten verh': 1364, 'verh ltnism': 4288, 'ltnism ig': 2080, 'lt preis konsumenten': 2040, 'preis konsumenten verh': 3633, 'konsumenten verh ltnism': 1365, 'verh ltnism ig': 4289, 'ltnism ig gering': 2081, 'wildkaffee': 4603, 'laune': 1626, 'wildkaffee thiopien': 4604, 'wunderbar bekommt': 4725, 'laune bohnen': 1627, 'klasse uschen': 1165, 'wildkaffee thiopien geschmack': 4605, 'wunderbar bekommt schon': 4726, 'laune bohnen kaffeeautomaten': 1628, 'klasse uschen einlegen': 1166, 'menge': 2469, 'berzeugt schmeckt': 152, 'tolles aroma': 4184, 'mmlich wenigen': 2669, 'wenigen kaffees': 4490, 'wirklich kleine': 4633, 'kleine menge': 1196, 'menge daher': 2470, 'ne farbe': 2892, 'mmlich wenigen kaffees': 2670, 'wenigen kaffees ganzen': 4491, 'wirklich kleine menge': 4634, 'kleine menge daher': 1197, 'menge daher ergiebig': 2471, 'kaufe immer': 1025, 'pads intencion': 3393, 'lecker preis': 1694, 'meinung kaffee': 2443, 'kaufe immer kaffee': 1026, 'pads intencion kaffee': 3394, 'lecker preis leistungsverh': 1695, 'ltnis stimmt meinung': 2074, 'meinung kaffee guten': 2444, 'letztens bioladen': 1837, 'kaffee kaufen': 873, 'kaufen schmeckt': 1062, 'leicht stark': 1762, 'macht besser': 2118, 'letztens bioladen entdeckt': 1838, 'kaufen schmeckt leicht': 1063, 'leicht stark dennoch': 1763, 'lieferung akzeptabel': 1932, 'lieferung akzeptabel rde': 1933, 'wundersch': 4749, 'nussige': 3234, 'mischung schmeckt': 2609, 'mild behaltet': 2538, 'note duftet': 3171, 'wundersch nussige': 4750, 'nussige note': 3235, 'note gut': 3173, 'mischung schmeckt mild': 2610, 'mild behaltet gute': 2539, 'note duftet wundersch': 3172, 'wundersch nussige note': 4751, 'nussige note gut': 3236, 'note gut herausschmecken': 3174, 'positiv berrascht produkte': 3564, 'minute': 2601, 'konsequent': 1352, 'nstig daf': 3203, 'minute konsequent': 2602, 'konsequent fair': 1353, 'kologisch feigenblattmarketing': 1270, 'wirklich nstig daf': 4644, 'nstig daf ersten': 3204, 'minute konsequent fair': 2603, 'konsequent fair kologisch': 1354, 'kologisch feigenblattmarketing vielen': 1271, 'sterne vielleicht': 4078, 'paket erwischt': 3402, 'wenig ger': 4466, 'stet wurde': 4094, 'sterne vielleicht einfach': 4079, 'paket erwischt wenig': 3403, 'wenig ger stet': 4467, 'modell': 2683, 'ziemlich': 4828, 'modell hingegen': 2684, 'llt pers': 2000, 'nlich weniger': 3097, 'weniger gut': 4497, 'partner ziemlich': 3438, 'ziemlich fragw': 4831, 'modell hingegen gef': 2685, 'llt pers nlich': 2001, 'pers nlich weniger': 3505, 'nlich weniger gut': 3098, 'weniger gut gewinnmaximierung': 4498, 'partner ziemlich fragw': 3439, 'ziemlich fragw rdigem': 4832, 'stellungnahme coffee circle': 4024, 'kurzem getrunken': 1526, 'kurzem getrunken berrascht': 1527, 'leider wenig': 1805, 'wenig aroma': 4463, 'leider wenig ure': 1806, 'wenig ure fad': 4477, 'optimal': 3304, 'wirklich empfehlender': 4613, 'aroma schmeckt': 77, 'optimal abgestimmt': 3305, 'wirklich empfehlender kaffee': 4614, 'optimal abgestimmt voller': 3306, 'lieblingskaffee immer': 1899, 'mmlicher eignet': 2679, 'koffein schmeckt': 1247, 'lieblingskaffee immer besser': 1900, 'mmlicher eignet sowohl': 2680, 'koffein schmeckt genauso': 1248, 'munter': 2772, 'macher': 2114, 'lecker tag': 1704, 'munter macher': 2773, 'macher besonderen': 2115, 'lecker tag beginnen': 1705, 'munter macher besonderen': 2774, 'macher besonderen art': 2116, 'presskanne': 3711, 'kaufe nachdem': 1033, 'nachdem kaffee': 2784, 'kaufe trinke': 1039, 'zufrieden getesteten': 4910, 'presskanne einfach': 3712, 'mount elgon': 2732, 'kaufe nachdem kaffee': 1034, 'nachdem kaffee bio': 2785, 'kaufe trinke kaffee': 1040, 'zufrieden getesteten sorten': 4911, 'presskanne einfach filtert': 3713, 'mount elgon gefunden': 2733, 'kritikpunkt': 1493, 'konzept gut': 1405, 'macht schon': 2145, 'klasse marke': 1159, 'marke immer': 2313, 'kritikpunkt leider': 1494, 'leider chai': 1783, 'latte tierisch': 1624, 'konzept gut ganz': 1406, 'macht schon her': 2146, 'nat rlich gibt': 2836, 'klasse marke immer': 1160, 'marke immer gern': 2314, 'kritikpunkt leider chai': 1495, 'leider chai latte': 1784, 'latte tierisch sodbrennen': 1625, 'bar': 106, 'kuh': 1497, 'ltlich': 2050, 'preislich unterbieten': 3707, 'stark gebr': 3982, 'kuh sojamilch': 1498, 'konventionellen supermarkt': 1390, 'ltlich nf': 2051, 'nf euro': 2989, 'llt relevanten': 2002, 'wichtig geldbeutel': 4570, 'preislich unterbieten daf': 3708, 'stark gebr ht': 3983, 'kuh sojamilch schmeckte': 1499, 'konventionellen supermarkt erh': 1391, 'ltlich nf euro': 2052, 'nf euro erf': 2990, 'llt relevanten auflagen': 2003, 'wichtig geldbeutel immer': 4571, 'kontakt': 1372, 'kompetent': 1328, 'kaffee lecker': 879, 'lecker konzept': 1682, 'konzept direktvermarktung': 1403, 'kontakt fragen': 1373, 'kompetent erst': 1329, 'konzept denen': 1401, 'mehr welt': 2419, 'welt geben': 4436, 'lecker konzept direktvermarktung': 1683, 'konzept direktvermarktung stimmig': 1404, 'kontakt fragen erfolgt': 1374, 'kompetent erst gelungenes': 1330, 'konzept denen mehr': 1402, 'mehr welt geben': 2420, 'welt geben sste': 4437, 'mahlen ganzes': 2206, 'ltnis fairem': 2058, 'kr ftig geschmackvoll': 1456, 'mahlen ganzes aroma': 2207, 'leistungsverh ltnis fairem': 1822, 'ltnis fairem handel': 2059, 'nahezu': 2820, 'labels': 1536, 'nahezu ungenie': 2821, 'mal testet': 2274, 'wegen fairtrade': 4377, 'bio labels': 197, 'labels gekauft': 1537, 'nahezu ungenie bar': 2822, 'mal testet probiert': 2275, 'wegen fairtrade bio': 4378, 'labels gekauft geschmacklich': 1538, 'pakung': 3406, 'pakung verbreitet': 3407, 'ner angenehmer': 2935, 'lt gepa': 2037, 'pakung verbreitet sch': 3408, 'ner angenehmer kaffeeduft': 2936, 'lt gepa kaffee': 2038, 'zuhause': 4938, 'kochen': 1235, 'mal zuhause': 2278, 'zuhause lust': 4939, 'lust latte': 2096, 'macchiato espresso': 2106, 'kochen chte': 1236, 'kaufen zudem': 1072, 'zudem preis': 4886, 'kaufe kaffee immer': 1030, 'kr ftig schmeckt': 1461, 'mal zuhause lust': 2279, 'zuhause lust latte': 4940, 'lust latte macchiato': 2097, 'latte macchiato espresso': 1616, 'macchiato espresso kochen': 2107, 'kochen chte toller': 1237, 'kaufen zudem preis': 1073, 'zudem preis absolut': 4887, 'preis absolut super': 3591, 'staroma': 3994, 'bleibe': 217, 'wg 20': 4555, 'leider augen': 1779, 'staroma sst': 3995, 'wg 20 jahren': 4556, 'leider augen verloren': 1780, 'kr ftiges staroma': 1474, 'staroma sst gut': 3996, 'etwa': 425, 'koffein begeistert': 1239, 'lecker fairtrade': 1671, 'kaufen teurer': 1068, 'koffein begeistert unkompliziert': 1240, 'lecker fairtrade rde': 1672, 'kaufen teurer re': 1069, 'konnten': 1349, 'lobenswert': 2020, 'mountagen': 2753, 'zustimmen': 4966, 'marke mount': 2315, 'weiterempfehlen produkte': 4418, 'konnten bisher': 1350, 'sticks dinkel': 4105, 'koffein chai': 1241, 'latte mount': 1620, 'preise wirklich': 3683, 'wirklich absolut': 4607, 'lobenswert aussage': 2021, 'mountagen kaffee': 2754, 'zustimmen froh': 4967, 'marke entdeckt': 2306, 'wirklich schmeckt': 4658, 'marke mount hagen': 2316, 'weiterempfehlen produkte konnten': 4419, 'konnten bisher berzeugen': 1351, 'neuguinea kaffee arabica': 2982, 'sticks dinkel kaffee': 4106, 'koffein chai latte': 1242, 'latte mount hagen': 1621, 'preise wirklich absolut': 3684, 'wirklich absolut lobenswert': 4608, 'lobenswert aussage mountagen': 2022, 'mountagen kaffee kaffee': 2755, 'zustimmen froh marke': 4968, 'marke entdeckt kaffee': 2307, 'nkt': 3074, 'lange kaufe': 1582, 'kaufe genie': 1019, 'nkt weiterempfehlen': 3075, 'lange kaufe genie': 1583, 'kaufe genie espresso': 1020, '2014': 18, 'zeit online': 4807, 'online fairtrade': 3300, 'zeit online fairtrade': 4808, 'online fairtrade kaffee': 3301, 'steter': 4101, 'angebot': 46, 'steter kaffee': 4102, 'kommt sten': 1322, 'wobei sagen': 4680, 'passend mahle': 3449, 'mahle daher': 2195, 'mild ger steter': 2546, 'steter kaffee wenig': 4103, 'wenig ure daher': 4475, 'kommt sten gut': 1323, 'wobei sagen ganzen': 4681, 'kaufe immer passend': 1027, 'passend mahle daher': 3450, 'mahle daher aroma': 2196, 'woche': 4682, 'unserer': 4231, 'nstigeren': 3223, 'kilogramm': 1129, 'konsum': 1355, 'barista espresso': 109, 'woche vollautomaten': 4683, 'kam besten': 977, 'meisten unserer': 2461, 'noten verteilt': 3184, 'nstigeren fairtrade': 3224, 'nlich rde': 3091, 'weiterhin barista': 4423, 'kaufen fairtrade': 1048, 'preis etwa': 3616, 'kilo bohnen': 1123, 'zwei drei': 4973, 'mehr pro': 2399, 'pro kilogramm': 3741, 'kilogramm ber': 1130, 'mmlichen bohnen': 2672, 'woche vollautomaten ro': 4684, 'kam besten meisten': 978, 'meisten unserer kaffeetrinker': 2462, 'noten verteilt vergleich': 3185, 'nstigeren fairtrade caf': 3225, 'pers nlich rde': 3502, 'nlich rde weiterhin': 3092, 'weiterhin barista espresso': 4424, 'kaufen fairtrade produkt': 1049, 'preis etwa 13': 3617, 'pro kilo bohnen': 3739, 'kilo bohnen aufweist': 1124, 'zwei drei euro': 4974, 'mehr pro kilogramm': 2400, 'pro kilogramm ber': 3742, 'kilogramm ber herk': 1131, 'mmlichen bohnen guter': 2673, 'zugegebenerma': 4929, 'pepp': 3469, 'wenige': 4482, 'nich': 3037, 'zugunsten': 4932, 'zugegebenerma en': 4930, 'mehr pepp': 2397, 'pepp bio': 3470, 'wenige schlagen': 4483, 'nich aroma': 3038, 'zugunsten bio': 4933, 'labels nehmen': 1539, 'nehmen kauf': 2915, 'zugegebenerma en gibt': 4931, 'konventionellen kaffees verwendung': 1387, 'mehr pepp bio': 2398, 'pepp bio kaffees': 3471, 'wenige schlagen nich': 4484, 'nich aroma dosieren': 3039, 'zugunsten bio labels': 4934, 'labels nehmen kauf': 1540, 'seit vielen': 3922, 'vielen jahren': 4326, 'seit vielen jahren': 3923, 'wenig kaffee': 4470, 'vergleich tschibo': 4265, 'wenig kaffee daf': 4471, 'vergleich tschibo getrunken': 4266, 'melitta': 2466, 'wohlschmeckender': 4705, 'linie': 1958, 'leidenschaftlicher': 1775, 'melitta verbringen': 2467, 'wohlschmeckender kaffee': 4706, 'lecker ruhigen': 1698, 'weiterempfehlen qualit': 4420, 'linie leidenschaftlicher': 1959, 'leidenschaftlicher kaffeetrinker': 1776, 'kaffeetrinker produkte': 937, 'preis fait': 3620, 'melitta verbringen preis': 2468, 'ltnis stimmt absolut': 2073, 'wohlschmeckender kaffee lecker': 4707, 'lecker ruhigen gewissen': 1699, 'weiterempfehlen qualit ganzer': 4421, 'linie leidenschaftlicher kaffeetrinker': 1960, 'leidenschaftlicher kaffeetrinker produkte': 1777, 'kaffeetrinker produkte empfehlen': 938, 'milch st ck': 2509, 'zucker trinken kaffe': 4877, 'lt verspricht aromatischer': 2044, 'preis fait trade': 3621, 'nachmittags': 2808, 'pads sagen': 3399, 'klasse zwischendurch': 1167, 'zwischendurch sp': 4997, 'nachmittags espresso': 2809, 'mild jedoch': 2551, 'pads sagen gro': 3400, 'klasse zwischendurch sp': 1168, 'zwischendurch sp nachmittags': 4998, 'nachmittags espresso ganze': 2810, 'mild jedoch vollmundig': 2552, 'mitbewohnerinnen': 2619, 'wg trinken': 4563, 'wg eingezogen': 4557, 'nie problematik': 3055, 'mitbewohnerinnen beschwerte': 2620, 'kl rte': 1143, 'kaufen caf': 1044, 'wg trinken intenci': 4564, 'wg eingezogen vorher': 4558, 'nie problematik kaffee': 3056, 'mitbewohnerinnen beschwerte mal': 2621, 'mal fair trate': 2236, 'kl rte seit': 1144, 'kaufen caf intenci': 1045, 'lebensbaum': 1640, 'pfund': 3522, 'ngt': 3028, 'lie': 1861, 'wegsch': 4381, 'wochen gourmet': 4688, 'mild amp': 2534, 'mmlich 100': 2659, 'lebensbaum ausprobiert': 1641, 'ziemlich entt': 4829, 'preis knapp': 3630, 'knapp euro': 1221, 'pfund mehr': 3523, 'mehr erhofft': 2369, 'ngt zubereitungsart': 3029, 'zubereitungsart wasser': 4864, 'wasser usw': 4364, 'lie aroma': 1862, 'nschen brig': 3193, 'konnte wegsch': 1347, 'wegsch tten': 4382, 'zwei sterne': 4981, 'paar wochen gourmet': 3367, 'wochen gourmet kaffee': 4689, 'mild amp bek': 2535, 'mmlich 100 arabica': 2660, 'lebensbaum ausprobiert ziemlich': 1642, 'ziemlich entt uscht': 4830, 'preis knapp euro': 3631, 'knapp euro pfund': 1222, 'pfund mehr erhofft': 3524, 'mehr erhofft nat': 2370, 'ngt zubereitungsart wasser': 3030, 'zubereitungsart wasser usw': 4865, 'wasser usw ab': 4365, 'lie aroma nschen': 1863, 'nschen brig herer': 3194, 'nat rlich trotzdem': 2844, 'konnte wegsch tten': 1348, 'wegsch tten zwei': 4383, 'zwei sterne gibt': 4982, 'sterne gibt fairen': 4050, 'leistungverh': 1830, 'mild rzigem': 2557, 'kaffeevollautomaten un': 957, 'macchiato schmecken': 2112, 'preis leistungverh': 3646, 'leistungverh ltnis': 1831, 'leckerer espresso toller': 1730, 'mild rzigem geschmack': 2558, 'kaffeevollautomaten un dder': 958, 'latte macchiato schmecken': 1619, 'macchiato schmecken kaffe': 2113, 'preis leistungverh ltnis': 3647, 'leistungverh ltnis stimmt': 1832, 'maraba konzept': 2303, 'konzept berzeugt': 1395, 'kinder deren': 1133, 'kaufen daf': 1046, 'werbung besser': 4515, 'nie wirklich': 3057, 'wirklich klar': 4631, 'klar ankommt': 1146, 'maraba konzept berzeugt': 2304, 'konzept berzeugt schmeckt': 1396, 'kinder deren freunde': 1134, 'kaufen daf werbung': 1047, 'werbung besser entwicklungshilfe': 4516, 'nie wirklich klar': 3058, 'wirklich klar ankommt': 4632, 'besondere': 156, 'nachmittag': 2807, 'kotest': 1443, 'prim': 3714, 'marktvoraussetzungen': 2333, 'kotest ger': 1444, 'macht gerade': 2125, 'konzept coffee': 1399, 'nachhaltig sinn': 2795, 'prim kaffeearomen': 3715, 'leider effektiven': 1789, 'marktvoraussetzungen realistisch': 2334, 'kotest ger gt': 1445, 'macht gerade konzept': 2126, 'konzept coffee circle': 1400, 'nachhaltig sinn geht': 2796, 'prim kaffeearomen qualit': 3716, 'leider effektiven gewinnstreben': 1790, 'marktvoraussetzungen realistisch einfach': 2335, 'molinillo': 2690, 'nderte': 2871, 'weitestgehend': 4426, 'werkstatt': 4519, 'kleinstbauern': 1214, 'ndlichkeit': 2886, 'molinillo sorten': 2693, 'mehr trinke': 2414, 'papua espresso': 3423, 'zubereitet diesj': 4849, 'nderte molinillo': 2872, 'molinillo bleibt': 2691, 'weitestgehend hand': 4427, 'werkstatt behinderte': 4520, 'kleinstbauern ganzen': 1215, 'ndlichkeit berzeugt': 2887, 'molinillo sorten gibt': 2694, 'mehr trinke papua': 2415, 'papua espresso bialetti': 3424, 'zubereitet diesj hrige': 4850, 'nderte molinillo bleibt': 2873, 'molinillo bleibt beste': 2692, 'weitestgehend hand werkstatt': 4428, 'werkstatt behinderte menschen': 4521, 'menschen veredelt kleinstbauern': 2481, 'kleinstbauern ganzen kaffeeg': 1216, 'ndlichkeit berzeugt produkt': 2888, 'kunde': 1500, 'langfristig': 1599, 'kunde gepa': 1501, 'langfristig sozial': 1600, 'kologisch produkte': 1275, 'kunde gepa handelt': 1502, 'langfristig sozial kologisch': 1601, 'kologisch produkte erstklassig': 1276, 'zunge': 4950, 'wohl zunge': 4702, 'zunge sortiment': 4951, 'wohl zunge sortiment': 4703, 'vergleichbaren': 4270, 'papiert': 3419, 'mitbringe': 2622, 'zufall suche': 4905, 'klein gesto': 1179, 'preislich steht': 3705, 'steht produkt': 4022, 'vergleichbaren bio': 4271, 'preis discounter': 3612, 'discounter bio': 332, 'vergleichen sicher': 4284, 'kr ftigere': 1470, 'llt besser': 1982, 'magen rebelliert': 2174, 'plastik beutel': 3542, 'papiert ten': 3420, 'positiv produkt': 3569, 'zufall suche bio': 4906, 'klein gesto en': 1180, 'preislich steht produkt': 3706, 'vergleichbaren bio kaffees': 4272, 'nat rlich preis': 2842, 'preis discounter bio': 3613, 'vergleichen sicher bekommen': 4285, 'normalen kaffeemaschine ganze': 3161, 'kr ftigere geschmack': 1471, 'llt besser bekanntenkreis': 1983, 'magen rebelliert schon': 2175, 'plastik beutel verpackt': 3543, 'papiert ten insgesamt': 3421, 'positiv produkt bleibe': 3570, 'lavazza': 1634, 'mal nger': 2253, 'nger gelebt': 3013, 'kaufen weder': 1070, 'weder bio': 4372, 'llt kriterien': 1996, 'kriterien steht': 1491, 'steht geschmacklich': 4018, 'lavazza amp': 1635, 'mal nger gelebt': 2254, 'nger gelebt habende': 3014, 'nat rlich gro': 2837, 'kaufen weder bio': 1071, 'weder bio fair': 4373, 'llt kriterien steht': 1997, 'kriterien steht geschmacklich': 1492, 'steht geschmacklich lavazza': 4019, 'lavazza amp co': 1636, '140': 11, 'liter': 1962, 'kaffawildkaffee': 837, 'com': 270, '05': 0, 'fur': 545, 'vergleiche': 4276, 'llt kaffee': 1994, '140 liter': 12, 'liter wasser': 1963, 'wasser pro': 4362, 'pro tasse': 3745, 'tasse kaffee': 4152, 'kaffawildkaffee blogspot': 838, 'blogspot com': 221, 'com 2014': 271, '2014 05': 19, '05 140': 1, 'wasser fur': 4360, 'fur tasse': 546, 'kaffee html': 868, 'vergleiche sogar': 4277, 'preis wert': 3676, 'llt kaffee ausgezeichnet': 1995, '140 liter wasser': 13, 'liter wasser pro': 1965, 'wasser pro tasse': 4363, 'pro tasse kaffee': 3746, 'kaffawildkaffee blogspot com': 839, 'blogspot com 2014': 222, 'com 2014 05': 272, '2014 05 140': 20, '05 140 liter': 2, 'liter wasser fur': 1964, 'wasser fur tasse': 4361, 'fur tasse kaffee': 547, 'tasse kaffee html': 4153, 'nofollow http kaffawildkaffee': 3155, 'vergleiche sogar richtig': 4278, 'kraft': 1475, 'wirkung': 4669, 'kraft geschmack': 1476, 'wirkung positiv': 4670, 'kraft geschmack wirkung': 1477, 'wirkung positiv berrascht': 4671, 'langem': 1590, 'langem suchen': 1591, 'welt laden': 4440, 'laden gefunden': 1544, 'mild aromatisch': 2536, 'konzept besondere': 1397, 'preis angemessen': 3594, 'wohl teuer': 4698, 'langem suchen endlich': 1592, 'welt laden gefunden': 4441, 'laden gefunden tolles': 1545, 'mild aromatisch konzept': 2537, 'konzept besondere form': 1398, 'preis angemessen vieltrinker': 3595, 'wohl teuer gelegenheitstrinkerin': 4699}:\n"
          ],
          "name": "stdout"
        }
      ]
    },
    {
      "cell_type": "code",
      "metadata": {
        "id": "xYQNpvMoMP91"
      },
      "source": [
        "rf = RandomForestClassifier(n_estimators=500)"
      ],
      "execution_count": null,
      "outputs": []
    },
    {
      "cell_type": "code",
      "metadata": {
        "id": "Q2JWL-NsMp3A",
        "outputId": "717d160e-ee7e-4b95-925d-c3b0c6143d36",
        "colab": {
          "base_uri": "https://localhost:8080/",
          "height": 151
        }
      },
      "source": [
        "rf.fit(X_cv, y_train.values.ravel())"
      ],
      "execution_count": null,
      "outputs": [
        {
          "output_type": "execute_result",
          "data": {
            "text/plain": [
              "RandomForestClassifier(bootstrap=True, ccp_alpha=0.0, class_weight=None,\n",
              "                       criterion='gini', max_depth=None, max_features='auto',\n",
              "                       max_leaf_nodes=None, max_samples=None,\n",
              "                       min_impurity_decrease=0.0, min_impurity_split=None,\n",
              "                       min_samples_leaf=1, min_samples_split=2,\n",
              "                       min_weight_fraction_leaf=0.0, n_estimators=500,\n",
              "                       n_jobs=None, oob_score=False, random_state=None,\n",
              "                       verbose=0, warm_start=False)"
            ]
          },
          "metadata": {
            "tags": []
          },
          "execution_count": 79
        }
      ]
    },
    {
      "cell_type": "code",
      "metadata": {
        "id": "_RRbhPx7MscV",
        "outputId": "f3e2a783-d288-43f8-c297-42e57c85a188",
        "colab": {
          "base_uri": "https://localhost:8080/",
          "height": 134
        }
      },
      "source": [
        "rf.predict(X_test_cv)"
      ],
      "execution_count": null,
      "outputs": [
        {
          "output_type": "execute_result",
          "data": {
            "text/plain": [
              "array([1, 1, 1, 1, 1, 1, 1, 1, 1, 1, 1, 1, 1, 1, 1, 1, 1, 1, 1, 1, 1, 1,\n",
              "       1, 1, 1, 1, 1, 1, 1, 1, 1, 1, 1, 1, 1, 1, 1, 1, 1, 1, 1, 1, 1, 1,\n",
              "       1, 1, 1, 1, 1, 1, 1, 1, 1, 1, 1, 1, 1, 1, 1, 1, 1, 1, 1, 1, 1, 1,\n",
              "       1, 1, 1, 1, 1, 1, 1, 1, 1, 1, 1, 1, 1, 1, 1, 1, 1, 1, 1, 1, 1, 1,\n",
              "       1, 1, 1, 1, 1, 1, 1, 1, 1, 1, 1, 1, 1, 1, 1, 1, 1, 1, 1, 1, 1, 1,\n",
              "       1, 1, 1, 1, 1, 1, 1, 1, 1, 1, 1, 1, 1, 1, 1, 1, 1, 1, 1, 1, 1, 1,\n",
              "       1, 1, 1, 1, 1, 1, 1, 1])"
            ]
          },
          "metadata": {
            "tags": []
          },
          "execution_count": 75
        }
      ]
    },
    {
      "cell_type": "code",
      "metadata": {
        "id": "DtVLh21hMuwW"
      },
      "source": [
        "rf.predict_proba(X_test_cv)"
      ],
      "execution_count": null,
      "outputs": []
    },
    {
      "cell_type": "code",
      "metadata": {
        "id": "dH3X21kPTu-g",
        "outputId": "ef807f1c-d29b-4756-a44d-e05bfc29c4fc",
        "colab": {
          "base_uri": "https://localhost:8080/",
          "height": 34
        }
      },
      "source": [
        "from sklearn.metrics import roc_auc_score\n",
        "roc_auc_score(y_test, rf.predict_proba(X_test_cv)[::, 1])"
      ],
      "execution_count": null,
      "outputs": [
        {
          "output_type": "execute_result",
          "data": {
            "text/plain": [
              "0.7334280303030303"
            ]
          },
          "metadata": {
            "tags": []
          },
          "execution_count": 80
        }
      ]
    },
    {
      "cell_type": "code",
      "metadata": {
        "id": "6dAJAzjwP2Ka"
      },
      "source": [
        "##"
      ],
      "execution_count": null,
      "outputs": []
    },
    {
      "cell_type": "code",
      "metadata": {
        "id": "tl3wCgkvP2MW"
      },
      "source": [
        "importance = rf.feature_importances_\n",
        "# summarize feature importance\n",
        "for i,v in enumerate(importance):\n",
        "\tprint('Feature: %0d, Score: %.5f' % (i,v))\n",
        "# plot feature importance\n",
        "plt.bar([x for x in range(len(importance))], importance)\n",
        "plt.show()"
      ],
      "execution_count": null,
      "outputs": []
    },
    {
      "cell_type": "code",
      "metadata": {
        "id": "eSi8COFlP2Os",
        "outputId": "62bb3107-ab81-4749-b1b1-4f7dad6d2d03",
        "colab": {
          "base_uri": "https://localhost:8080/",
          "height": 445
        }
      },
      "source": [
        "feats = {} # a dict to hold feature_name: feature_importance\n",
        "for feature, importance in zip(cv.vocabulary_, rf.feature_importances_):\n",
        "    feats[feature] = importance #add the name/value pair \n",
        "\n",
        "importances = pd.DataFrame.from_dict(feats, orient='index').rename(columns={0: 'Gini-importance'})\n",
        "importances.sort_values(by='Gini-importance').plot(kind='bar', rot=45)"
      ],
      "execution_count": null,
      "outputs": [
        {
          "output_type": "execute_result",
          "data": {
            "text/plain": [
              "<matplotlib.axes._subplots.AxesSubplot at 0x7f151c3d21d0>"
            ]
          },
          "metadata": {
            "tags": []
          },
          "execution_count": 65
        },
        {
          "output_type": "display_data",
          "data": {
            "image/png": "[encoded data removed]",
            "text/plain": [
              "<Figure size 432x288 with 1 Axes>"
            ]
          },
          "metadata": {
            "tags": [],
            "needs_background": "light"
          }
        }
      ]
    },
    {
      "cell_type": "code",
      "metadata": {
        "id": "bAmjMzkcTJWR",
        "outputId": "1882e3e6-6ed7-45b4-f2b0-ab70678688ec",
        "colab": {
          "base_uri": "https://localhost:8080/",
          "height": 284
        }
      },
      "source": [
        "importances.describe()"
      ],
      "execution_count": null,
      "outputs": [
        {
          "output_type": "execute_result",
          "data": {
            "text/html": [
              "<div>\n",
              "<style scoped>\n",
              "    .dataframe tbody tr th:only-of-type {\n",
              "        vertical-align: middle;\n",
              "    }\n",
              "\n",
              "    .dataframe tbody tr th {\n",
              "        vertical-align: top;\n",
              "    }\n",
              "\n",
              "    .dataframe thead th {\n",
              "        text-align: right;\n",
              "    }\n",
              "</style>\n",
              "<table border=\"1\" class=\"dataframe\">\n",
              "  <thead>\n",
              "    <tr style=\"text-align: right;\">\n",
              "      <th></th>\n",
              "      <th>Gini-importance</th>\n",
              "    </tr>\n",
              "  </thead>\n",
              "  <tbody>\n",
              "    <tr>\n",
              "      <th>count</th>\n",
              "      <td>5000.000000</td>\n",
              "    </tr>\n",
              "    <tr>\n",
              "      <th>mean</th>\n",
              "      <td>0.000200</td>\n",
              "    </tr>\n",
              "    <tr>\n",
              "      <th>std</th>\n",
              "      <td>0.000826</td>\n",
              "    </tr>\n",
              "    <tr>\n",
              "      <th>min</th>\n",
              "      <td>0.000000</td>\n",
              "    </tr>\n",
              "    <tr>\n",
              "      <th>25%</th>\n",
              "      <td>0.000000</td>\n",
              "    </tr>\n",
              "    <tr>\n",
              "      <th>50%</th>\n",
              "      <td>0.000000</td>\n",
              "    </tr>\n",
              "    <tr>\n",
              "      <th>75%</th>\n",
              "      <td>0.000000</td>\n",
              "    </tr>\n",
              "    <tr>\n",
              "      <th>max</th>\n",
              "      <td>0.018959</td>\n",
              "    </tr>\n",
              "  </tbody>\n",
              "</table>\n",
              "</div>"
            ],
            "text/plain": [
              "       Gini-importance\n",
              "count      5000.000000\n",
              "mean          0.000200\n",
              "std           0.000826\n",
              "min           0.000000\n",
              "25%           0.000000\n",
              "50%           0.000000\n",
              "75%           0.000000\n",
              "max           0.018959"
            ]
          },
          "metadata": {
            "tags": []
          },
          "execution_count": 66
        }
      ]
    },
    {
      "cell_type": "code",
      "metadata": {
        "id": "AKB4ahLiP2Rr"
      },
      "source": [
        "selected_importance = importances.loc[importances['Gini-importance']> 0.01, :]"
      ],
      "execution_count": null,
      "outputs": []
    },
    {
      "cell_type": "code",
      "metadata": {
        "id": "sDaT1_WiRjYk",
        "outputId": "728303bc-6831-424a-f9bf-5d181e31b2c0",
        "colab": {
          "base_uri": "https://localhost:8080/",
          "height": 389
        }
      },
      "source": [
        "selected_importance.sort_values(by='Gini-importance').plot(kind='bar', rot=45)"
      ],
      "execution_count": null,
      "outputs": [
        {
          "output_type": "execute_result",
          "data": {
            "text/plain": [
              "<matplotlib.axes._subplots.AxesSubplot at 0x7f151c74da58>"
            ]
          },
          "metadata": {
            "tags": []
          },
          "execution_count": 68
        },
        {
          "output_type": "display_data",
          "data": {
            "image/png": "[encoded data removed]",
            "text/plain": [
              "<Figure size 432x288 with 1 Axes>"
            ]
          },
          "metadata": {
            "tags": [],
            "needs_background": "light"
          }
        }
      ]
    },
    {
      "cell_type": "code",
      "metadata": {
        "id": "qoY3GQw2R7Dt"
      },
      "source": [
        "from sklearn.linear_model import LinearRegression\n"
      ],
      "execution_count": null,
      "outputs": []
    },
    {
      "cell_type": "code",
      "metadata": {
        "id": "QJq4hNiWYsdm"
      },
      "source": [
        "##\n",
        "test_copy = test.copy()\n",
        "test_copy['sentiment'] = y_test\n",
        "test_copy['pred'] = rf.predict_proba(X_test_cv)[::, 1]"
      ],
      "execution_count": null,
      "outputs": []
    },
    {
      "cell_type": "code",
      "metadata": {
        "id": "Nqi8az7iZb4f",
        "outputId": "775ab70b-1c4c-44ec-b43b-8f4f54e805be",
        "colab": {
          "base_uri": "https://localhost:8080/",
          "height": 502
        }
      },
      "source": [
        "bad_test = test_copy.loc[test_copy['sentiment'] == 0, :]\n",
        "bad_test.head(10)"
      ],
      "execution_count": null,
      "outputs": [
        {
          "output_type": "execute_result",
          "data": {
            "text/html": [
              "<div>\n",
              "<style scoped>\n",
              "    .dataframe tbody tr th:only-of-type {\n",
              "        vertical-align: middle;\n",
              "    }\n",
              "\n",
              "    .dataframe tbody tr th {\n",
              "        vertical-align: top;\n",
              "    }\n",
              "\n",
              "    .dataframe thead th {\n",
              "        text-align: right;\n",
              "    }\n",
              "</style>\n",
              "<table border=\"1\" class=\"dataframe\">\n",
              "  <thead>\n",
              "    <tr style=\"text-align: right;\">\n",
              "      <th></th>\n",
              "      <th>review</th>\n",
              "      <th>sentiment</th>\n",
              "      <th>pred</th>\n",
              "    </tr>\n",
              "  </thead>\n",
              "  <tbody>\n",
              "    <tr>\n",
              "      <th>36</th>\n",
              "      <td>Ich nutze von REWE Bio Röstkaffee Fairtrade die Kaffeepads für meine Senseomaschiene. Ich habe schon einige Biokaffees ausprobiert und muss sagen, dass mir der REWE Bio Röstkaffee Fairtrade am Besten schmeckt. Das Preis/Leistungsverhältnis ist super, wenn man bedenkt, wie teuer die original Senseopads sind (ohne Bio und Fairtradesiegel!).</td>\n",
              "      <td>0</td>\n",
              "      <td>0.792000</td>\n",
              "    </tr>\n",
              "    <tr>\n",
              "      <th>102</th>\n",
              "      <td>Aus einigen Testberichten verschiedener Internet-Communitys wurde darauf hingewiesen das die Handelskette nicht transparent ist und auch der Ursprung des Kaffees nicht eindeutig ist. Auch die Verpackung ist nicht wirklich aus nachhaltigen Materialien. Ich finde die Firmen-Philosophie fragwürdig. Bio, Fairtrade und Nachhaltige Verpackung sollten sich meiner Meinung nach ergänzen.</td>\n",
              "      <td>0</td>\n",
              "      <td>0.994000</td>\n",
              "    </tr>\n",
              "    <tr>\n",
              "      <th>58</th>\n",
              "      <td>diesen Kaffee kann man nicht trinken, das so was Kaffee genannt wird ist befremdend, würde ich nie mehr kaufen! Ist einfach ein grauenvolles Abwaschwasser, egal ob fair trade oder nicht – schmeckt einfach furchtbar. Ich habe die fast volle Packung in den Müll geworfen.</td>\n",
              "      <td>0</td>\n",
              "      <td>0.992000</td>\n",
              "    </tr>\n",
              "    <tr>\n",
              "      <th>43</th>\n",
              "      <td>Kaffeebörse in Nairobi: Für Fairtrade Kaffee gibt es einen Festpreis – der liegt aber nur knapp über den Weltmarkt-Niveau. Um eine bäuerliche Mittelschicht aufzubauen, müssten die Pflückerinnen und der Bauer mit midestens 10 Cent pro Tasse entlohnt werden. Im Schnitt liget das Gehalt aber nur bei ca. 3 US Doller am Tag. Des weiteren ist der Zoll von rohen Kaffeebohnen zu niedrig. Wirklich Fair wäre es, wenn die Bauern ihren Kaffe selbst rösten, verpacken und vermarkten könnten. Denn für gerösteten Kaffee liegt der Zoll deutlich höher.</td>\n",
              "      <td>0</td>\n",
              "      <td>0.966667</td>\n",
              "    </tr>\n",
              "    <tr>\n",
              "      <th>77</th>\n",
              "      <td>Ich hatte ähnliche Erfahrungen wie NicoH. Immer noch keine Lieferung, kein Geld zurück und keine Rückantwort vom Kundenservice. Würde hier nie wieder bestellen! Insbesondere da der Kundenservice es noch nicht einmal für nötif hält zu antworten. Bin sehr enttäuscht von dieser Behandlung und kann nur davon abraten hier zu bestellen.</td>\n",
              "      <td>0</td>\n",
              "      <td>0.954000</td>\n",
              "    </tr>\n",
              "    <tr>\n",
              "      <th>42</th>\n",
              "      <td>Fairtrade Logo = Armut light &amp;amp; keine Transparenz</td>\n",
              "      <td>0</td>\n",
              "      <td>0.994000</td>\n",
              "    </tr>\n",
              "    <tr>\n",
              "      <th>99</th>\n",
              "      <td>Der Kaffee ist große Klasse, da gibt es nachwievor nix zu meckern dran. Aber Inhalt ist nicht alles. Die letzte Verpackung hat in der Papierhülle jetzt Plastik mit reingemischt. Ich frag mich, wozu das gut sein soll. Für mich ein Grund zum Punkteabzug.</td>\n",
              "      <td>0</td>\n",
              "      <td>0.987333</td>\n",
              "    </tr>\n",
              "    <tr>\n",
              "      <th>60</th>\n",
              "      <td>Der Kaffee schmeckt auf jeden Fall sehr gut und aromatisch. Dass es ihn nur in Bohnenform gibt, stört mich persönlich nicht, da ich meinen Kaffee morgens sowieso am liebsten frisch in meiner Handmühle mahle. Irritiert bin ich nur wirklich sehr durch den geringen Preis. Kann das wirklich so fair vonstatten gehen? Daher vergebe ich nur drei Sterne.</td>\n",
              "      <td>0</td>\n",
              "      <td>0.975000</td>\n",
              "    </tr>\n",
              "  </tbody>\n",
              "</table>\n",
              "</div>"
            ],
            "text/plain": [
              "                                                                                                                                                                                                                                                                                                                                                                                                                                                                                                                                                           review  ...      pred\n",
              "36                                                                                                                                                                                                           Ich nutze von REWE Bio Röstkaffee Fairtrade die Kaffeepads für meine Senseomaschiene. Ich habe schon einige Biokaffees ausprobiert und muss sagen, dass mir der REWE Bio Röstkaffee Fairtrade am Besten schmeckt. Das Preis/Leistungsverhältnis ist super, wenn man bedenkt, wie teuer die original Senseopads sind (ohne Bio und Fairtradesiegel!).  ...  0.792000\n",
              "102                                                                                                                                                                 Aus einigen Testberichten verschiedener Internet-Communitys wurde darauf hingewiesen das die Handelskette nicht transparent ist und auch der Ursprung des Kaffees nicht eindeutig ist. Auch die Verpackung ist nicht wirklich aus nachhaltigen Materialien. Ich finde die Firmen-Philosophie fragwürdig. Bio, Fairtrade und Nachhaltige Verpackung sollten sich meiner Meinung nach ergänzen.  ...  0.994000\n",
              "58                                                                                                                                                                                                                                                                                  diesen Kaffee kann man nicht trinken, das so was Kaffee genannt wird ist befremdend, würde ich nie mehr kaufen! Ist einfach ein grauenvolles Abwaschwasser, egal ob fair trade oder nicht – schmeckt einfach furchtbar. Ich habe die fast volle Packung in den Müll geworfen.  ...  0.992000\n",
              "43   Kaffeebörse in Nairobi: Für Fairtrade Kaffee gibt es einen Festpreis – der liegt aber nur knapp über den Weltmarkt-Niveau. Um eine bäuerliche Mittelschicht aufzubauen, müssten die Pflückerinnen und der Bauer mit midestens 10 Cent pro Tasse entlohnt werden. Im Schnitt liget das Gehalt aber nur bei ca. 3 US Doller am Tag. Des weiteren ist der Zoll von rohen Kaffeebohnen zu niedrig. Wirklich Fair wäre es, wenn die Bauern ihren Kaffe selbst rösten, verpacken und vermarkten könnten. Denn für gerösteten Kaffee liegt der Zoll deutlich höher.  ...  0.966667\n",
              "77                                                                                                                                                                                                                   Ich hatte ähnliche Erfahrungen wie NicoH. Immer noch keine Lieferung, kein Geld zurück und keine Rückantwort vom Kundenservice. Würde hier nie wieder bestellen! Insbesondere da der Kundenservice es noch nicht einmal für nötif hält zu antworten. Bin sehr enttäuscht von dieser Behandlung und kann nur davon abraten hier zu bestellen.  ...  0.954000\n",
              "42                                                                                                                                                                                                                                                                                                                                                                                                                                                                                                           Fairtrade Logo = Armut light &amp; keine Transparenz  ...  0.994000\n",
              "99                                                                                                                                                                                                                                                                                                   Der Kaffee ist große Klasse, da gibt es nachwievor nix zu meckern dran. Aber Inhalt ist nicht alles. Die letzte Verpackung hat in der Papierhülle jetzt Plastik mit reingemischt. Ich frag mich, wozu das gut sein soll. Für mich ein Grund zum Punkteabzug.  ...  0.987333\n",
              "60                                                                                                                                                                                                   Der Kaffee schmeckt auf jeden Fall sehr gut und aromatisch. Dass es ihn nur in Bohnenform gibt, stört mich persönlich nicht, da ich meinen Kaffee morgens sowieso am liebsten frisch in meiner Handmühle mahle. Irritiert bin ich nur wirklich sehr durch den geringen Preis. Kann das wirklich so fair vonstatten gehen? Daher vergebe ich nur drei Sterne.  ...  0.975000\n",
              "\n",
              "[8 rows x 3 columns]"
            ]
          },
          "metadata": {
            "tags": []
          },
          "execution_count": 118
        }
      ]
    },
    {
      "cell_type": "code",
      "metadata": {
        "id": "ijPkW7zIM082"
      },
      "source": [
        "## Tet on your own Sentence"
      ],
      "execution_count": null,
      "outputs": []
    },
    {
      "cell_type": "code",
      "metadata": {
        "id": "abFnI3-XM0-u"
      },
      "source": [
        "corpus = ['Ich hasse diesen Kaffee. Schmeckt schlecht. stern abzug preis. nie wieder']"
      ],
      "execution_count": null,
      "outputs": []
    },
    {
      "cell_type": "code",
      "metadata": {
        "id": "atTL2IpQM1A9"
      },
      "source": [
        "own_text = cv.transform(corpus).toarray()"
      ],
      "execution_count": null,
      "outputs": []
    },
    {
      "cell_type": "code",
      "metadata": {
        "id": "4hWeRk8CM1Di",
        "outputId": "4e449169-dade-4c6b-acc1-1dfabf87ed6c",
        "colab": {
          "base_uri": "https://localhost:8080/",
          "height": 34
        }
      },
      "source": [
        "rf.predict_proba(own_text)"
      ],
      "execution_count": null,
      "outputs": [
        {
          "output_type": "execute_result",
          "data": {
            "text/plain": [
              "array([[0.024, 0.976]])"
            ]
          },
          "metadata": {
            "tags": []
          },
          "execution_count": 110
        }
      ]
    },
    {
      "cell_type": "code",
      "metadata": {
        "id": "Gei4wEfCXhbl",
        "outputId": "1861cf2d-472c-4c96-b817-c2b378844e97",
        "colab": {
          "base_uri": "https://localhost:8080/",
          "height": 34
        }
      },
      "source": [
        "df.columns"
      ],
      "execution_count": null,
      "outputs": [
        {
          "output_type": "execute_result",
          "data": {
            "text/plain": [
              "Index(['brand', 'rating', 'review', 'sentiment'], dtype='object')"
            ]
          },
          "metadata": {
            "tags": []
          },
          "execution_count": 97
        }
      ]
    },
    {
      "cell_type": "code",
      "metadata": {
        "id": "7f6oV2JCYBnw"
      },
      "source": [
        "pd.set_option('display.max_colwidth', None)"
      ],
      "execution_count": null,
      "outputs": []
    },
    {
      "cell_type": "code",
      "metadata": {
        "id": "ZfTFkMpsM1Gr",
        "outputId": "f8dd2d52-1564-41e0-afc5-1ac5916ab2c1",
        "colab": {
          "base_uri": "https://localhost:8080/",
          "height": 330
        }
      },
      "source": [
        "bad_reviews = df.loc[df['rating']<3, ['review', 'rating']]\n",
        "bad_reviews.head()"
      ],
      "execution_count": null,
      "outputs": [
        {
          "output_type": "execute_result",
          "data": {
            "text/html": [
              "<div>\n",
              "<style scoped>\n",
              "    .dataframe tbody tr th:only-of-type {\n",
              "        vertical-align: middle;\n",
              "    }\n",
              "\n",
              "    .dataframe tbody tr th {\n",
              "        vertical-align: top;\n",
              "    }\n",
              "\n",
              "    .dataframe thead th {\n",
              "        text-align: right;\n",
              "    }\n",
              "</style>\n",
              "<table border=\"1\" class=\"dataframe\">\n",
              "  <thead>\n",
              "    <tr style=\"text-align: right;\">\n",
              "      <th></th>\n",
              "      <th>review</th>\n",
              "      <th>rating</th>\n",
              "    </tr>\n",
              "  </thead>\n",
              "  <tbody>\n",
              "    <tr>\n",
              "      <th>28</th>\n",
              "      <td>Da es unsere Sorte grad nicht gab, haben wir den REWE Bio Röstkaffee Fairtrade gekauft und dieser hat uns überzeugt. Der Kaffee schmeckt vollmundig und mild und es gibt ihn zu einem guten Preis-/ Leistungsverhältnis. Dieser werden wir jetzt öfters kaufen.</td>\n",
              "      <td>1</td>\n",
              "    </tr>\n",
              "    <tr>\n",
              "      <th>29</th>\n",
              "      <td>Dafür, dass der Kaffee laut Fernsehwerbung extrem schonen und mit niedriger Temperatur geröstet wird, enthält er einige verbrannte Bohnen. Ferner wird der Kaffee mit Schalen gestreckt. Das hört man im Mahlwerk ab und zu. Man kann aber auch einfach mal den Kaffee auf weißes Papier oder ein Tuch schütten (vielleicht 2 Eßlöffel) und sich das Bohnenbild anschauen. Habe bei Tchibo angerufen und mich beschwert. Am Telefon bekam ich gesagt, dass man diesbezüglich nichts machen könne. Schade; nie wieder!</td>\n",
              "      <td>1</td>\n",
              "    </tr>\n",
              "    <tr>\n",
              "      <th>36</th>\n",
              "      <td>Ich nutze von REWE Bio Röstkaffee Fairtrade die Kaffeepads für meine Senseomaschiene. Ich habe schon einige Biokaffees ausprobiert und muss sagen, dass mir der REWE Bio Röstkaffee Fairtrade am Besten schmeckt. Das Preis/Leistungsverhältnis ist super, wenn man bedenkt, wie teuer die original Senseopads sind (ohne Bio und Fairtradesiegel!).</td>\n",
              "      <td>1</td>\n",
              "    </tr>\n",
              "    <tr>\n",
              "      <th>37</th>\n",
              "      <td>Naturland von Rewe</td>\n",
              "      <td>1</td>\n",
              "    </tr>\n",
              "    <tr>\n",
              "      <th>38</th>\n",
              "      <td>Naturland gibt auf ihrer Internetseite an, dass Sie den Öko-Landbau stärken wollen. Was prinzipiell erst mal nicht schlecht ist. Mit der Rewe Kooperation wird ihnen dieses auch gelingen. Bio aus dem Supermarkt ist oft billiger als die Ware aus dem Bioladen. Um die Bio-Ware so günstig verkaufen zu können, drücken die Supermärkte die Preise bei den Erzeugern.</td>\n",
              "      <td>1</td>\n",
              "    </tr>\n",
              "  </tbody>\n",
              "</table>\n",
              "</div>"
            ],
            "text/plain": [
              "                                                                                                                                                                                                                                                                                                                                                                                                                                                                                                                   review  rating\n",
              "28                                                                                                                                                                                                                                                        Da es unsere Sorte grad nicht gab, haben wir den REWE Bio Röstkaffee Fairtrade gekauft und dieser hat uns überzeugt. Der Kaffee schmeckt vollmundig und mild und es gibt ihn zu einem guten Preis-/ Leistungsverhältnis. Dieser werden wir jetzt öfters kaufen.       1\n",
              "29  Dafür, dass der Kaffee laut Fernsehwerbung extrem schonen und mit niedriger Temperatur geröstet wird, enthält er einige verbrannte Bohnen. Ferner wird der Kaffee mit Schalen gestreckt. Das hört man im Mahlwerk ab und zu. Man kann aber auch einfach mal den Kaffee auf weißes Papier oder ein Tuch schütten (vielleicht 2 Eßlöffel) und sich das Bohnenbild anschauen. Habe bei Tchibo angerufen und mich beschwert. Am Telefon bekam ich gesagt, dass man diesbezüglich nichts machen könne. Schade; nie wieder!       1\n",
              "36                                                                                                                                                                   Ich nutze von REWE Bio Röstkaffee Fairtrade die Kaffeepads für meine Senseomaschiene. Ich habe schon einige Biokaffees ausprobiert und muss sagen, dass mir der REWE Bio Röstkaffee Fairtrade am Besten schmeckt. Das Preis/Leistungsverhältnis ist super, wenn man bedenkt, wie teuer die original Senseopads sind (ohne Bio und Fairtradesiegel!).       1\n",
              "37                                                                                                                                                                                                                                                                                                                                                                                                                                                                                                     Naturland von Rewe       1\n",
              "38                                                                                                                                                Naturland gibt auf ihrer Internetseite an, dass Sie den Öko-Landbau stärken wollen. Was prinzipiell erst mal nicht schlecht ist. Mit der Rewe Kooperation wird ihnen dieses auch gelingen. Bio aus dem Supermarkt ist oft billiger als die Ware aus dem Bioladen. Um die Bio-Ware so günstig verkaufen zu können, drücken die Supermärkte die Preise bei den Erzeugern.       1"
            ]
          },
          "metadata": {
            "tags": []
          },
          "execution_count": 111
        }
      ]
    },
    {
      "cell_type": "markdown",
      "metadata": {
        "id": "i5bAJdbcY5II"
      },
      "source": [
        "Und das ist die absolut wichtigste Lektion: Shit in. Shit out"
      ]
    },
    {
      "cell_type": "code",
      "metadata": {
        "id": "m5E-CZ_2Y3pY"
      },
      "source": [
        ""
      ],
      "execution_count": null,
      "outputs": []
    }
  ]
}